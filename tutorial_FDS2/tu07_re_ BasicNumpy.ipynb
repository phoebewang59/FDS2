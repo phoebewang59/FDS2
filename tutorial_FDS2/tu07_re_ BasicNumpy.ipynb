{
 "cells": [
  {
   "cell_type": "markdown",
   "id": "af4e3e05",
   "metadata": {},
   "source": [
    "# Numpy Review"
   ]
  },
  {
   "cell_type": "markdown",
   "id": "263a8f38",
   "metadata": {},
   "source": [
    "In this review, we are going to refresh our memories about the Numpy package. Numpy (numerical Python) is the basic engine that turns Python into a tool for data analysis. Anything \"data sciency\" that you do in Python will rely on Numpy at some point, either explicitly (when calling Numpy fuctions directly), or implicitly (when, e.g., using Pandas).\n",
    "\n",
    "The point of Numpy is do make working with data in Python easier and faster. Here, we going to remind ourselves of basic Numpy functionality."
   ]
  },
  {
   "cell_type": "markdown",
   "id": "d9164dd0",
   "metadata": {},
   "source": [
    "## Python lists"
   ]
  },
  {
   "cell_type": "markdown",
   "id": "0c795142",
   "metadata": {},
   "source": [
    "First, let's look at a basic Python list:"
   ]
  },
  {
   "cell_type": "code",
   "execution_count": 2,
   "id": "7cc6c461",
   "metadata": {
    "tags": []
   },
   "outputs": [],
   "source": [
    "a_list = [2, 4, 6, 8]"
   ]
  },
  {
   "cell_type": "markdown",
   "id": "26276c4e",
   "metadata": {},
   "source": [
    "---"
   ]
  },
  {
   "cell_type": "markdown",
   "id": "8fa82896",
   "metadata": {},
   "source": [
    "Just to warm up, let's get some items from our list via *indexing*:"
   ]
  },
  {
   "cell_type": "markdown",
   "id": "a87cf75e",
   "metadata": {},
   "source": [
    "Get the first number from the list (the \"zeroith\" number in Pythonese):"
   ]
  },
  {
   "cell_type": "code",
   "execution_count": 3,
   "id": "dd34fc43",
   "metadata": {
    "tags": []
   },
   "outputs": [
    {
     "data": {
      "text/plain": [
       "2"
      ]
     },
     "execution_count": 3,
     "metadata": {},
     "output_type": "execute_result"
    }
   ],
   "source": [
    "a_list[0]"
   ]
  },
  {
   "cell_type": "markdown",
   "id": "d0970823",
   "metadata": {},
   "source": [
    "Get the last two numbers:"
   ]
  },
  {
   "cell_type": "code",
   "execution_count": 6,
   "id": "ac62c284",
   "metadata": {
    "tags": []
   },
   "outputs": [
    {
     "data": {
      "text/plain": [
       "[6, 8]"
      ]
     },
     "execution_count": 6,
     "metadata": {},
     "output_type": "execute_result"
    }
   ],
   "source": [
    "a_list[2:]"
   ]
  },
  {
   "cell_type": "markdown",
   "id": "4230f073",
   "metadata": {},
   "source": [
    "---"
   ]
  },
  {
   "cell_type": "markdown",
   "id": "5040da6b",
   "metadata": {},
   "source": [
    "Now let's make a *nested* Python list:"
   ]
  },
  {
   "cell_type": "code",
   "execution_count": 7,
   "id": "fb81b0b3",
   "metadata": {
    "tags": []
   },
   "outputs": [],
   "source": [
    "a_nested_list = [[2, 4], [3, -1], [-2, 1]]"
   ]
  },
  {
   "cell_type": "markdown",
   "id": "900ef805",
   "metadata": {},
   "source": [
    "Remember that a Python list can hold data of different types, lengths, etc., but this list is special; it is a *list of lists* all of the same length.\n",
    "\n",
    "Let's have a look:"
   ]
  },
  {
   "cell_type": "code",
   "execution_count": 8,
   "id": "a3b8c441",
   "metadata": {
    "tags": []
   },
   "outputs": [
    {
     "name": "stdout",
     "output_type": "stream",
     "text": [
      "[[2, 4], [3, -1], [-2, 1]]\n"
     ]
    }
   ],
   "source": [
    "print(a_nested_list)"
   ]
  },
  {
   "cell_type": "markdown",
   "id": "959b1950",
   "metadata": {},
   "source": [
    "How would we get the first entry in the second list? \n",
    "\n",
    "We could do it in two steps... first, get the second list:"
   ]
  },
  {
   "cell_type": "code",
   "execution_count": 9,
   "id": "0f55e496",
   "metadata": {
    "tags": []
   },
   "outputs": [],
   "source": [
    "sec_list = a_nested_list[1]"
   ]
  },
  {
   "cell_type": "markdown",
   "id": "b8935560",
   "metadata": {},
   "source": [
    "And then get the first entry:"
   ]
  },
  {
   "cell_type": "code",
   "execution_count": 10,
   "id": "d49befc0",
   "metadata": {
    "tags": []
   },
   "outputs": [
    {
     "name": "stdout",
     "output_type": "stream",
     "text": [
      "3\n"
     ]
    }
   ],
   "source": [
    "my_num = sec_list[0]\n",
    "print(my_num)"
   ]
  },
  {
   "cell_type": "markdown",
   "id": "69738102",
   "metadata": {},
   "source": [
    "Conveniently, we can just do this in one go:"
   ]
  },
  {
   "cell_type": "code",
   "execution_count": 11,
   "id": "ea9780ab",
   "metadata": {
    "tags": []
   },
   "outputs": [
    {
     "name": "stdout",
     "output_type": "stream",
     "text": [
      "3\n"
     ]
    }
   ],
   "source": [
    "my_num = a_nested_list[1][0]\n",
    "print(my_num)"
   ]
  },
  {
   "cell_type": "markdown",
   "id": "dd28507a",
   "metadata": {},
   "source": [
    "This does the same thing without having to invoke the intermediate variable `sec_list`. \n",
    "\n",
    "While this list-of-lists construct might seem a little abstract, there is actually a nice way to wrap our heads around it, which is to think of it as a *matrix*."
   ]
  },
  {
   "cell_type": "markdown",
   "id": "573a5f19",
   "metadata": {},
   "source": [
    "> Unfortunately, no one can be told what the Matrix is. You have to see it for yourself. *- Morpheus*"
   ]
  },
  {
   "cell_type": "markdown",
   "id": "9fbc145c",
   "metadata": {},
   "source": [
    "Here is an example of a matrix:\n",
    "\n",
    "![A matrix](./images/mailboxes.png)"
   ]
  },
  {
   "cell_type": "markdown",
   "id": "9d94685f",
   "metadata": {},
   "source": [
    "A ***matrix*** is a 2 dimensional (2D) arrangement of things and, for our purposes, the things are data of one form or another (numbers, strings, timestamps, etc.).\n",
    "\n",
    "These mailboxes are numbered sequentially, because there are other mailboxes in other matrices and that's just how the USPS rolls. But, notice that, for *this* matrix of mailboxes, there is another way in which we could uniquely refer to each mailbox. Specifically, we could uniquely specify each mailbox by the *row* it is in and the *column* it is in.\n",
    "\n",
    "For example, the open mailbox with the key in the door is in the 2nd row and the 4th column or, in terms of Python indexes, the mailbox is at location [1, 3]. "
   ]
  },
  {
   "cell_type": "markdown",
   "id": "10966ec4",
   "metadata": {},
   "source": [
    "So, we can think of matrix as an arrangement of data that has a built in ***spatial coordinate system*** used to refer to the items of data."
   ]
  },
  {
   "cell_type": "markdown",
   "id": "a708411b",
   "metadata": {},
   "source": [
    "Here's another Python list of lists:"
   ]
  },
  {
   "cell_type": "code",
   "execution_count": 12,
   "id": "e61fbe3d",
   "metadata": {
    "tags": []
   },
   "outputs": [],
   "source": [
    "another_nested_list = [[3.3, 2.3, 2.2], [1.2, 7.8, 8.7], [4.8, 2.2, 6.5],\n",
    "                       [1.5, 7.5, 9.5], [5.9, 1.6, 7.7]]"
   ]
  },
  {
   "cell_type": "markdown",
   "id": "088a7664",
   "metadata": {},
   "source": [
    "As far as Python is concerned, this is just a list that happens to contain 5 lists, each of length 3:"
   ]
  },
  {
   "cell_type": "code",
   "execution_count": 14,
   "id": "2d5746d4",
   "metadata": {
    "tags": []
   },
   "outputs": [
    {
     "name": "stdout",
     "output_type": "stream",
     "text": [
      "Another nested Python list: [[3.3, 2.3, 2.2], [1.2, 7.8, 8.7], [4.8, 2.2, 6.5], [1.5, 7.5, 9.5], [5.9, 1.6, 7.7]]\n"
     ]
    }
   ],
   "source": [
    "print(f'Another nested Python list: {another_nested_list}')"
   ]
  },
  {
   "cell_type": "markdown",
   "id": "e7d08cbc",
   "metadata": {},
   "source": [
    "But it makes sense for our human brains to think about it as a 2D arrangement of data, like this: "
   ]
  },
  {
   "cell_type": "markdown",
   "id": "d3285696",
   "metadata": {},
   "source": [
    "| row # | Col # | | | | |\n",
    "| ---- | ---- | ---- | ---- | ---- | ---- |\n",
    "|   | 0 | 1 | 2 | 3 |  4 | 5 |\n",
    "| 0 | 3.3 | 1.2 | 4.8 | 1.5 |  5.9 | 9.0 |\n",
    "| 1 | 2.3 | 7.8 | 2.2 | 7.5 |  1.6 | 8.1 |\n",
    "| 2 | 2.2 | 8.7 | 6.5 | 9.5 |  7.7 | 5.2 |"
   ]
  },
  {
   "cell_type": "markdown",
   "id": "a6761761",
   "metadata": {},
   "source": [
    "Now we can think of the Python indexes used to access the data as spatial ***row*** and ***column*** coordinates. For example:"
   ]
  },
  {
   "cell_type": "code",
   "execution_count": 15,
   "id": "2a3cce16",
   "metadata": {
    "tags": []
   },
   "outputs": [
    {
     "data": {
      "text/plain": [
       "2.2"
      ]
     },
     "execution_count": 15,
     "metadata": {},
     "output_type": "execute_result"
    }
   ],
   "source": [
    "another_nested_list[2][1]"
   ]
  },
  {
   "cell_type": "markdown",
   "id": "627a0d27",
   "metadata": {},
   "source": [
    "fetches the data value in the second row (row index 1) and the third column (column index 2). \n",
    "\n",
    "Even though, in Python terms, `another_nested_list` is just a list of lists that all happen to be of the same length, it's very helpful for us to map data like this onto a matrix and think of the indexes as coordinates."
   ]
  },
  {
   "cell_type": "markdown",
   "id": "b807350d",
   "metadata": {},
   "source": [
    "## Numpy"
   ]
  },
  {
   "cell_type": "markdown",
   "id": "46de4820",
   "metadata": {},
   "source": [
    "Numpy is a big and powerful package, but you can think of it's most basic function as making this matrix-like way of thinking about data explicit, as opposed to just a cute way of thinking about lists of lists."
   ]
  },
  {
   "cell_type": "markdown",
   "id": "cbf08d0c",
   "metadata": {},
   "source": [
    "To use numpy, we first import it. Traditionally, it is imported under the name \"`np`\"."
   ]
  },
  {
   "cell_type": "code",
   "execution_count": 2,
   "id": "6c5981a7",
   "metadata": {
    "tags": []
   },
   "outputs": [],
   "source": [
    "import numpy as np"
   ]
  },
  {
   "cell_type": "markdown",
   "id": "49fcaf5f",
   "metadata": {},
   "source": [
    "Now we can convert our latest nested list into a numpy matrix using numpy's `array()` function:"
   ]
  },
  {
   "cell_type": "code",
   "execution_count": 17,
   "id": "df35a131",
   "metadata": {
    "tags": []
   },
   "outputs": [],
   "source": [
    "our_numpy_matrix = np.array(another_nested_list)"
   ]
  },
  {
   "cell_type": "markdown",
   "id": "4d9b1ddf",
   "metadata": {},
   "source": [
    "Let's look at our new matrix!"
   ]
  },
  {
   "cell_type": "code",
   "execution_count": 18,
   "id": "dc7a5bc1",
   "metadata": {
    "tags": []
   },
   "outputs": [
    {
     "name": "stdout",
     "output_type": "stream",
     "text": [
      "[[3.3 2.3 2.2]\n",
      " [1.2 7.8 8.7]\n",
      " [4.8 2.2 6.5]\n",
      " [1.5 7.5 9.5]\n",
      " [5.9 1.6 7.7]]\n"
     ]
    }
   ],
   "source": [
    "print(our_numpy_matrix)"
   ]
  },
  {
   "cell_type": "markdown",
   "id": "34fa7754",
   "metadata": {},
   "source": [
    "And compare it to the Python list from which we created it."
   ]
  },
  {
   "cell_type": "code",
   "execution_count": 19,
   "id": "d38bf980",
   "metadata": {
    "tags": []
   },
   "outputs": [
    {
     "name": "stdout",
     "output_type": "stream",
     "text": [
      "[[3.3, 2.3, 2.2], [1.2, 7.8, 8.7], [4.8, 2.2, 6.5], [1.5, 7.5, 9.5], [5.9, 1.6, 7.7]]\n"
     ]
    }
   ],
   "source": [
    "print(another_nested_list)"
   ]
  },
  {
   "cell_type": "markdown",
   "id": "4f5a090a",
   "metadata": {},
   "source": [
    "We can see that the numpy version has made the spatial row x column arrangement explicit.\n",
    "\n",
    "Now, getting data values is easy peasy, we just index into our new matrix with row and column coordinates of a desired value:"
   ]
  },
  {
   "cell_type": "code",
   "execution_count": 20,
   "id": "f9fe1a5a",
   "metadata": {
    "tags": []
   },
   "outputs": [
    {
     "data": {
      "text/plain": [
       "4.8"
      ]
     },
     "execution_count": 20,
     "metadata": {},
     "output_type": "execute_result"
    }
   ],
   "source": [
    "our_numpy_matrix[2,0] # get the data at the third row and first column"
   ]
  },
  {
   "cell_type": "markdown",
   "id": "7aa25178",
   "metadata": {},
   "source": [
    "Let's see what data type our new matrix is, according to Python:"
   ]
  },
  {
   "cell_type": "code",
   "execution_count": 21,
   "id": "56e35e7e",
   "metadata": {
    "tags": []
   },
   "outputs": [
    {
     "data": {
      "text/plain": [
       "numpy.ndarray"
      ]
     },
     "execution_count": 21,
     "metadata": {},
     "output_type": "execute_result"
    }
   ],
   "source": [
    "type(our_numpy_matrix)"
   ]
  },
  {
   "cell_type": "markdown",
   "id": "5bd907fd",
   "metadata": {},
   "source": [
    "So our new matrix is a Python object made by numpy of type \"ndarray\", which is short for \"N-dimesional array\" – we'll unpack this in a bit.\n",
    "\n",
    "But our object contains other objects (in that Pythonic way), so let's see what they are:"
   ]
  },
  {
   "cell_type": "code",
   "execution_count": 22,
   "id": "6fdc3c4d",
   "metadata": {
    "tags": []
   },
   "outputs": [
    {
     "data": {
      "text/plain": [
       "numpy.float64"
      ]
     },
     "execution_count": 22,
     "metadata": {},
     "output_type": "execute_result"
    }
   ],
   "source": [
    "type(our_numpy_matrix[2,0])"
   ]
  },
  {
   "cell_type": "markdown",
   "id": "7b209ba0",
   "metadata": {},
   "source": [
    "So they are floating point numbers, also defined in numpy, that presumably have a few more bells and whistles that regular Python floats (the 64 at the end means that 64 bits are used to store each number; this is the number's *precision*."
   ]
  },
  {
   "cell_type": "markdown",
   "id": "a4d27bdc",
   "metadata": {},
   "source": [
    "You may have noticed that our new matrix is a little different than the way we laid out our numbers in the table above. There, we made each sub-list into a column, whereas the `array` function seems to have made each list into a row.\n",
    "\n",
    "Fear not! Numpy objects, like all Python objects \"know\" how to do things; they have *methods*. The need to turn the rows into columns and vice versa is very common – it is called *transposing* a matrix – so numpy arrays have a *transpose* method `T`."
   ]
  },
  {
   "cell_type": "code",
   "execution_count": 23,
   "id": "8e354817",
   "metadata": {
    "tags": []
   },
   "outputs": [
    {
     "name": "stdout",
     "output_type": "stream",
     "text": [
      "[[3.3 1.2 4.8 1.5 5.9]\n",
      " [2.3 7.8 2.2 7.5 1.6]\n",
      " [2.2 8.7 6.5 9.5 7.7]]\n"
     ]
    }
   ],
   "source": [
    "transposed_matrix = our_numpy_matrix.T\n",
    "print(transposed_matrix)"
   ]
  },
  {
   "cell_type": "markdown",
   "id": "b992fdf5",
   "metadata": {},
   "source": [
    "Notice that the value 4.8 used to be in the third row of the first column, but now it's coordinates have been flipped:"
   ]
  },
  {
   "cell_type": "code",
   "execution_count": 24,
   "id": "b321602c",
   "metadata": {
    "tags": []
   },
   "outputs": [
    {
     "data": {
      "text/plain": [
       "4.8"
      ]
     },
     "execution_count": 24,
     "metadata": {},
     "output_type": "execute_result"
    }
   ],
   "source": [
    "transposed_matrix[0,2] # new location of 4.8"
   ]
  },
  {
   "cell_type": "code",
   "execution_count": 25,
   "id": "01d3d028",
   "metadata": {
    "tags": []
   },
   "outputs": [
    {
     "data": {
      "text/plain": [
       "2.2"
      ]
     },
     "execution_count": 25,
     "metadata": {},
     "output_type": "execute_result"
    }
   ],
   "source": [
    "transposed_matrix[2,0] # value at the old location"
   ]
  },
  {
   "cell_type": "markdown",
   "id": "a9016ecf",
   "metadata": {},
   "source": [
    "---"
   ]
  },
  {
   "cell_type": "markdown",
   "id": "b9685491",
   "metadata": {},
   "source": [
    "In the code cell below, make a Python list of lists, create a numpy matrix from it, transpose it, and access 3 of it's values."
   ]
  },
  {
   "cell_type": "code",
   "execution_count": 33,
   "id": "281c75ea",
   "metadata": {
    "tags": []
   },
   "outputs": [
    {
     "name": "stdout",
     "output_type": "stream",
     "text": [
      "[[1 4 7]\n",
      " [2 5 8]\n",
      " [3 6 9]]\n",
      "4 2 9\n"
     ]
    }
   ],
   "source": [
    "# python list\n",
    "python_list = [[1, 2, 3], [4, 5, 6], [7, 8, 9]]\n",
    "\n",
    "# numpy matrix\n",
    "np_matrix = np.array(python_list)\n",
    "\n",
    "# transposed matrix\n",
    "transposed_np_matrix = np_matrix.T\n",
    "\n",
    "\n",
    "print(transposed_np_matrix)\n",
    "print(transposed_np_matrix[0,1], transposed_np_matrix[1,0], transposed_np_matrix[2,2])"
   ]
  },
  {
   "cell_type": "markdown",
   "id": "19493993",
   "metadata": {},
   "source": [
    "### Numpy arrays "
   ]
  },
  {
   "cell_type": "markdown",
   "id": "4b682be0",
   "metadata": {},
   "source": [
    "So far, we've been talking about our data above as a \"matrix\", yet we used the `array()` function to make it, and Python tells us that our matrix is an `ndarray` – what's going on?"
   ]
  },
  {
   "cell_type": "markdown",
   "id": "3021e299",
   "metadata": {},
   "source": [
    "#### Types of arrays"
   ]
  },
  {
   "cell_type": "markdown",
   "id": "70ddc061",
   "metadata": {},
   "source": [
    "\"Array\" is a general term for a structured collection of data, and can have any number of dimensions (hence \"ndarray\" for \"N-dimensional array\"). Here's an (empty) 3 dimensional array:"
   ]
  },
  {
   "cell_type": "markdown",
   "id": "f978734e",
   "metadata": {},
   "source": [
    "![A 3D array](images/array.png)"
   ]
  },
  {
   "cell_type": "markdown",
   "id": "d6587988",
   "metadata": {},
   "source": [
    "If this array were named \"phred\", we would index it just like above, but with an extra index – the coordinate specifying the location along the third dimension. So `phred[5, 5, 3]` would specify the bottom right location just peeking out on the fourth – what? – \"page\" of the array."
   ]
  },
  {
   "cell_type": "markdown",
   "id": "bc48b32d",
   "metadata": {},
   "source": [
    "Though arrays can have any number of dimensions, lower-dimensional arrays are common and get their own special names.\n",
    "\n",
    "A \"matrix\" is an array of 2 dimensions. As you already know, a matrix is a universal format for data and is preferably in \"tidy\" format, where each row is an observation and each column is a variable.\n",
    "\n",
    "A \"vector\" is a list of numbers, so named because a simple list of numbers is used in math (linear algebra) and physics to specify vectors (such as force). Vectors can be \n",
    "\n",
    "* \"row vectors\" - a matrix with a single row\n",
    "* \"column vectors\" - a matrix with a single column\n",
    "* a list of numbers with only a single dimension, like a Python list\n",
    "\n",
    "Finally, in this lingo, a single number is referred to as a \"scaler\" (because multiplying a vector by a number scales the length of the vector without changing its direction)."
   ]
  },
  {
   "cell_type": "markdown",
   "id": "904d420d",
   "metadata": {},
   "source": [
    "---"
   ]
  },
  {
   "cell_type": "markdown",
   "id": "9b6b67bd",
   "metadata": {},
   "source": [
    "In the cell below, make a Python list or tuple containing the x and y coordinates of a point (any point you like – I'm a big fan of x=3, y=1 personally). On a piece of paper or a drawing program or whatever, plot the point in an x,y coordinate system, and draw an arrow – a vector! – from the origin to your point."
   ]
  },
  {
   "cell_type": "code",
   "execution_count": 34,
   "id": "67e1187d",
   "metadata": {
    "tags": []
   },
   "outputs": [],
   "source": [
    "v = (3, 1)"
   ]
  },
  {
   "cell_type": "markdown",
   "id": "007d9913",
   "metadata": {},
   "source": [
    "Now convert your Python object into a numpy array."
   ]
  },
  {
   "cell_type": "code",
   "execution_count": 35,
   "id": "ec7b745d",
   "metadata": {
    "tags": []
   },
   "outputs": [],
   "source": [
    "va = np.array(v)"
   ]
  },
  {
   "cell_type": "markdown",
   "id": "9fac1343",
   "metadata": {},
   "source": [
    "Get the shape of your new vector using the `shape` method (used just like the `T` method above)."
   ]
  },
  {
   "cell_type": "code",
   "execution_count": 36,
   "id": "a5d4bc96",
   "metadata": {
    "tags": []
   },
   "outputs": [
    {
     "data": {
      "text/plain": [
       "(2,)"
      ]
     },
     "execution_count": 36,
     "metadata": {},
     "output_type": "execute_result"
    }
   ],
   "source": [
    "va.shape"
   ]
  },
  {
   "cell_type": "markdown",
   "id": "ab1daffa",
   "metadata": {},
   "source": [
    "Multiply your vector by 2 (if your vector is named \"Velma\", then you would literally do `Velma * 2`)."
   ]
  },
  {
   "cell_type": "code",
   "execution_count": 37,
   "id": "91c01245",
   "metadata": {
    "tags": []
   },
   "outputs": [
    {
     "data": {
      "text/plain": [
       "array([6, 2])"
      ]
     },
     "execution_count": 37,
     "metadata": {},
     "output_type": "execute_result"
    }
   ],
   "source": [
    "va*2"
   ]
  },
  {
   "cell_type": "markdown",
   "id": "8198f09a",
   "metadata": {},
   "source": [
    "Plot your new vector and confirm that the multiplication *scaled* the original vector up by a factor of 2 without changing its direction!"
   ]
  },
  {
   "cell_type": "markdown",
   "id": "0256a685",
   "metadata": {},
   "source": [
    "---"
   ]
  },
  {
   "cell_type": "markdown",
   "id": "9f9567b2",
   "metadata": {},
   "source": [
    "We've just illustrated an awesome thing about numpy ndarrays: if we want to do simple operations on an entire array, we don't need to do it element-by-element, we just do it on the entire array in one go! Despite operating on arrays in general, this property is referred to as \"*vectorization*\" of operations."
   ]
  },
  {
   "cell_type": "markdown",
   "id": "c262a11e",
   "metadata": {},
   "source": [
    "#### Making numpy arrays "
   ]
  },
  {
   "cell_type": "markdown",
   "id": "70adf28e",
   "metadata": {},
   "source": [
    "##### arrays from lists or tuples"
   ]
  },
  {
   "cell_type": "markdown",
   "id": "4bd36957",
   "metadata": {},
   "source": [
    "We've already seen that we can make numpy arrays from Python lists. Like this:"
   ]
  },
  {
   "cell_type": "code",
   "execution_count": 38,
   "id": "22117b56",
   "metadata": {
    "tags": []
   },
   "outputs": [
    {
     "name": "stdout",
     "output_type": "stream",
     "text": [
      "A python list: [2, 4, 6, 8]\n",
      "A numpy thing: [2 4 6 8]\n"
     ]
    }
   ],
   "source": [
    "print(f'A python list: {a_list}')\n",
    "\n",
    "a_numpy_thing = np.array((a_list))\n",
    "\n",
    "print(f'A numpy thing: {a_numpy_thing}')"
   ]
  },
  {
   "cell_type": "markdown",
   "id": "1024b59c",
   "metadata": {},
   "source": [
    "Or this:"
   ]
  },
  {
   "cell_type": "code",
   "execution_count": 40,
   "id": "bf1b1d8b",
   "metadata": {
    "scrolled": true,
    "tags": []
   },
   "outputs": [
    {
     "data": {
      "text/plain": [
       "array([[1, 2, 3],\n",
       "       [4, 5, 6]])"
      ]
     },
     "execution_count": 40,
     "metadata": {},
     "output_type": "execute_result"
    }
   ],
   "source": [
    "a = np.array([[1, 2, 3], [4, 5, 6]])\n",
    "a"
   ]
  },
  {
   "cell_type": "markdown",
   "id": "84b90175",
   "metadata": {},
   "source": [
    "---"
   ]
  },
  {
   "cell_type": "markdown",
   "id": "fd3fb70b",
   "metadata": {},
   "source": [
    "In the cell below, confirm that you can make a numpy array from a Python tuple."
   ]
  },
  {
   "cell_type": "code",
   "execution_count": 42,
   "id": "6bd25eb5",
   "metadata": {
    "tags": []
   },
   "outputs": [
    {
     "name": "stdout",
     "output_type": "stream",
     "text": [
      "[ 2  4  6  8 10]\n"
     ]
    }
   ],
   "source": [
    "my_tup = (2, 4, 6, 8, 10)\n",
    "\n",
    "tup_to_numpy = np.array(my_tup)\n",
    "\n",
    "print(tup_to_numpy)"
   ]
  },
  {
   "cell_type": "markdown",
   "id": "25b57af4",
   "metadata": {},
   "source": [
    "##### ones and zeros"
   ]
  },
  {
   "cell_type": "markdown",
   "id": "ef0ff234",
   "metadata": {},
   "source": [
    "If we're creating or reading in data from a source other than a Python list or tuple, we need a place to put it. To make new arrays to hold stuff, we first create an array filled with something. Most of the time, it doesn't matter what we fill it with. We commonly fill new arrays with ones or zeros."
   ]
  },
  {
   "cell_type": "code",
   "execution_count": 43,
   "id": "98e41522",
   "metadata": {
    "tags": []
   },
   "outputs": [
    {
     "name": "stdout",
     "output_type": "stream",
     "text": [
      "an array of ones:\n",
      " [[1. 1.]\n",
      " [1. 1.]\n",
      " [1. 1.]]\n"
     ]
    }
   ],
   "source": [
    "a_vec = np.ones((3,2))\n",
    "print(f'an array of ones:\\n {a_vec}')"
   ]
  },
  {
   "cell_type": "markdown",
   "id": "bd929b19",
   "metadata": {},
   "source": [
    "---"
   ]
  },
  {
   "cell_type": "markdown",
   "id": "90715e08",
   "metadata": {},
   "source": [
    "In the cell below, make an array of zeros."
   ]
  },
  {
   "cell_type": "code",
   "execution_count": 44,
   "id": "4d64ab7e",
   "metadata": {
    "tags": []
   },
   "outputs": [
    {
     "name": "stdout",
     "output_type": "stream",
     "text": [
      "an array of zeros:\n",
      " [[0. 0. 0.]\n",
      " [0. 0. 0.]\n",
      " [0. 0. 0.]\n",
      " [0. 0. 0.]]\n"
     ]
    }
   ],
   "source": [
    "vec_zeros = np.zeros((4,3))\n",
    "print(f'an array of zeros:\\n {vec_zeros}')"
   ]
  },
  {
   "cell_type": "markdown",
   "id": "004caea2",
   "metadata": {},
   "source": [
    "---"
   ]
  },
  {
   "cell_type": "markdown",
   "id": "97c6caeb",
   "metadata": {},
   "source": [
    "##### Any number "
   ]
  },
  {
   "cell_type": "markdown",
   "id": "07f7b756",
   "metadata": {},
   "source": [
    "We can also initialize an array to any value we want."
   ]
  },
  {
   "cell_type": "code",
   "execution_count": 45,
   "id": "4b27a6df",
   "metadata": {
    "tags": []
   },
   "outputs": [
    {
     "name": "stdout",
     "output_type": "stream",
     "text": [
      "Every cell has the answer!:\n",
      " [[42 42 42]\n",
      " [42 42 42]\n",
      " [42 42 42]]\n"
     ]
    }
   ],
   "source": [
    "the_answer = np.full((3,3), 42)\n",
    "print(f'Every cell has the answer!:\\n {the_answer}')"
   ]
  },
  {
   "cell_type": "markdown",
   "id": "b51b1e05",
   "metadata": {},
   "source": [
    "---"
   ]
  },
  {
   "cell_type": "markdown",
   "id": "c10214c0",
   "metadata": {},
   "source": [
    "In the cell below, get the same result as above (a 3x3 array of 42s) using 1) `np.ones` and 2) `np.zeros`. \n",
    "(Hint: take advantage of vectorization using `*` and `+`)"
   ]
  },
  {
   "cell_type": "code",
   "execution_count": 53,
   "id": "93b36375",
   "metadata": {
    "tags": []
   },
   "outputs": [
    {
     "name": "stdout",
     "output_type": "stream",
     "text": [
      "This is the 3x3 array using np.ones:\n",
      " [[42. 42. 42.]\n",
      " [42. 42. 42.]\n",
      " [42. 42. 42.]]\n",
      "\n",
      "This is the 3x3 array using np.zeros:\n",
      " [[42. 42. 42.]\n",
      " [42. 42. 42.]\n",
      " [42. 42. 42.]]\n"
     ]
    }
   ],
   "source": [
    "# using np.ones\n",
    "np_ones = np.ones((3,3))\n",
    "ones_w_ans = 42 * np_ones\n",
    "print(f\"This is the 3x3 array using np.ones:\\n {ones_w_ans}\\n\")\n",
    "\n",
    "# using np.zeros\n",
    "np_zeros = np.zeros((3,3))\n",
    "zeros_w_ans = 42 + np_zeros\n",
    "print(f\"This is the 3x3 array using np.zeros:\\n {zeros_w_ans}\")"
   ]
  },
  {
   "cell_type": "markdown",
   "id": "468720bd",
   "metadata": {},
   "source": [
    "##### random numbers"
   ]
  },
  {
   "cell_type": "markdown",
   "id": "1d26f03a",
   "metadata": {},
   "source": [
    "In data science, we often add random noise to simulations in order to capture the random variability present in the universe and the data we get from it. We can do this using any number of functions in `np.random`. For example"
   ]
  },
  {
   "cell_type": "code",
   "execution_count": 3,
   "id": "8afcebc9",
   "metadata": {
    "tags": []
   },
   "outputs": [
    {
     "name": "stdout",
     "output_type": "stream",
     "text": [
      "C'mon feel the noise! \n",
      " [[ 0.02202286  0.32436108 -1.89779356 -0.4232918 ]\n",
      " [ 1.67314474 -1.26653071  1.35599227 -0.31438775]\n",
      " [ 0.32935376  0.6655817  -0.11362564  1.25031778]\n",
      " [-1.10465767 -0.6998781   1.05124346  0.34262669]]\n"
     ]
    }
   ],
   "source": [
    "my_noise = np.random.randn(4,4)\n",
    "print(f'C\\'mon feel the noise! \\n {my_noise}')"
   ]
  },
  {
   "cell_type": "markdown",
   "id": "fed74414",
   "metadata": {},
   "source": [
    "Which made normally distributed (Gaussian) noise. "
   ]
  },
  {
   "cell_type": "markdown",
   "id": "f71ec50c",
   "metadata": {},
   "source": [
    "We can also make noise that is uniformly distributed:"
   ]
  },
  {
   "cell_type": "code",
   "execution_count": 55,
   "id": "f173f5bf",
   "metadata": {
    "tags": []
   },
   "outputs": [
    {
     "name": "stdout",
     "output_type": "stream",
     "text": [
      "Moar noise! \n",
      " [[0.87674427 0.67818472 0.25224563 0.97415678]\n",
      " [0.56292552 0.57478279 0.04636912 0.5382652 ]\n",
      " [0.15153849 0.59096397 0.14601231 0.67284582]\n",
      " [0.52466016 0.70012633 0.78894695 0.71395075]]\n"
     ]
    }
   ],
   "source": [
    "unif_noise = np.random.rand(4,4)\n",
    "print(f'Moar noise! \\n {unif_noise}')"
   ]
  },
  {
   "cell_type": "markdown",
   "id": "6739d573",
   "metadata": {},
   "source": [
    "Or we can make random integers:"
   ]
  },
  {
   "cell_type": "code",
   "execution_count": 56,
   "id": "c3275494",
   "metadata": {
    "tags": []
   },
   "outputs": [
    {
     "name": "stdout",
     "output_type": "stream",
     "text": [
      "Random integers! \n",
      " [[ 6  6  3  1]\n",
      " [ 9  4  9  1]\n",
      " [ 6  7 10  9]\n",
      " [ 5  3  3  3]]\n"
     ]
    }
   ],
   "source": [
    "int_noise = np.random.randint(1, 11, (4,4))\n",
    "print(f'Random integers! \\n {int_noise}')"
   ]
  },
  {
   "cell_type": "markdown",
   "id": "4749a756",
   "metadata": {},
   "source": [
    "##### the identity matrix"
   ]
  },
  {
   "cell_type": "markdown",
   "id": "e1ea04c2",
   "metadata": {},
   "source": [
    "Finally, we can make an \"identity matrix\", a matrix with 1s running down the diagonal. It's useful for linear algebra applications, and is included there only for completeness."
   ]
  },
  {
   "cell_type": "code",
   "execution_count": 57,
   "id": "5cfb0e38",
   "metadata": {
    "scrolled": true,
    "tags": []
   },
   "outputs": [
    {
     "name": "stdout",
     "output_type": "stream",
     "text": [
      "Aye aye Cap'n! \n",
      " [[1. 0. 0. 0.]\n",
      " [0. 1. 0. 0.]\n",
      " [0. 0. 1. 0.]\n",
      " [0. 0. 0. 1.]]\n"
     ]
    }
   ],
   "source": [
    "aye = np.eye(4,4)\n",
    "print(f'Aye aye Cap\\'n! \\n {aye}')"
   ]
  },
  {
   "cell_type": "markdown",
   "id": "7e78d236",
   "metadata": {},
   "source": [
    "---"
   ]
  },
  {
   "cell_type": "markdown",
   "id": "04b9eeef",
   "metadata": {},
   "source": [
    "In the cell below, make a 6x6 array containing random integers from -10 to 10."
   ]
  },
  {
   "cell_type": "code",
   "execution_count": 58,
   "id": "13d94e88",
   "metadata": {
    "tags": []
   },
   "outputs": [
    {
     "data": {
      "text/plain": [
       "array([[ -5,  -1,   0,  -5,   6,   3],\n",
       "       [ -7,   2,  -3,   8,  -4,  -5],\n",
       "       [ -4,  -3,  -2,  -8,  -7,  -9],\n",
       "       [ -5,   6,   0,  -4,  -4,   8],\n",
       "       [ -2,  -3,   1,  -4,  -5, -10],\n",
       "       [ -1,   1,  -3,  -8, -10,  -7]])"
      ]
     },
     "execution_count": 58,
     "metadata": {},
     "output_type": "execute_result"
    }
   ],
   "source": [
    "rand_ints = np.random.randint(-10, 10, (6,6))\n",
    "rand_ints"
   ]
  },
  {
   "cell_type": "markdown",
   "id": "f223e9bf",
   "metadata": {},
   "source": [
    "#### \"vectorized\" operations "
   ]
  },
  {
   "cell_type": "markdown",
   "id": "c4236a1e",
   "metadata": {},
   "source": [
    "As mentioned above, most of the common Python operators become *vectorized* in numpy, which means that we can to the same thing to every element of our arrays in one go."
   ]
  },
  {
   "cell_type": "markdown",
   "id": "3c79bdc0",
   "metadata": {},
   "source": [
    "let's add 10 to all our Gaussian random numbers from above."
   ]
  },
  {
   "cell_type": "code",
   "execution_count": 59,
   "id": "39f1ed20",
   "metadata": {
    "tags": []
   },
   "outputs": [
    {
     "data": {
      "text/plain": [
       "array([[11.7699664 , 11.8555334 , 11.39706116, 10.73964336],\n",
       "       [10.48496057,  9.87526579,  9.27187225, 12.16831498],\n",
       "       [10.39742237, 13.09707017, 11.01657564, 11.30294492],\n",
       "       [ 9.17926386,  9.85198568, 11.71877496, 11.68474265]])"
      ]
     },
     "execution_count": 59,
     "metadata": {},
     "output_type": "execute_result"
    }
   ],
   "source": [
    "amp_noise = my_noise + 11\n",
    "amp_noise"
   ]
  },
  {
   "cell_type": "markdown",
   "id": "5d2d6710",
   "metadata": {},
   "source": [
    "Let's see which ones go to 11!"
   ]
  },
  {
   "cell_type": "code",
   "execution_count": 60,
   "id": "c0debf95",
   "metadata": {
    "tags": []
   },
   "outputs": [
    {
     "data": {
      "text/plain": [
       "array([[ True,  True,  True, False],\n",
       "       [False, False, False,  True],\n",
       "       [False,  True,  True,  True],\n",
       "       [False, False,  True,  True]])"
      ]
     },
     "execution_count": 60,
     "metadata": {},
     "output_type": "execute_result"
    }
   ],
   "source": [
    "amp_noise >= 11"
   ]
  },
  {
   "cell_type": "markdown",
   "id": "fa75eee6",
   "metadata": {},
   "source": [
    "If arrays are the same size, we can do element-by-element things easily."
   ]
  },
  {
   "cell_type": "markdown",
   "id": "13ae809e",
   "metadata": {},
   "source": [
    "Which elements of the Gaussian noise are greater than the corresponding elements of the uniform noise?"
   ]
  },
  {
   "cell_type": "code",
   "execution_count": 61,
   "id": "f9dec07f",
   "metadata": {
    "tags": []
   },
   "outputs": [
    {
     "data": {
      "text/plain": [
       "array([[False,  True,  True, False],\n",
       "       [False, False, False,  True],\n",
       "       [False,  True, False, False],\n",
       "       [False, False, False, False]])"
      ]
     },
     "execution_count": 61,
     "metadata": {},
     "output_type": "execute_result"
    }
   ],
   "source": [
    "my_noise > unif_noise"
   ]
  },
  {
   "cell_type": "markdown",
   "id": "b1d77624",
   "metadata": {},
   "source": [
    "Add our Gaussian and integer noise element-by-element:"
   ]
  },
  {
   "cell_type": "code",
   "execution_count": 62,
   "id": "3bf6d86c",
   "metadata": {
    "tags": []
   },
   "outputs": [
    {
     "data": {
      "text/plain": [
       "array([[ 6.7699664 ,  6.8555334 ,  3.39706116,  0.73964336],\n",
       "       [ 8.48496057,  2.87526579,  7.27187225,  2.16831498],\n",
       "       [ 5.39742237,  9.09707017, 10.01657564,  9.30294492],\n",
       "       [ 3.17926386,  1.85198568,  3.71877496,  3.68474265]])"
      ]
     },
     "execution_count": 62,
     "metadata": {},
     "output_type": "execute_result"
    }
   ],
   "source": [
    "my_noise + int_noise"
   ]
  },
  {
   "cell_type": "markdown",
   "id": "aa5c9111",
   "metadata": {},
   "source": [
    "Divide our identity matrix by our integer noise – everything off the main diagonal should be zero..."
   ]
  },
  {
   "cell_type": "code",
   "execution_count": 63,
   "id": "82896522",
   "metadata": {
    "tags": []
   },
   "outputs": [
    {
     "data": {
      "text/plain": [
       "array([[0.16666667, 0.        , 0.        , 0.        ],\n",
       "       [0.        , 0.25      , 0.        , 0.        ],\n",
       "       [0.        , 0.        , 0.1       , 0.        ],\n",
       "       [0.        , 0.        , 0.        , 0.33333333]])"
      ]
     },
     "execution_count": 63,
     "metadata": {},
     "output_type": "execute_result"
    }
   ],
   "source": [
    "aye / int_noise"
   ]
  },
  {
   "cell_type": "markdown",
   "id": "751d506e",
   "metadata": {},
   "source": [
    "---"
   ]
  },
  {
   "cell_type": "markdown",
   "id": "244b5f84",
   "metadata": {},
   "source": [
    "In the cell below, make a 10x5 matrix containing normally distributed random numbers with a mean of about 100 and a standard deviation of about 15 using vectorized operations."
   ]
  },
  {
   "cell_type": "code",
   "execution_count": 68,
   "id": "dbdb6470",
   "metadata": {
    "tags": []
   },
   "outputs": [
    {
     "data": {
      "text/plain": [
       "array([[102.41051174, 104.09868154, 102.82254859, 114.33601792,\n",
       "        104.22367356],\n",
       "       [112.72532246, 106.7557182 , 102.95928155, 113.62248494,\n",
       "        110.03723998],\n",
       "       [108.05527795, 113.14110831, 106.43977627, 111.9873107 ,\n",
       "        102.18692442],\n",
       "       [110.64479493, 106.57405438, 113.56511951, 101.28494487,\n",
       "        104.89176626],\n",
       "       [104.04810814, 108.85124866, 106.26069472, 102.95202671,\n",
       "        110.69132653],\n",
       "       [102.9227356 , 106.21264851, 113.5584283 , 107.18989207,\n",
       "        100.27024654],\n",
       "       [102.84450329, 111.97742897, 108.87807734, 111.80939261,\n",
       "        102.9350217 ],\n",
       "       [104.30788987, 112.82847269, 108.52452995, 109.68992565,\n",
       "        101.10495125],\n",
       "       [111.11343812, 112.47299046, 101.57931879, 111.2639754 ,\n",
       "        105.88920956],\n",
       "       [109.32853914, 107.89936567, 112.61741521, 107.33164875,\n",
       "        107.83955408]])"
      ]
     },
     "execution_count": 68,
     "metadata": {},
     "output_type": "execute_result"
    }
   ],
   "source": [
    "new_matrix = np.random.rand(10,5)\n",
    "mean = 100\n",
    "sd = 15\n",
    "# random numbers adjusted to mean of 100 and standard deviation of 15\n",
    "(new_matrix * sd) + mean"
   ]
  },
  {
   "cell_type": "markdown",
   "id": "5b305e16",
   "metadata": {},
   "source": [
    "#### Making numpy sequences "
   ]
  },
  {
   "cell_type": "markdown",
   "id": "dd762ef6",
   "metadata": {},
   "source": [
    "When computing things like functions (in the math sense), we need to start by laying down an x-axis (a working domain of the function). There are two numpy functions, `arange()` and `linspace()` that make this easy for us."
   ]
  },
  {
   "cell_type": "markdown",
   "id": "c6c171b4",
   "metadata": {},
   "source": [
    "The function `arange()` allows us to specify the endpoints of our domain, and a step size (which defaults to one). We can make a sequence of the numbers one to 10 like this:"
   ]
  },
  {
   "cell_type": "code",
   "execution_count": 69,
   "id": "45ebba71",
   "metadata": {
    "tags": []
   },
   "outputs": [
    {
     "name": "stdout",
     "output_type": "stream",
     "text": [
      "my x axis is: \n",
      " [ 1  2  3  4  5  6  7  8  9 10]\n"
     ]
    }
   ],
   "source": [
    "my_domain = np.arange(1,11)\n",
    "print(f'my x axis is: \\n {my_domain}')"
   ]
  },
  {
   "cell_type": "markdown",
   "id": "9542e218",
   "metadata": {},
   "source": [
    "We can also specify a step size with a third argument. Like this:"
   ]
  },
  {
   "cell_type": "code",
   "execution_count": 70,
   "id": "e99ec71e",
   "metadata": {
    "tags": []
   },
   "outputs": [
    {
     "name": "stdout",
     "output_type": "stream",
     "text": [
      "my x axis is: \n",
      " [1 3 5 7 9]\n"
     ]
    }
   ],
   "source": [
    "my_domain = np.arange(1,11,2)\n",
    "print(f'my x axis is: \\n {my_domain}')"
   ]
  },
  {
   "cell_type": "markdown",
   "id": "2ba975b0",
   "metadata": {},
   "source": [
    "The function `linspace()` is similar, but allows us to specify the number of numbers we need, and it figures out the step size for us. Like this:"
   ]
  },
  {
   "cell_type": "code",
   "execution_count": 71,
   "id": "1c207f9b",
   "metadata": {
    "tags": []
   },
   "outputs": [
    {
     "name": "stdout",
     "output_type": "stream",
     "text": [
      "my x axis is: \n",
      " [ 1.          2.11111111  3.22222222  4.33333333  5.44444444  6.55555556\n",
      "  7.66666667  8.77777778  9.88888889 11.        ]\n"
     ]
    }
   ],
   "source": [
    "my_domain = np.linspace(1,11,10)\n",
    "print(f'my x axis is: \\n {my_domain}')"
   ]
  },
  {
   "cell_type": "markdown",
   "id": "2925311c",
   "metadata": {},
   "source": [
    "If we look at the shape of the object created by either `arange()` or `linspace()`, we see that they are 1D:"
   ]
  },
  {
   "cell_type": "code",
   "execution_count": 72,
   "id": "62bd63e4",
   "metadata": {
    "tags": []
   },
   "outputs": [
    {
     "data": {
      "text/plain": [
       "(10,)"
      ]
     },
     "execution_count": 72,
     "metadata": {},
     "output_type": "execute_result"
    }
   ],
   "source": [
    "my_domain.shape"
   ]
  },
  {
   "cell_type": "markdown",
   "id": "dc577220",
   "metadata": {},
   "source": [
    "Note that there is only one dimension, so we only need a single index to access a value:"
   ]
  },
  {
   "cell_type": "code",
   "execution_count": 73,
   "id": "a67e5b63",
   "metadata": {
    "tags": []
   },
   "outputs": [
    {
     "data": {
      "text/plain": [
       "4.333333333333334"
      ]
     },
     "execution_count": 73,
     "metadata": {},
     "output_type": "execute_result"
    }
   ],
   "source": [
    "my_domain[3]"
   ]
  },
  {
   "cell_type": "markdown",
   "id": "4fd4a667",
   "metadata": {},
   "source": [
    "We can turn this into either a row vector or a column vector by adding a second dimension. Adding a new dimension will make it, technically, a matrix – a matrix with only one column or one row, respectively."
   ]
  },
  {
   "cell_type": "code",
   "execution_count": 74,
   "id": "87eec028",
   "metadata": {
    "tags": []
   },
   "outputs": [
    {
     "name": "stdout",
     "output_type": "stream",
     "text": [
      "my x axis row vector is: \n",
      " [[ 1.          2.11111111  3.22222222  4.33333333  5.44444444  6.55555556\n",
      "   7.66666667  8.77777778  9.88888889 11.        ]]\n"
     ]
    }
   ],
   "source": [
    "my_domain_row = my_domain[np.newaxis,:]\n",
    "print(f'my x axis row vector is: \\n {my_domain_row}')"
   ]
  },
  {
   "cell_type": "markdown",
   "id": "08dfeba1",
   "metadata": {},
   "source": [
    "This looks the same, but let's check its shape:"
   ]
  },
  {
   "cell_type": "code",
   "execution_count": 75,
   "id": "35650660",
   "metadata": {
    "tags": []
   },
   "outputs": [
    {
     "data": {
      "text/plain": [
       "(1, 10)"
      ]
     },
     "execution_count": 75,
     "metadata": {},
     "output_type": "execute_result"
    }
   ],
   "source": [
    "my_domain_row.shape"
   ]
  },
  {
   "cell_type": "markdown",
   "id": "6b10b740",
   "metadata": {},
   "source": [
    "So now it has 1 row and 10 columns. We therefore use a row *and* a column index to get a value."
   ]
  },
  {
   "cell_type": "code",
   "execution_count": 76,
   "id": "19628248",
   "metadata": {
    "tags": []
   },
   "outputs": [
    {
     "data": {
      "text/plain": [
       "4.333333333333334"
      ]
     },
     "execution_count": 76,
     "metadata": {},
     "output_type": "execute_result"
    }
   ],
   "source": [
    "my_domain_row[0, 3]"
   ]
  },
  {
   "cell_type": "markdown",
   "id": "317b39e7",
   "metadata": {},
   "source": [
    "---"
   ]
  },
  {
   "cell_type": "markdown",
   "id": "ddbbaa58",
   "metadata": {},
   "source": [
    "In the cell below, make a column vector out of `my_domain`, check the shape, and get the third entry."
   ]
  },
  {
   "cell_type": "code",
   "execution_count": 89,
   "id": "b485b2cc",
   "metadata": {
    "tags": []
   },
   "outputs": [
    {
     "name": "stdout",
     "output_type": "stream",
     "text": [
      "[[ 1.        ]\n",
      " [ 2.11111111]\n",
      " [ 3.22222222]\n",
      " [ 4.33333333]\n",
      " [ 5.44444444]\n",
      " [ 6.55555556]\n",
      " [ 7.66666667]\n",
      " [ 8.77777778]\n",
      " [ 9.88888889]\n",
      " [11.        ]]\n",
      "\n",
      "The shape of the vector is: (10, 1)\n",
      "The third entry is: 3.2222222222222223\n"
     ]
    }
   ],
   "source": [
    "my_domain_column = my_domain[:, np.newaxis]\n",
    "\n",
    "print(my_domain_column)\n",
    "print(f\"\\nThe shape of the vector is: {my_domain_column.shape}\")\n",
    "print(f\"The third entry is: {my_domain_column[2,0]}\")"
   ]
  },
  {
   "cell_type": "markdown",
   "id": "da5b5975",
   "metadata": {},
   "source": [
    "#### Indexing cells "
   ]
  },
  {
   "cell_type": "markdown",
   "id": "1b7e1c76",
   "metadata": {},
   "source": [
    "Cells and subsets of numpy arrays are accessed – \"indexed\" – much like Python lists and tuples are."
   ]
  },
  {
   "cell_type": "markdown",
   "id": "bca2a1e6",
   "metadata": {},
   "source": [
    "We've already done a fair amount of indexing, but let's get a bit more flexible. "
   ]
  },
  {
   "cell_type": "markdown",
   "id": "debec3a5",
   "metadata": {},
   "source": [
    "#### Indexing rows and columns"
   ]
  },
  {
   "cell_type": "markdown",
   "id": "d2aa019a",
   "metadata": {},
   "source": [
    "We can fetch entire rows or columns using the the colon, `:`. Let's try this on our `my_noise` array. First, let's look at it again:"
   ]
  },
  {
   "cell_type": "code",
   "execution_count": 90,
   "id": "cd9a1480",
   "metadata": {
    "tags": []
   },
   "outputs": [
    {
     "name": "stdout",
     "output_type": "stream",
     "text": [
      "[[ 0.7699664   0.8555334   0.39706116 -0.26035664]\n",
      " [-0.51503943 -1.12473421 -1.72812775  1.16831498]\n",
      " [-0.60257763  2.09707017  0.01657564  0.30294492]\n",
      " [-1.82073614 -1.14801432  0.71877496  0.68474265]]\n"
     ]
    }
   ],
   "source": [
    "print(my_noise)"
   ]
  },
  {
   "cell_type": "markdown",
   "id": "14fee358",
   "metadata": {},
   "source": [
    "Now let's get the first column:"
   ]
  },
  {
   "cell_type": "code",
   "execution_count": 91,
   "id": "8d2f2996",
   "metadata": {
    "tags": []
   },
   "outputs": [
    {
     "data": {
      "text/plain": [
       "array([ 0.7699664 , -0.51503943, -0.60257763, -1.82073614])"
      ]
     },
     "execution_count": 91,
     "metadata": {},
     "output_type": "execute_result"
    }
   ],
   "source": [
    "my_noise[:,0]"
   ]
  },
  {
   "cell_type": "markdown",
   "id": "b815409f",
   "metadata": {},
   "source": [
    "The colon means \"everything on this dimension\", so the above command means \"get all the rows in the first column of `my_noise`."
   ]
  },
  {
   "cell_type": "markdown",
   "id": "7b7026ee",
   "metadata": {},
   "source": [
    "---"
   ]
  },
  {
   "cell_type": "markdown",
   "id": "9c31284b",
   "metadata": {},
   "source": [
    "In the cell below, get the second (index = 1) row of data."
   ]
  },
  {
   "cell_type": "code",
   "execution_count": 96,
   "id": "a53123cf",
   "metadata": {
    "tags": []
   },
   "outputs": [],
   "source": [
    "second_row = my_noise[1,:]"
   ]
  },
  {
   "cell_type": "markdown",
   "id": "0dc0108b",
   "metadata": {},
   "source": [
    "Now check the shape in the cell below."
   ]
  },
  {
   "cell_type": "code",
   "execution_count": 97,
   "id": "3fcf7fa9",
   "metadata": {
    "tags": []
   },
   "outputs": [
    {
     "data": {
      "text/plain": [
       "(4,)"
      ]
     },
     "execution_count": 97,
     "metadata": {},
     "output_type": "execute_result"
    }
   ],
   "source": [
    "second_row.shape"
   ]
  },
  {
   "cell_type": "markdown",
   "id": "afd48f0f",
   "metadata": {},
   "source": [
    "Now get the first row and check the shape:"
   ]
  },
  {
   "cell_type": "code",
   "execution_count": 99,
   "id": "2bb98181",
   "metadata": {
    "tags": []
   },
   "outputs": [
    {
     "data": {
      "text/plain": [
       "(4,)"
      ]
     },
     "execution_count": 99,
     "metadata": {},
     "output_type": "execute_result"
    }
   ],
   "source": [
    "first_row = my_noise[0,:]\n",
    "first_row.shape"
   ]
  },
  {
   "cell_type": "markdown",
   "id": "83fad52d",
   "metadata": {},
   "source": [
    "Our output in both cases above is a 1D vector. So what do we do if we want to grab a column, say, preserve it as a column? Easy! We just specify a starting and stopping index. Like this:"
   ]
  },
  {
   "cell_type": "code",
   "execution_count": 105,
   "id": "672177ab",
   "metadata": {
    "tags": []
   },
   "outputs": [
    {
     "data": {
      "text/plain": [
       "array([[ 0.7699664 ],\n",
       "       [-0.51503943],\n",
       "       [-0.60257763],\n",
       "       [-1.82073614]])"
      ]
     },
     "execution_count": 105,
     "metadata": {},
     "output_type": "execute_result"
    }
   ],
   "source": [
    "a_column = my_noise[:,0:1]\n",
    "a_column"
   ]
  },
  {
   "cell_type": "markdown",
   "id": "eea77b08",
   "metadata": {},
   "source": [
    "You can see from the output that this is a column, but check its shape in the cell below to be sure:"
   ]
  },
  {
   "cell_type": "code",
   "execution_count": 106,
   "id": "8e7c2ddf",
   "metadata": {
    "tags": []
   },
   "outputs": [
    {
     "data": {
      "text/plain": [
       "(4, 1)"
      ]
     },
     "execution_count": 106,
     "metadata": {},
     "output_type": "execute_result"
    }
   ],
   "source": [
    "a_column.shape"
   ]
  },
  {
   "cell_type": "markdown",
   "id": "8ba78d70",
   "metadata": {},
   "source": [
    "#### Indexing subsets (\"slicing\")"
   ]
  },
  {
   "cell_type": "markdown",
   "id": "28b4a604",
   "metadata": {},
   "source": [
    "What we have started doing above is called \"slicing\", which is carving out (\"slicing\") subsets of data from an array.\n",
    "\n",
    "The key to slicing is the colon, `:`, operator. "
   ]
  },
  {
   "cell_type": "markdown",
   "id": "f2f8ccce",
   "metadata": {},
   "source": [
    "Let's play with a 1D vector, `my_domain` first. Let's remind ourselves of it:"
   ]
  },
  {
   "cell_type": "code",
   "execution_count": 107,
   "id": "3d9b7b99",
   "metadata": {
    "tags": []
   },
   "outputs": [
    {
     "name": "stdout",
     "output_type": "stream",
     "text": [
      "[ 1.          2.11111111  3.22222222  4.33333333  5.44444444  6.55555556\n",
      "  7.66666667  8.77777778  9.88888889 11.        ]\n"
     ]
    }
   ],
   "source": [
    "print(my_domain)"
   ]
  },
  {
   "cell_type": "markdown",
   "id": "79e737fa",
   "metadata": {},
   "source": [
    "If we put a number on either side, we can read as \"from the first index to the second index\":"
   ]
  },
  {
   "cell_type": "code",
   "execution_count": 108,
   "id": "d542cd71",
   "metadata": {
    "tags": []
   },
   "outputs": [
    {
     "data": {
      "text/plain": [
       "array([2.11111111, 3.22222222, 4.33333333])"
      ]
     },
     "execution_count": 108,
     "metadata": {},
     "output_type": "execute_result"
    }
   ],
   "source": [
    "my_domain[1:4]"
   ]
  },
  {
   "cell_type": "markdown",
   "id": "e236a56e",
   "metadata": {},
   "source": [
    "If we just put an index on the left, we can read it as \"from the index to the end\". Like this:"
   ]
  },
  {
   "cell_type": "code",
   "execution_count": 109,
   "id": "b57ead3d",
   "metadata": {
    "tags": []
   },
   "outputs": [
    {
     "data": {
      "text/plain": [
       "array([ 3.22222222,  4.33333333,  5.44444444,  6.55555556,  7.66666667,\n",
       "        8.77777778,  9.88888889, 11.        ])"
      ]
     },
     "execution_count": 109,
     "metadata": {},
     "output_type": "execute_result"
    }
   ],
   "source": [
    "my_domain[2:]"
   ]
  },
  {
   "cell_type": "markdown",
   "id": "933cf16a",
   "metadata": {},
   "source": [
    "If we just put an index on the right, we can read it as \"from the beginning to the index\". Like this:"
   ]
  },
  {
   "cell_type": "code",
   "execution_count": 110,
   "id": "eac95e3a",
   "metadata": {
    "tags": []
   },
   "outputs": [
    {
     "data": {
      "text/plain": [
       "array([1.        , 2.11111111])"
      ]
     },
     "execution_count": 110,
     "metadata": {},
     "output_type": "execute_result"
    }
   ],
   "source": [
    "my_domain[:2]"
   ]
  },
  {
   "cell_type": "markdown",
   "id": "850d3cf2",
   "metadata": {},
   "source": [
    "---"
   ]
  },
  {
   "cell_type": "markdown",
   "id": "cf2c0c7a",
   "metadata": {},
   "source": [
    "In the cell below, slice out the 3rd through 5th values of `my_domain`."
   ]
  },
  {
   "cell_type": "code",
   "execution_count": 112,
   "id": "7e696f72",
   "metadata": {
    "tags": []
   },
   "outputs": [
    {
     "data": {
      "text/plain": [
       "array([3.22222222, 4.33333333, 5.44444444])"
      ]
     },
     "execution_count": 112,
     "metadata": {},
     "output_type": "execute_result"
    }
   ],
   "source": [
    "my_domain[2:5]"
   ]
  },
  {
   "cell_type": "markdown",
   "id": "e5451d5a",
   "metadata": {},
   "source": [
    "---"
   ]
  },
  {
   "cell_type": "markdown",
   "id": "6060191f",
   "metadata": {},
   "source": [
    "The extension of slicing to a matrix is straightforward. You just do your slicing on each dimension separately."
   ]
  },
  {
   "cell_type": "markdown",
   "id": "a57d108b",
   "metadata": {},
   "source": [
    "Here are some examples of array indexing from Python for Data Analysis by Wes McKinney:\n",
    "\n",
    "![Array Indexing](images/arrayIndexing.png)"
   ]
  },
  {
   "cell_type": "markdown",
   "id": "035793ec",
   "metadata": {},
   "source": [
    "---"
   ]
  },
  {
   "cell_type": "markdown",
   "id": "7c1a5dd2",
   "metadata": {},
   "source": [
    "In the cell below, try some of these slices on `my_noise`."
   ]
  },
  {
   "cell_type": "code",
   "execution_count": 8,
   "id": "3ee8fc62-e28e-4c7a-9d29-b8542acf462c",
   "metadata": {},
   "outputs": [
    {
     "data": {
      "text/plain": [
       "array([[ 0.02202286,  0.32436108, -1.89779356, -0.4232918 ],\n",
       "       [ 1.67314474, -1.26653071,  1.35599227, -0.31438775],\n",
       "       [ 0.32935376,  0.6655817 , -0.11362564,  1.25031778],\n",
       "       [-1.10465767, -0.6998781 ,  1.05124346,  0.34262669]])"
      ]
     },
     "execution_count": 8,
     "metadata": {},
     "output_type": "execute_result"
    }
   ],
   "source": [
    "my_noise"
   ]
  },
  {
   "cell_type": "code",
   "execution_count": 7,
   "id": "4f6ef102-764f-4b84-a0de-0720487a2485",
   "metadata": {},
   "outputs": [
    {
     "data": {
      "text/plain": [
       "array([[ 0.32436108, -1.89779356, -0.4232918 ],\n",
       "       [-1.26653071,  1.35599227, -0.31438775]])"
      ]
     },
     "execution_count": 7,
     "metadata": {},
     "output_type": "execute_result"
    }
   ],
   "source": [
    "my_noise[:2, 1:] "
   ]
  },
  {
   "cell_type": "code",
   "execution_count": 11,
   "id": "160ac69b-9c19-41c7-9ba8-82f3cf3bbac4",
   "metadata": {
    "tags": []
   },
   "outputs": [
    {
     "data": {
      "text/plain": [
       "array([[-1.10465767, -0.6998781 ,  1.05124346,  0.34262669]])"
      ]
     },
     "execution_count": 11,
     "metadata": {},
     "output_type": "execute_result"
    }
   ],
   "source": [
    "my_noise[3:, :]"
   ]
  },
  {
   "cell_type": "code",
   "execution_count": 12,
   "id": "bbf00e66-d23d-4798-86e4-9e2d5993d1b3",
   "metadata": {
    "tags": []
   },
   "outputs": [
    {
     "data": {
      "text/plain": [
       "array([[ 1.67314474, -1.26653071]])"
      ]
     },
     "execution_count": 12,
     "metadata": {},
     "output_type": "execute_result"
    }
   ],
   "source": [
    "my_noise[1:2, :2]"
   ]
  },
  {
   "cell_type": "markdown",
   "id": "b479a82c",
   "metadata": {},
   "source": [
    "#### Summaries of a matrix"
   ]
  },
  {
   "cell_type": "markdown",
   "id": "ad18c361",
   "metadata": {},
   "source": [
    "A numpy matrix has many methods to compute things about itself, like the sum or mean of its values."
   ]
  },
  {
   "cell_type": "markdown",
   "id": "fcdb6d45",
   "metadata": {},
   "source": [
    "Here's the sum of all the elements of my_noise:"
   ]
  },
  {
   "cell_type": "code",
   "execution_count": 13,
   "id": "26c04dba",
   "metadata": {},
   "outputs": [
    {
     "data": {
      "text/plain": [
       "1.1944791153694614"
      ]
     },
     "execution_count": 13,
     "metadata": {},
     "output_type": "execute_result"
    }
   ],
   "source": [
    "my_noise.sum()"
   ]
  },
  {
   "cell_type": "markdown",
   "id": "1ceb84f3",
   "metadata": {},
   "source": [
    "Here's the arithmetic mean:"
   ]
  },
  {
   "cell_type": "code",
   "execution_count": 14,
   "id": "a27abb4a",
   "metadata": {},
   "outputs": [
    {
     "data": {
      "text/plain": [
       "0.07465494471059134"
      ]
     },
     "execution_count": 14,
     "metadata": {},
     "output_type": "execute_result"
    }
   ],
   "source": [
    "my_noise.mean()"
   ]
  },
  {
   "cell_type": "markdown",
   "id": "819305d2",
   "metadata": {},
   "source": [
    "In the cell below, try `mean(0)` and `mean(1)` – what do these do?"
   ]
  },
  {
   "cell_type": "code",
   "execution_count": 22,
   "id": "2350d6e8",
   "metadata": {},
   "outputs": [
    {
     "data": {
      "text/plain": [
       "array([ 0.22996592, -0.24411651,  0.09895413,  0.21381623])"
      ]
     },
     "execution_count": 22,
     "metadata": {},
     "output_type": "execute_result"
    }
   ],
   "source": [
    "my_noise.mean(0) # calculates mean of columns"
   ]
  },
  {
   "cell_type": "code",
   "execution_count": 23,
   "id": "c9956656-cac0-4fcf-bcc6-e009dc17fc98",
   "metadata": {
    "tags": []
   },
   "outputs": [
    {
     "data": {
      "text/plain": [
       "array([-0.49367536,  0.36205464,  0.5329069 , -0.1026664 ])"
      ]
     },
     "execution_count": 23,
     "metadata": {},
     "output_type": "execute_result"
    }
   ],
   "source": [
    "my_noise.mean(1) # calculates mean of rows"
   ]
  },
  {
   "cell_type": "markdown",
   "id": "48689ae4",
   "metadata": {},
   "source": [
    "mean(1) calculates the means of the rows, and mean(0) calculates the means of the columns."
   ]
  },
  {
   "cell_type": "markdown",
   "id": "fa938fa8",
   "metadata": {},
   "source": [
    " In the cell below, do a dir(my_noise):"
   ]
  },
  {
   "cell_type": "code",
   "execution_count": 18,
   "id": "29fde8e9",
   "metadata": {},
   "outputs": [
    {
     "data": {
      "text/plain": [
       "['T',\n",
       " '__abs__',\n",
       " '__add__',\n",
       " '__and__',\n",
       " '__array__',\n",
       " '__array_finalize__',\n",
       " '__array_function__',\n",
       " '__array_interface__',\n",
       " '__array_prepare__',\n",
       " '__array_priority__',\n",
       " '__array_struct__',\n",
       " '__array_ufunc__',\n",
       " '__array_wrap__',\n",
       " '__bool__',\n",
       " '__class__',\n",
       " '__class_getitem__',\n",
       " '__complex__',\n",
       " '__contains__',\n",
       " '__copy__',\n",
       " '__deepcopy__',\n",
       " '__delattr__',\n",
       " '__delitem__',\n",
       " '__dir__',\n",
       " '__divmod__',\n",
       " '__dlpack__',\n",
       " '__dlpack_device__',\n",
       " '__doc__',\n",
       " '__eq__',\n",
       " '__float__',\n",
       " '__floordiv__',\n",
       " '__format__',\n",
       " '__ge__',\n",
       " '__getattribute__',\n",
       " '__getitem__',\n",
       " '__getstate__',\n",
       " '__gt__',\n",
       " '__hash__',\n",
       " '__iadd__',\n",
       " '__iand__',\n",
       " '__ifloordiv__',\n",
       " '__ilshift__',\n",
       " '__imatmul__',\n",
       " '__imod__',\n",
       " '__imul__',\n",
       " '__index__',\n",
       " '__init__',\n",
       " '__init_subclass__',\n",
       " '__int__',\n",
       " '__invert__',\n",
       " '__ior__',\n",
       " '__ipow__',\n",
       " '__irshift__',\n",
       " '__isub__',\n",
       " '__iter__',\n",
       " '__itruediv__',\n",
       " '__ixor__',\n",
       " '__le__',\n",
       " '__len__',\n",
       " '__lshift__',\n",
       " '__lt__',\n",
       " '__matmul__',\n",
       " '__mod__',\n",
       " '__mul__',\n",
       " '__ne__',\n",
       " '__neg__',\n",
       " '__new__',\n",
       " '__or__',\n",
       " '__pos__',\n",
       " '__pow__',\n",
       " '__radd__',\n",
       " '__rand__',\n",
       " '__rdivmod__',\n",
       " '__reduce__',\n",
       " '__reduce_ex__',\n",
       " '__repr__',\n",
       " '__rfloordiv__',\n",
       " '__rlshift__',\n",
       " '__rmatmul__',\n",
       " '__rmod__',\n",
       " '__rmul__',\n",
       " '__ror__',\n",
       " '__rpow__',\n",
       " '__rrshift__',\n",
       " '__rshift__',\n",
       " '__rsub__',\n",
       " '__rtruediv__',\n",
       " '__rxor__',\n",
       " '__setattr__',\n",
       " '__setitem__',\n",
       " '__setstate__',\n",
       " '__sizeof__',\n",
       " '__str__',\n",
       " '__sub__',\n",
       " '__subclasshook__',\n",
       " '__truediv__',\n",
       " '__xor__',\n",
       " 'all',\n",
       " 'any',\n",
       " 'argmax',\n",
       " 'argmin',\n",
       " 'argpartition',\n",
       " 'argsort',\n",
       " 'astype',\n",
       " 'base',\n",
       " 'byteswap',\n",
       " 'choose',\n",
       " 'clip',\n",
       " 'compress',\n",
       " 'conj',\n",
       " 'conjugate',\n",
       " 'copy',\n",
       " 'ctypes',\n",
       " 'cumprod',\n",
       " 'cumsum',\n",
       " 'data',\n",
       " 'diagonal',\n",
       " 'dot',\n",
       " 'dtype',\n",
       " 'dump',\n",
       " 'dumps',\n",
       " 'fill',\n",
       " 'flags',\n",
       " 'flat',\n",
       " 'flatten',\n",
       " 'getfield',\n",
       " 'imag',\n",
       " 'item',\n",
       " 'itemset',\n",
       " 'itemsize',\n",
       " 'max',\n",
       " 'mean',\n",
       " 'min',\n",
       " 'nbytes',\n",
       " 'ndim',\n",
       " 'newbyteorder',\n",
       " 'nonzero',\n",
       " 'partition',\n",
       " 'prod',\n",
       " 'ptp',\n",
       " 'put',\n",
       " 'ravel',\n",
       " 'real',\n",
       " 'repeat',\n",
       " 'reshape',\n",
       " 'resize',\n",
       " 'round',\n",
       " 'searchsorted',\n",
       " 'setfield',\n",
       " 'setflags',\n",
       " 'shape',\n",
       " 'size',\n",
       " 'sort',\n",
       " 'squeeze',\n",
       " 'std',\n",
       " 'strides',\n",
       " 'sum',\n",
       " 'swapaxes',\n",
       " 'take',\n",
       " 'tobytes',\n",
       " 'tofile',\n",
       " 'tolist',\n",
       " 'tostring',\n",
       " 'trace',\n",
       " 'transpose',\n",
       " 'var',\n",
       " 'view']"
      ]
     },
     "execution_count": 18,
     "metadata": {},
     "output_type": "execute_result"
    }
   ],
   "source": [
    "dir(my_noise)"
   ]
  },
  {
   "cell_type": "markdown",
   "id": "37880f4e",
   "metadata": {},
   "source": [
    "Now, in the cell below, see if you can use a method of `my_noise` to round all the numbers to the nearest integer:"
   ]
  },
  {
   "cell_type": "code",
   "execution_count": 21,
   "id": "735b8287",
   "metadata": {},
   "outputs": [
    {
     "data": {
      "text/plain": [
       "array([[ 0.,  0., -2., -0.],\n",
       "       [ 2., -1.,  1., -0.],\n",
       "       [ 0.,  1., -0.,  1.],\n",
       "       [-1., -1.,  1.,  0.]])"
      ]
     },
     "execution_count": 21,
     "metadata": {},
     "output_type": "execute_result"
    }
   ],
   "source": [
    "my_noise.round()"
   ]
  }
 ],
 "metadata": {
  "kernelspec": {
   "display_name": "Python 3 (ipykernel)",
   "language": "python",
   "name": "python3"
  },
  "language_info": {
   "codemirror_mode": {
    "name": "ipython",
    "version": 3
   },
   "file_extension": ".py",
   "mimetype": "text/x-python",
   "name": "python",
   "nbconvert_exporter": "python",
   "pygments_lexer": "ipython3",
   "version": "3.11.5"
  }
 },
 "nbformat": 4,
 "nbformat_minor": 5
}
