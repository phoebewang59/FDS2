{
 "cells": [
  {
   "cell_type": "markdown",
   "id": "2a4de5a1-38a1-43a4-ba11-903f986070b9",
   "metadata": {},
   "source": [
    "# Wraggling, Summarizing, and Plotting "
   ]
  },
  {
   "cell_type": "markdown",
   "id": "70b7903c-0e50-4de1-8e83-a78618a6fb0c",
   "metadata": {},
   "source": [
    "## Preliminaries"
   ]
  },
  {
   "cell_type": "markdown",
   "id": "ad887da2-7b37-472f-830d-6394c414e10d",
   "metadata": {},
   "source": [
    "You don't need to import numpy to run pandas, but numpy comes in handy so often, we generally import it as well."
   ]
  },
  {
   "cell_type": "code",
   "execution_count": 121,
   "id": "16d99e60-98ff-4299-a55b-23a65a1c0f79",
   "metadata": {
    "tags": []
   },
   "outputs": [],
   "source": [
    "import numpy as np\n",
    "import pandas as pd"
   ]
  },
  {
   "cell_type": "markdown",
   "id": "9db1ea3b-3ea5-408a-ab18-8e5fd096b9b3",
   "metadata": {},
   "source": [
    "Let's re-use our function to load and clean up data from last time (but with a new name)."
   ]
  },
  {
   "cell_type": "code",
   "execution_count": 122,
   "id": "505e9afb-190b-41e5-b649-0257d4b60cf5",
   "metadata": {
    "tags": []
   },
   "outputs": [],
   "source": [
    "def bcd_load_clean():\n",
    "    bcd = pd.read_csv('./data/breast_cancer_data.csv')\n",
    "    bcd['patient_id'] = bcd['patient_id'].astype('string')\n",
    "    bcd['doctor_name'] = bcd['doctor_name'].str.split().str[1]\n",
    "    bcd['bare_nuclei'] = bcd['bare_nuclei'].replace('?', '')\n",
    "    bcd['bare_nuclei'] = pd.to_numeric(bcd['bare_nuclei'])\n",
    "    \n",
    "    return bcd"
   ]
  },
  {
   "cell_type": "markdown",
   "id": "f88a2cf5-228a-42ee-a276-c5494495378a",
   "metadata": {},
   "source": [
    "---"
   ]
  },
  {
   "cell_type": "markdown",
   "id": "25a8428b-cbc8-4335-b08b-70b270aa7ed5",
   "metadata": {},
   "source": [
    "Load our data:"
   ]
  },
  {
   "cell_type": "code",
   "execution_count": 123,
   "id": "ff5e515d-c4ef-4d1e-b6b7-d6eec8a4ec84",
   "metadata": {
    "tags": []
   },
   "outputs": [],
   "source": [
    "bcd = bcd_load_clean()"
   ]
  },
  {
   "cell_type": "markdown",
   "id": "bf5f597d-9987-4c21-99c3-85588a24a726",
   "metadata": {},
   "source": [
    "---"
   ]
  },
  {
   "cell_type": "markdown",
   "id": "abbcbdde-1ec7-45a5-981f-d22aeee8ec5d",
   "metadata": {},
   "source": [
    "Now, for convenience, let's make a smaller data set to play with. We'll do this by dropping some of the columns."
   ]
  },
  {
   "cell_type": "markdown",
   "id": "83ee2606-7905-4579-b48f-f07aa034fd35",
   "metadata": {},
   "source": [
    "We can do this in one of two ways. We can either `.drop` the columns we don't want, or `.copy` the columns we do. Here's the first method:"
   ]
  },
  {
   "cell_type": "code",
   "execution_count": 124,
   "id": "9f9dcad4-8a48-44cf-b9dd-fe9df1dd90a3",
   "metadata": {
    "tags": []
   },
   "outputs": [],
   "source": [
    "bcd2 = bcd.drop(labels = ['patient_id', 'cell_size_uniformity', 'cell_shape_uniformity', \n",
    "                          'cell_shape_uniformity', 'marginal_adhesion', 'single_ep_cell_size',\n",
    "                          'bare_nuclei', 'normal_nucleoli', 'mitoses'],\n",
    "                axis = 1,             # we're selecting column - default is rows\n",
    "                inplace = False)      # we could modify bcd itself with True"
   ]
  },
  {
   "cell_type": "code",
   "execution_count": 125,
   "id": "48d3596b-2b15-4ca1-b104-c1f90a7ba5e5",
   "metadata": {
    "tags": []
   },
   "outputs": [
    {
     "data": {
      "text/html": [
       "<div>\n",
       "<style scoped>\n",
       "    .dataframe tbody tr th:only-of-type {\n",
       "        vertical-align: middle;\n",
       "    }\n",
       "\n",
       "    .dataframe tbody tr th {\n",
       "        vertical-align: top;\n",
       "    }\n",
       "\n",
       "    .dataframe thead th {\n",
       "        text-align: right;\n",
       "    }\n",
       "</style>\n",
       "<table border=\"1\" class=\"dataframe\">\n",
       "  <thead>\n",
       "    <tr style=\"text-align: right;\">\n",
       "      <th></th>\n",
       "      <th>clump_thickness</th>\n",
       "      <th>bland_chromatin</th>\n",
       "      <th>class</th>\n",
       "      <th>doctor_name</th>\n",
       "    </tr>\n",
       "  </thead>\n",
       "  <tbody>\n",
       "    <tr>\n",
       "      <th>0</th>\n",
       "      <td>5.0</td>\n",
       "      <td>3.0</td>\n",
       "      <td>benign</td>\n",
       "      <td>Doe</td>\n",
       "    </tr>\n",
       "    <tr>\n",
       "      <th>1</th>\n",
       "      <td>5.0</td>\n",
       "      <td>3.0</td>\n",
       "      <td>benign</td>\n",
       "      <td>Smith</td>\n",
       "    </tr>\n",
       "    <tr>\n",
       "      <th>2</th>\n",
       "      <td>3.0</td>\n",
       "      <td>3.0</td>\n",
       "      <td>benign</td>\n",
       "      <td>Lee</td>\n",
       "    </tr>\n",
       "    <tr>\n",
       "      <th>3</th>\n",
       "      <td>6.0</td>\n",
       "      <td>3.0</td>\n",
       "      <td>benign</td>\n",
       "      <td>Smith</td>\n",
       "    </tr>\n",
       "    <tr>\n",
       "      <th>4</th>\n",
       "      <td>4.0</td>\n",
       "      <td>3.0</td>\n",
       "      <td>benign</td>\n",
       "      <td>Wong</td>\n",
       "    </tr>\n",
       "    <tr>\n",
       "      <th>...</th>\n",
       "      <td>...</td>\n",
       "      <td>...</td>\n",
       "      <td>...</td>\n",
       "      <td>...</td>\n",
       "    </tr>\n",
       "    <tr>\n",
       "      <th>694</th>\n",
       "      <td>3.0</td>\n",
       "      <td>1.0</td>\n",
       "      <td>benign</td>\n",
       "      <td>Lee</td>\n",
       "    </tr>\n",
       "    <tr>\n",
       "      <th>695</th>\n",
       "      <td>2.0</td>\n",
       "      <td>1.0</td>\n",
       "      <td>benign</td>\n",
       "      <td>Smith</td>\n",
       "    </tr>\n",
       "    <tr>\n",
       "      <th>696</th>\n",
       "      <td>5.0</td>\n",
       "      <td>8.0</td>\n",
       "      <td>malignant</td>\n",
       "      <td>Lee</td>\n",
       "    </tr>\n",
       "    <tr>\n",
       "      <th>697</th>\n",
       "      <td>4.0</td>\n",
       "      <td>10.0</td>\n",
       "      <td>malignant</td>\n",
       "      <td>Lee</td>\n",
       "    </tr>\n",
       "    <tr>\n",
       "      <th>698</th>\n",
       "      <td>4.0</td>\n",
       "      <td>10.0</td>\n",
       "      <td>malignant</td>\n",
       "      <td>Wong</td>\n",
       "    </tr>\n",
       "  </tbody>\n",
       "</table>\n",
       "<p>699 rows × 4 columns</p>\n",
       "</div>"
      ],
      "text/plain": [
       "     clump_thickness  bland_chromatin      class doctor_name\n",
       "0                5.0              3.0     benign         Doe\n",
       "1                5.0              3.0     benign       Smith\n",
       "2                3.0              3.0     benign         Lee\n",
       "3                6.0              3.0     benign       Smith\n",
       "4                4.0              3.0     benign        Wong\n",
       "..               ...              ...        ...         ...\n",
       "694              3.0              1.0     benign         Lee\n",
       "695              2.0              1.0     benign       Smith\n",
       "696              5.0              8.0  malignant         Lee\n",
       "697              4.0             10.0  malignant         Lee\n",
       "698              4.0             10.0  malignant        Wong\n",
       "\n",
       "[699 rows x 4 columns]"
      ]
     },
     "execution_count": 125,
     "metadata": {},
     "output_type": "execute_result"
    }
   ],
   "source": [
    "bcd2"
   ]
  },
  {
   "cell_type": "markdown",
   "id": "230db3a2-4a0d-48f9-81d0-b6962467b255",
   "metadata": {},
   "source": [
    "---"
   ]
  },
  {
   "cell_type": "markdown",
   "id": "11f0b470-dc2e-4bb0-bd16-3d5b90b9904d",
   "metadata": {},
   "source": [
    "In the cell below, make the same new data frame using column indexing and the `.copy()` method."
   ]
  },
  {
   "cell_type": "code",
   "execution_count": 126,
   "id": "234f1dea-d2d7-4fc2-875a-9500e863e596",
   "metadata": {
    "tags": []
   },
   "outputs": [],
   "source": [
    " # make new bcd2 using .copy()\n",
    "bcd2 = bcd2.copy()"
   ]
  },
  {
   "cell_type": "code",
   "execution_count": 127,
   "id": "06b4eef3-bdf1-4b34-a0f1-1f0c50b9c422",
   "metadata": {
    "tags": []
   },
   "outputs": [
    {
     "data": {
      "text/html": [
       "<div>\n",
       "<style scoped>\n",
       "    .dataframe tbody tr th:only-of-type {\n",
       "        vertical-align: middle;\n",
       "    }\n",
       "\n",
       "    .dataframe tbody tr th {\n",
       "        vertical-align: top;\n",
       "    }\n",
       "\n",
       "    .dataframe thead th {\n",
       "        text-align: right;\n",
       "    }\n",
       "</style>\n",
       "<table border=\"1\" class=\"dataframe\">\n",
       "  <thead>\n",
       "    <tr style=\"text-align: right;\">\n",
       "      <th></th>\n",
       "      <th>clump_thickness</th>\n",
       "      <th>bland_chromatin</th>\n",
       "      <th>class</th>\n",
       "      <th>doctor_name</th>\n",
       "    </tr>\n",
       "  </thead>\n",
       "  <tbody>\n",
       "    <tr>\n",
       "      <th>0</th>\n",
       "      <td>5.0</td>\n",
       "      <td>3.0</td>\n",
       "      <td>benign</td>\n",
       "      <td>Doe</td>\n",
       "    </tr>\n",
       "    <tr>\n",
       "      <th>1</th>\n",
       "      <td>5.0</td>\n",
       "      <td>3.0</td>\n",
       "      <td>benign</td>\n",
       "      <td>Smith</td>\n",
       "    </tr>\n",
       "    <tr>\n",
       "      <th>2</th>\n",
       "      <td>3.0</td>\n",
       "      <td>3.0</td>\n",
       "      <td>benign</td>\n",
       "      <td>Lee</td>\n",
       "    </tr>\n",
       "    <tr>\n",
       "      <th>3</th>\n",
       "      <td>6.0</td>\n",
       "      <td>3.0</td>\n",
       "      <td>benign</td>\n",
       "      <td>Smith</td>\n",
       "    </tr>\n",
       "    <tr>\n",
       "      <th>4</th>\n",
       "      <td>4.0</td>\n",
       "      <td>3.0</td>\n",
       "      <td>benign</td>\n",
       "      <td>Wong</td>\n",
       "    </tr>\n",
       "    <tr>\n",
       "      <th>...</th>\n",
       "      <td>...</td>\n",
       "      <td>...</td>\n",
       "      <td>...</td>\n",
       "      <td>...</td>\n",
       "    </tr>\n",
       "    <tr>\n",
       "      <th>694</th>\n",
       "      <td>3.0</td>\n",
       "      <td>1.0</td>\n",
       "      <td>benign</td>\n",
       "      <td>Lee</td>\n",
       "    </tr>\n",
       "    <tr>\n",
       "      <th>695</th>\n",
       "      <td>2.0</td>\n",
       "      <td>1.0</td>\n",
       "      <td>benign</td>\n",
       "      <td>Smith</td>\n",
       "    </tr>\n",
       "    <tr>\n",
       "      <th>696</th>\n",
       "      <td>5.0</td>\n",
       "      <td>8.0</td>\n",
       "      <td>malignant</td>\n",
       "      <td>Lee</td>\n",
       "    </tr>\n",
       "    <tr>\n",
       "      <th>697</th>\n",
       "      <td>4.0</td>\n",
       "      <td>10.0</td>\n",
       "      <td>malignant</td>\n",
       "      <td>Lee</td>\n",
       "    </tr>\n",
       "    <tr>\n",
       "      <th>698</th>\n",
       "      <td>4.0</td>\n",
       "      <td>10.0</td>\n",
       "      <td>malignant</td>\n",
       "      <td>Wong</td>\n",
       "    </tr>\n",
       "  </tbody>\n",
       "</table>\n",
       "<p>699 rows × 4 columns</p>\n",
       "</div>"
      ],
      "text/plain": [
       "     clump_thickness  bland_chromatin      class doctor_name\n",
       "0                5.0              3.0     benign         Doe\n",
       "1                5.0              3.0     benign       Smith\n",
       "2                3.0              3.0     benign         Lee\n",
       "3                6.0              3.0     benign       Smith\n",
       "4                4.0              3.0     benign        Wong\n",
       "..               ...              ...        ...         ...\n",
       "694              3.0              1.0     benign         Lee\n",
       "695              2.0              1.0     benign       Smith\n",
       "696              5.0              8.0  malignant         Lee\n",
       "697              4.0             10.0  malignant         Lee\n",
       "698              4.0             10.0  malignant        Wong\n",
       "\n",
       "[699 rows x 4 columns]"
      ]
     },
     "execution_count": 127,
     "metadata": {},
     "output_type": "execute_result"
    }
   ],
   "source": [
    " # look at new bcd2\n",
    "bcd2"
   ]
  },
  {
   "cell_type": "markdown",
   "id": "b1aeac59-f5d7-40f3-9159-8a1e367a9f25",
   "metadata": {},
   "source": [
    "---"
   ]
  },
  {
   "cell_type": "markdown",
   "id": "c0cdfc35-aee9-43bc-96dd-958a7cead18d",
   "metadata": {},
   "source": [
    "## What might we want from this data set?"
   ]
  },
  {
   "cell_type": "markdown",
   "id": "b4279058-acf3-42b8-8b21-e7e6adfa87a5",
   "metadata": {},
   "source": [
    "The main thing that comes to mind is whether any of the measures are related to the kind of tumor. To do this, we can\n",
    "\n",
    "- group the data by the \"class\" column\n",
    "- perform some operation, like computing the mean, separately for the groups.\n",
    "\n",
    "We might also want to see if the doctors are behaving consistently with respect to one another."
   ]
  },
  {
   "cell_type": "markdown",
   "id": "37a6b866-c518-418a-8050-1f2ac81806b3",
   "metadata": {},
   "source": [
    "### The split-apply-combine workflow"
   ]
  },
  {
   "cell_type": "markdown",
   "id": "7a29f577-46c2-4817-a6c6-25e43f7fcc81",
   "metadata": {},
   "source": [
    "Much of data wrangling can be thought of \"split-apply-combine\". This is where we\n",
    "\n",
    "- *split* the data into groups\n",
    "- do (\"*apply*\") some function or manipulation on a per-group basis\n",
    "- *combine* the results back into a data frame, series, etc.\n",
    "\n",
    "Happily, the \"combine\" step is often handled for you by the methods that do the \"apply\" step."
   ]
  },
  {
   "cell_type": "markdown",
   "id": "6a4c64d3-ee7c-4bbf-b106-681e978ce3c8",
   "metadata": {},
   "source": [
    "#### Splitting - the `groupby()` method"
   ]
  },
  {
   "cell_type": "markdown",
   "id": "dc02d2c1-d9dc-435a-9b8b-4936eb893421",
   "metadata": {},
   "source": [
    "Grouping the data is easy using the `groupby()` method. We just provide the name of a grouping variable. Since the main question at hand is how the measurements might relate to the type of tumor, Let's group by tumor \"class\"."
   ]
  },
  {
   "cell_type": "code",
   "execution_count": 128,
   "id": "4fea4deb-06cc-41aa-8109-817bd56e0bca",
   "metadata": {
    "tags": []
   },
   "outputs": [],
   "source": [
    "grpd = bcd2.groupby('class')"
   ]
  },
  {
   "cell_type": "markdown",
   "id": "ee3bbac2-d75d-4af0-a2da-029de4391b6c",
   "metadata": {},
   "source": [
    "If we try to look at it:"
   ]
  },
  {
   "cell_type": "code",
   "execution_count": 129,
   "id": "a1e17096-82ec-4cda-8ef9-9e21a27e89c4",
   "metadata": {
    "tags": []
   },
   "outputs": [
    {
     "data": {
      "text/plain": [
       "<pandas.core.groupby.generic.DataFrameGroupBy object at 0x13cd39b90>"
      ]
     },
     "execution_count": 129,
     "metadata": {},
     "output_type": "execute_result"
    }
   ],
   "source": [
    "grpd"
   ]
  },
  {
   "cell_type": "markdown",
   "id": "c8b06fb3-5b3b-4c94-8c89-2a236f800c92",
   "metadata": {},
   "source": [
    "we see that the output of '.groupby() isn't a regular data frame, but rather a `DataFrameGroupBy` object. To interegate it, well need to use its methods or look at its attributes."
   ]
  },
  {
   "cell_type": "markdown",
   "id": "4102ed78-0292-4728-9947-952ea32a66c6",
   "metadata": {},
   "source": [
    "---"
   ]
  },
  {
   "cell_type": "markdown",
   "id": "ec7e8ed7-1d8e-4251-96a2-af5f904b18a0",
   "metadata": {},
   "source": [
    "In the cell below, use the \\<TAB\\> key trick to browse the methods and properties that `grpd` has."
   ]
  },
  {
   "cell_type": "code",
   "execution_count": null,
   "id": "081a2fdb-709c-40f8-a1c4-91b7c98c7092",
   "metadata": {},
   "outputs": [],
   "source": [
    "grpd."
   ]
  },
  {
   "cell_type": "markdown",
   "id": "25ac46ee-0279-4781-b4ce-f4cf31b557ed",
   "metadata": {},
   "source": [
    "---"
   ]
  },
  {
   "cell_type": "markdown",
   "id": "99cd6d86-1f69-489c-b39f-68fb14d65362",
   "metadata": {},
   "source": [
    "One of the early methods on the list is `.boxplot` - see what that does in the cell below!"
   ]
  },
  {
   "cell_type": "code",
   "execution_count": 131,
   "id": "02976979-3aea-4302-a773-56e4e1ccd4c8",
   "metadata": {
    "tags": []
   },
   "outputs": [
    {
     "data": {
      "image/png": "[encoded data removed]",
      "text/plain": [
       "<Figure size 640x480 with 2 Axes>"
      ]
     },
     "metadata": {},
     "output_type": "display_data"
    }
   ],
   "source": [
    "grpd.boxplot();"
   ]
  },
  {
   "cell_type": "markdown",
   "id": "b3bded70-a518-46a5-bfd8-755475ad1cb2",
   "metadata": {},
   "source": [
    "While not the prettiest plot in the world, it does give us a hint that both of these variables might be related to tumor size.\n",
    "\n",
    "(Make sure you remember or remind yourself what a box shows you.)"
   ]
  },
  {
   "cell_type": "markdown",
   "id": "fd8a3f44-63da-47a5-a6d4-a7edf4cb847a",
   "metadata": {},
   "source": [
    "---"
   ]
  },
  {
   "cell_type": "markdown",
   "id": "f26f632e-3d35-4b1d-bca8-5ccff6ad5d1b",
   "metadata": {},
   "source": [
    "Now let's see if we can `.describe` the grouped data using the cell below."
   ]
  },
  {
   "cell_type": "code",
   "execution_count": 132,
   "id": "98f95991-7ce2-4d38-a3bd-2448098e06b2",
   "metadata": {
    "tags": []
   },
   "outputs": [
    {
     "data": {
      "text/html": [
       "<div>\n",
       "<style scoped>\n",
       "    .dataframe tbody tr th:only-of-type {\n",
       "        vertical-align: middle;\n",
       "    }\n",
       "\n",
       "    .dataframe tbody tr th {\n",
       "        vertical-align: top;\n",
       "    }\n",
       "\n",
       "    .dataframe thead tr th {\n",
       "        text-align: left;\n",
       "    }\n",
       "\n",
       "    .dataframe thead tr:last-of-type th {\n",
       "        text-align: right;\n",
       "    }\n",
       "</style>\n",
       "<table border=\"1\" class=\"dataframe\">\n",
       "  <thead>\n",
       "    <tr>\n",
       "      <th></th>\n",
       "      <th colspan=\"8\" halign=\"left\">clump_thickness</th>\n",
       "      <th colspan=\"8\" halign=\"left\">bland_chromatin</th>\n",
       "    </tr>\n",
       "    <tr>\n",
       "      <th></th>\n",
       "      <th>count</th>\n",
       "      <th>mean</th>\n",
       "      <th>std</th>\n",
       "      <th>min</th>\n",
       "      <th>25%</th>\n",
       "      <th>50%</th>\n",
       "      <th>75%</th>\n",
       "      <th>max</th>\n",
       "      <th>count</th>\n",
       "      <th>mean</th>\n",
       "      <th>std</th>\n",
       "      <th>min</th>\n",
       "      <th>25%</th>\n",
       "      <th>50%</th>\n",
       "      <th>75%</th>\n",
       "      <th>max</th>\n",
       "    </tr>\n",
       "    <tr>\n",
       "      <th>class</th>\n",
       "      <th></th>\n",
       "      <th></th>\n",
       "      <th></th>\n",
       "      <th></th>\n",
       "      <th></th>\n",
       "      <th></th>\n",
       "      <th></th>\n",
       "      <th></th>\n",
       "      <th></th>\n",
       "      <th></th>\n",
       "      <th></th>\n",
       "      <th></th>\n",
       "      <th></th>\n",
       "      <th></th>\n",
       "      <th></th>\n",
       "      <th></th>\n",
       "    </tr>\n",
       "  </thead>\n",
       "  <tbody>\n",
       "    <tr>\n",
       "      <th>benign</th>\n",
       "      <td>458.0</td>\n",
       "      <td>2.956332</td>\n",
       "      <td>1.674318</td>\n",
       "      <td>1.0</td>\n",
       "      <td>1.0</td>\n",
       "      <td>3.0</td>\n",
       "      <td>4.0</td>\n",
       "      <td>8.0</td>\n",
       "      <td>455.0</td>\n",
       "      <td>2.105495</td>\n",
       "      <td>1.081417</td>\n",
       "      <td>1.0</td>\n",
       "      <td>1.0</td>\n",
       "      <td>2.0</td>\n",
       "      <td>3.0</td>\n",
       "      <td>7.0</td>\n",
       "    </tr>\n",
       "    <tr>\n",
       "      <th>malignant</th>\n",
       "      <td>240.0</td>\n",
       "      <td>7.204167</td>\n",
       "      <td>2.429763</td>\n",
       "      <td>1.0</td>\n",
       "      <td>5.0</td>\n",
       "      <td>8.0</td>\n",
       "      <td>10.0</td>\n",
       "      <td>10.0</td>\n",
       "      <td>240.0</td>\n",
       "      <td>5.991667</td>\n",
       "      <td>2.270406</td>\n",
       "      <td>1.0</td>\n",
       "      <td>4.0</td>\n",
       "      <td>7.0</td>\n",
       "      <td>7.0</td>\n",
       "      <td>10.0</td>\n",
       "    </tr>\n",
       "  </tbody>\n",
       "</table>\n",
       "</div>"
      ],
      "text/plain": [
       "          clump_thickness                                                 \\\n",
       "                    count      mean       std  min  25%  50%   75%   max   \n",
       "class                                                                      \n",
       "benign              458.0  2.956332  1.674318  1.0  1.0  3.0   4.0   8.0   \n",
       "malignant           240.0  7.204167  2.429763  1.0  5.0  8.0  10.0  10.0   \n",
       "\n",
       "          bland_chromatin                                                \n",
       "                    count      mean       std  min  25%  50%  75%   max  \n",
       "class                                                                    \n",
       "benign              455.0  2.105495  1.081417  1.0  1.0  2.0  3.0   7.0  \n",
       "malignant           240.0  5.991667  2.270406  1.0  4.0  7.0  7.0  10.0  "
      ]
     },
     "execution_count": 132,
     "metadata": {},
     "output_type": "execute_result"
    }
   ],
   "source": [
    "  # some useful summary numbers\n",
    "grpd.describe()"
   ]
  },
  {
   "cell_type": "markdown",
   "id": "75415060-f814-4583-ae0c-c9620ebc8e79",
   "metadata": {},
   "source": [
    "---"
   ]
  },
  {
   "cell_type": "markdown",
   "id": "d5e5c94e-0c76-43f3-9b92-772976bd1fda",
   "metadata": {},
   "source": [
    "What is the approximate mean difference between the groups for each of the two measures?"
   ]
  },
  {
   "cell_type": "markdown",
   "id": "41fdbc2d-a0ff-43e7-8c1f-7b0391381b04",
   "metadata": {},
   "source": [
    "The two groups have a mean difference of around 4.24 for clump thickness and around 3.88 for bland chromatin - malignant tumors are greater than benign tumors in both measures."
   ]
  },
  {
   "cell_type": "markdown",
   "id": "4cd10592-c012-49a9-bf58-2cef8ee928c0",
   "metadata": {},
   "source": [
    "---"
   ]
  },
  {
   "cell_type": "markdown",
   "id": "9181c952-b9ff-44e9-a1ce-8ce60cc91006",
   "metadata": {},
   "source": [
    "Do a very rough guesstimate of Student's *t* for the clump thickness (e.g., just use the larger `std` and smaller `countn`). You can use the cell below as a calculator if you like. "
   ]
  },
  {
   "cell_type": "code",
   "execution_count": 133,
   "id": "8deb2d34-8d51-423f-aa78-642e2ca68faf",
   "metadata": {
    "tags": []
   },
   "outputs": [
    {
     "data": {
      "text/plain": [
       "-24.235866562874453"
      ]
     },
     "execution_count": 133,
     "metadata": {},
     "output_type": "execute_result"
    }
   ],
   "source": [
    "b_mean = grpd[\"clump_thickness\"].mean()[0]\n",
    "b_sd = grpd[\"clump_thickness\"].std()[0]\n",
    "b_n = grpd[\"clump_thickness\"].count()[0]\n",
    "\n",
    "m_mean = grpd[\"clump_thickness\"].mean()[1]\n",
    "m_sd = grpd[\"clump_thickness\"].std()[1]\n",
    "m_n = grpd[\"clump_thickness\"].count()[1]\n",
    "\n",
    "t = (b_mean - m_mean)/np.sqrt(((b_sd**2)/b_n) + ((m_sd**2)/m_n))\n",
    "t"
   ]
  },
  {
   "cell_type": "markdown",
   "id": "da888977-0443-44f3-93ec-0d2fb2623f64",
   "metadata": {},
   "source": [
    "What does that tell you?"
   ]
  },
  {
   "cell_type": "markdown",
   "id": "b9254018-90c4-4896-8ea7-892e9262307a",
   "metadata": {},
   "source": [
    "The large negative t-statistic indicates that malignant tumors possibly have clump thickness that are significantly thicker than benign tumors. "
   ]
  },
  {
   "cell_type": "markdown",
   "id": "645672c1-0812-441f-9c0c-a9a15ca2be06",
   "metadata": {},
   "source": [
    "---"
   ]
  },
  {
   "cell_type": "markdown",
   "id": "74ea6a6d-5284-4aa1-aec8-f8bf135f3ceb",
   "metadata": {},
   "source": [
    "Now let's make a histogram of grouped data using the appropriate method."
   ]
  },
  {
   "cell_type": "code",
   "execution_count": 134,
   "id": "72c11db0-c387-40bd-81e3-e01a0dd644c5",
   "metadata": {
    "tags": []
   },
   "outputs": [
    {
     "data": {
      "image/png": "[encoded data removed]",
      "text/plain": [
       "<Figure size 640x480 with 2 Axes>"
      ]
     },
     "metadata": {},
     "output_type": "display_data"
    },
    {
     "data": {
      "image/png": "[encoded data removed]",
      "text/plain": [
       "<Figure size 640x480 with 2 Axes>"
      ]
     },
     "metadata": {},
     "output_type": "display_data"
    }
   ],
   "source": [
    "grpd.hist();"
   ]
  },
  {
   "cell_type": "markdown",
   "id": "54aeb66f-ec8c-4158-964b-78737961f64e",
   "metadata": {},
   "source": [
    "Again, not the prettiest plot in the world. By comparison with the boxplot above, we can see that the top row of these histograms correspond to the benign tumors. We can also see that, consistent with the box plots, there is quite a bit overlap in the data values across groups. Is this consistent with your calculation of *t*?"
   ]
  },
  {
   "cell_type": "markdown",
   "id": "cf7b69e0-8660-4276-8243-2b442437b555",
   "metadata": {},
   "source": [
    "This is consistent with my calcuation of t because the distribution of clump thickness for malignant tumors are left skewed while the distribution of clump thickness for benign tumors are right skewed, suggesting that most of the maglignant tumors have greater clump thickness and most of the benign tumors have less clump thickness."
   ]
  },
  {
   "cell_type": "markdown",
   "id": "f1d2fdc7-6b04-488a-9d51-9311f604a549",
   "metadata": {},
   "source": [
    "---"
   ]
  },
  {
   "cell_type": "markdown",
   "id": "9f7372f6-9d11-4bc0-b7d7-fa8ad8f28f88",
   "metadata": {},
   "source": [
    "We can also get the data for a specific group out of the grouped object. This will return a regular data frame the same width as the original, but only containing the requested group's data."
   ]
  },
  {
   "cell_type": "code",
   "execution_count": 135,
   "id": "3842d383-d968-473f-bf70-61d0b6f22361",
   "metadata": {
    "tags": []
   },
   "outputs": [
    {
     "data": {
      "text/html": [
       "<div>\n",
       "<style scoped>\n",
       "    .dataframe tbody tr th:only-of-type {\n",
       "        vertical-align: middle;\n",
       "    }\n",
       "\n",
       "    .dataframe tbody tr th {\n",
       "        vertical-align: top;\n",
       "    }\n",
       "\n",
       "    .dataframe thead th {\n",
       "        text-align: right;\n",
       "    }\n",
       "</style>\n",
       "<table border=\"1\" class=\"dataframe\">\n",
       "  <thead>\n",
       "    <tr style=\"text-align: right;\">\n",
       "      <th></th>\n",
       "      <th>clump_thickness</th>\n",
       "      <th>bland_chromatin</th>\n",
       "      <th>class</th>\n",
       "      <th>doctor_name</th>\n",
       "    </tr>\n",
       "  </thead>\n",
       "  <tbody>\n",
       "    <tr>\n",
       "      <th>0</th>\n",
       "      <td>5.0</td>\n",
       "      <td>3.0</td>\n",
       "      <td>benign</td>\n",
       "      <td>Doe</td>\n",
       "    </tr>\n",
       "    <tr>\n",
       "      <th>1</th>\n",
       "      <td>5.0</td>\n",
       "      <td>3.0</td>\n",
       "      <td>benign</td>\n",
       "      <td>Smith</td>\n",
       "    </tr>\n",
       "    <tr>\n",
       "      <th>2</th>\n",
       "      <td>3.0</td>\n",
       "      <td>3.0</td>\n",
       "      <td>benign</td>\n",
       "      <td>Lee</td>\n",
       "    </tr>\n",
       "    <tr>\n",
       "      <th>3</th>\n",
       "      <td>6.0</td>\n",
       "      <td>3.0</td>\n",
       "      <td>benign</td>\n",
       "      <td>Smith</td>\n",
       "    </tr>\n",
       "    <tr>\n",
       "      <th>4</th>\n",
       "      <td>4.0</td>\n",
       "      <td>3.0</td>\n",
       "      <td>benign</td>\n",
       "      <td>Wong</td>\n",
       "    </tr>\n",
       "    <tr>\n",
       "      <th>...</th>\n",
       "      <td>...</td>\n",
       "      <td>...</td>\n",
       "      <td>...</td>\n",
       "      <td>...</td>\n",
       "    </tr>\n",
       "    <tr>\n",
       "      <th>690</th>\n",
       "      <td>1.0</td>\n",
       "      <td>1.0</td>\n",
       "      <td>benign</td>\n",
       "      <td>Doe</td>\n",
       "    </tr>\n",
       "    <tr>\n",
       "      <th>692</th>\n",
       "      <td>3.0</td>\n",
       "      <td>1.0</td>\n",
       "      <td>benign</td>\n",
       "      <td>Wong</td>\n",
       "    </tr>\n",
       "    <tr>\n",
       "      <th>693</th>\n",
       "      <td>3.0</td>\n",
       "      <td>2.0</td>\n",
       "      <td>benign</td>\n",
       "      <td>Lee</td>\n",
       "    </tr>\n",
       "    <tr>\n",
       "      <th>694</th>\n",
       "      <td>3.0</td>\n",
       "      <td>1.0</td>\n",
       "      <td>benign</td>\n",
       "      <td>Lee</td>\n",
       "    </tr>\n",
       "    <tr>\n",
       "      <th>695</th>\n",
       "      <td>2.0</td>\n",
       "      <td>1.0</td>\n",
       "      <td>benign</td>\n",
       "      <td>Smith</td>\n",
       "    </tr>\n",
       "  </tbody>\n",
       "</table>\n",
       "<p>458 rows × 4 columns</p>\n",
       "</div>"
      ],
      "text/plain": [
       "     clump_thickness  bland_chromatin   class doctor_name\n",
       "0                5.0              3.0  benign         Doe\n",
       "1                5.0              3.0  benign       Smith\n",
       "2                3.0              3.0  benign         Lee\n",
       "3                6.0              3.0  benign       Smith\n",
       "4                4.0              3.0  benign        Wong\n",
       "..               ...              ...     ...         ...\n",
       "690              1.0              1.0  benign         Doe\n",
       "692              3.0              1.0  benign        Wong\n",
       "693              3.0              2.0  benign         Lee\n",
       "694              3.0              1.0  benign         Lee\n",
       "695              2.0              1.0  benign       Smith\n",
       "\n",
       "[458 rows x 4 columns]"
      ]
     },
     "execution_count": 135,
     "metadata": {},
     "output_type": "execute_result"
    }
   ],
   "source": [
    "grpd.get_group('benign')"
   ]
  },
  {
   "cell_type": "markdown",
   "id": "0735f5ed-905b-4beb-a366-6793b254bb7a",
   "metadata": {},
   "source": [
    "---"
   ]
  },
  {
   "cell_type": "markdown",
   "id": "0746b27e-d698-4c12-9a6a-f1a5d1daa56c",
   "metadata": {},
   "source": [
    "In the cell below, confirm that the returned object is indeed a pandas `DataFrame`."
   ]
  },
  {
   "cell_type": "code",
   "execution_count": 136,
   "id": "6cc1c8d1-c4f4-4aed-91e4-7415e91fc43a",
   "metadata": {
    "tags": []
   },
   "outputs": [
    {
     "data": {
      "text/plain": [
       "pandas.core.frame.DataFrame"
      ]
     },
     "execution_count": 136,
     "metadata": {},
     "output_type": "execute_result"
    }
   ],
   "source": [
    "type(grpd.get_group('benign'))"
   ]
  },
  {
   "cell_type": "markdown",
   "id": "dfe13977-030a-4011-8e5c-6d61f7d27f65",
   "metadata": {},
   "source": [
    "---"
   ]
  },
  {
   "cell_type": "markdown",
   "id": "6c5430dd-1ada-4220-9bfe-6592bcabb802",
   "metadata": {},
   "source": [
    "#### Applying - doing things to the data within groups"
   ]
  },
  {
   "cell_type": "markdown",
   "id": "dd85a297-ee93-4763-891a-e70191f0575d",
   "metadata": {},
   "source": [
    "Once we have grouped data, we can easily caluculate things per group. Using the \\<TAB\\> trick, we can see that these objects produced by `groupby()` have methods for all the common statistical summaries."
   ]
  },
  {
   "cell_type": "markdown",
   "id": "bb6639a2-2e95-4f53-98c1-424af538e876",
   "metadata": {},
   "source": [
    "##### *Simple calculations*"
   ]
  },
  {
   "cell_type": "markdown",
   "id": "40aa00f5-7b1f-4e9c-a51e-610511c45f45",
   "metadata": {},
   "source": [
    "We can compute the mean for each measure *by group*"
   ]
  },
  {
   "cell_type": "code",
   "execution_count": 137,
   "id": "e31b93db-8a6a-4f25-8872-04634f051a33",
   "metadata": {
    "tags": []
   },
   "outputs": [
    {
     "data": {
      "text/html": [
       "<div>\n",
       "<style scoped>\n",
       "    .dataframe tbody tr th:only-of-type {\n",
       "        vertical-align: middle;\n",
       "    }\n",
       "\n",
       "    .dataframe tbody tr th {\n",
       "        vertical-align: top;\n",
       "    }\n",
       "\n",
       "    .dataframe thead th {\n",
       "        text-align: right;\n",
       "    }\n",
       "</style>\n",
       "<table border=\"1\" class=\"dataframe\">\n",
       "  <thead>\n",
       "    <tr style=\"text-align: right;\">\n",
       "      <th></th>\n",
       "      <th>clump_thickness</th>\n",
       "      <th>bland_chromatin</th>\n",
       "    </tr>\n",
       "    <tr>\n",
       "      <th>class</th>\n",
       "      <th></th>\n",
       "      <th></th>\n",
       "    </tr>\n",
       "  </thead>\n",
       "  <tbody>\n",
       "    <tr>\n",
       "      <th>benign</th>\n",
       "      <td>2.956332</td>\n",
       "      <td>2.105495</td>\n",
       "    </tr>\n",
       "    <tr>\n",
       "      <th>malignant</th>\n",
       "      <td>7.204167</td>\n",
       "      <td>5.991667</td>\n",
       "    </tr>\n",
       "  </tbody>\n",
       "</table>\n",
       "</div>"
      ],
      "text/plain": [
       "           clump_thickness  bland_chromatin\n",
       "class                                      \n",
       "benign            2.956332         2.105495\n",
       "malignant         7.204167         5.991667"
      ]
     },
     "execution_count": 137,
     "metadata": {},
     "output_type": "execute_result"
    }
   ],
   "source": [
    "my_means = grpd.mean(numeric_only = True)\n",
    "my_means"
   ]
  },
  {
   "cell_type": "markdown",
   "id": "dc6847d2-e404-4c49-8c69-7d83a9380e7b",
   "metadata": {},
   "source": [
    "---"
   ]
  },
  {
   "cell_type": "markdown",
   "id": "ac8ef250-7d21-4dca-878e-3ce38ef47f6e",
   "metadata": {},
   "source": [
    "In the cells below, compute and show the"
   ]
  },
  {
   "cell_type": "markdown",
   "id": "08007584-227e-46ca-a576-786c39681f0e",
   "metadata": {},
   "source": [
    "standard deviations:"
   ]
  },
  {
   "cell_type": "code",
   "execution_count": 138,
   "id": "82c4f01f-6343-4aaa-8021-19ae3944909c",
   "metadata": {
    "tags": []
   },
   "outputs": [
    {
     "data": {
      "text/html": [
       "<div>\n",
       "<style scoped>\n",
       "    .dataframe tbody tr th:only-of-type {\n",
       "        vertical-align: middle;\n",
       "    }\n",
       "\n",
       "    .dataframe tbody tr th {\n",
       "        vertical-align: top;\n",
       "    }\n",
       "\n",
       "    .dataframe thead th {\n",
       "        text-align: right;\n",
       "    }\n",
       "</style>\n",
       "<table border=\"1\" class=\"dataframe\">\n",
       "  <thead>\n",
       "    <tr style=\"text-align: right;\">\n",
       "      <th></th>\n",
       "      <th>clump_thickness</th>\n",
       "      <th>bland_chromatin</th>\n",
       "    </tr>\n",
       "    <tr>\n",
       "      <th>class</th>\n",
       "      <th></th>\n",
       "      <th></th>\n",
       "    </tr>\n",
       "  </thead>\n",
       "  <tbody>\n",
       "    <tr>\n",
       "      <th>benign</th>\n",
       "      <td>1.674318</td>\n",
       "      <td>1.081417</td>\n",
       "    </tr>\n",
       "    <tr>\n",
       "      <th>malignant</th>\n",
       "      <td>2.429763</td>\n",
       "      <td>2.270406</td>\n",
       "    </tr>\n",
       "  </tbody>\n",
       "</table>\n",
       "</div>"
      ],
      "text/plain": [
       "           clump_thickness  bland_chromatin\n",
       "class                                      \n",
       "benign            1.674318         1.081417\n",
       "malignant         2.429763         2.270406"
      ]
     },
     "execution_count": 138,
     "metadata": {},
     "output_type": "execute_result"
    }
   ],
   "source": [
    "my_sds =  grpd.std(numeric_only = True)\n",
    "my_sds"
   ]
  },
  {
   "cell_type": "markdown",
   "id": "8b9b520c-b7b9-4a05-9ed8-8216ddc323e0",
   "metadata": {},
   "source": [
    "and the counts"
   ]
  },
  {
   "cell_type": "code",
   "execution_count": 139,
   "id": "a632b5c5-1d39-43d3-a0b4-bbba2c4d33e6",
   "metadata": {
    "tags": []
   },
   "outputs": [
    {
     "data": {
      "text/html": [
       "<div>\n",
       "<style scoped>\n",
       "    .dataframe tbody tr th:only-of-type {\n",
       "        vertical-align: middle;\n",
       "    }\n",
       "\n",
       "    .dataframe tbody tr th {\n",
       "        vertical-align: top;\n",
       "    }\n",
       "\n",
       "    .dataframe thead th {\n",
       "        text-align: right;\n",
       "    }\n",
       "</style>\n",
       "<table border=\"1\" class=\"dataframe\">\n",
       "  <thead>\n",
       "    <tr style=\"text-align: right;\">\n",
       "      <th></th>\n",
       "      <th>clump_thickness</th>\n",
       "      <th>bland_chromatin</th>\n",
       "      <th>doctor_name</th>\n",
       "    </tr>\n",
       "    <tr>\n",
       "      <th>class</th>\n",
       "      <th></th>\n",
       "      <th></th>\n",
       "      <th></th>\n",
       "    </tr>\n",
       "  </thead>\n",
       "  <tbody>\n",
       "    <tr>\n",
       "      <th>benign</th>\n",
       "      <td>458</td>\n",
       "      <td>455</td>\n",
       "      <td>458</td>\n",
       "    </tr>\n",
       "    <tr>\n",
       "      <th>malignant</th>\n",
       "      <td>240</td>\n",
       "      <td>240</td>\n",
       "      <td>241</td>\n",
       "    </tr>\n",
       "  </tbody>\n",
       "</table>\n",
       "</div>"
      ],
      "text/plain": [
       "           clump_thickness  bland_chromatin  doctor_name\n",
       "class                                                   \n",
       "benign                 458              455          458\n",
       "malignant              240              240          241"
      ]
     },
     "execution_count": 139,
     "metadata": {},
     "output_type": "execute_result"
    }
   ],
   "source": [
    "my_count =  grpd.count()\n",
    "my_count"
   ]
  },
  {
   "cell_type": "markdown",
   "id": "da0774f0-b407-4574-b991-47c394bd2bee",
   "metadata": {},
   "source": [
    "---"
   ]
  },
  {
   "cell_type": "markdown",
   "id": "edeb9c38-6dff-4a63-99e6-ec92da094451",
   "metadata": {},
   "source": [
    "We can easily do simple maths on data frames of a compatible size. Here's a comparison of how many z-scores above zero each of the means are:"
   ]
  },
  {
   "cell_type": "code",
   "execution_count": 140,
   "id": "a344878e-8076-4c4a-aa45-bdc5b2f58691",
   "metadata": {
    "tags": []
   },
   "outputs": [
    {
     "data": {
      "text/html": [
       "<div>\n",
       "<style scoped>\n",
       "    .dataframe tbody tr th:only-of-type {\n",
       "        vertical-align: middle;\n",
       "    }\n",
       "\n",
       "    .dataframe tbody tr th {\n",
       "        vertical-align: top;\n",
       "    }\n",
       "\n",
       "    .dataframe thead th {\n",
       "        text-align: right;\n",
       "    }\n",
       "</style>\n",
       "<table border=\"1\" class=\"dataframe\">\n",
       "  <thead>\n",
       "    <tr style=\"text-align: right;\">\n",
       "      <th></th>\n",
       "      <th>clump_thickness</th>\n",
       "      <th>bland_chromatin</th>\n",
       "    </tr>\n",
       "    <tr>\n",
       "      <th>class</th>\n",
       "      <th></th>\n",
       "      <th></th>\n",
       "    </tr>\n",
       "  </thead>\n",
       "  <tbody>\n",
       "    <tr>\n",
       "      <th>benign</th>\n",
       "      <td>1.765693</td>\n",
       "      <td>1.946977</td>\n",
       "    </tr>\n",
       "    <tr>\n",
       "      <th>malignant</th>\n",
       "      <td>2.964967</td>\n",
       "      <td>2.639029</td>\n",
       "    </tr>\n",
       "  </tbody>\n",
       "</table>\n",
       "</div>"
      ],
      "text/plain": [
       "           clump_thickness  bland_chromatin\n",
       "class                                      \n",
       "benign            1.765693         1.946977\n",
       "malignant         2.964967         2.639029"
      ]
     },
     "execution_count": 140,
     "metadata": {},
     "output_type": "execute_result"
    }
   ],
   "source": [
    "my_zeds = my_means/my_sds\n",
    "my_zeds"
   ]
  },
  {
   "cell_type": "markdown",
   "id": "2aa0eb8e-d7b7-48b8-80e5-b10217c370cc",
   "metadata": {},
   "source": [
    "We can look at the difference between the z-scores for each measure using the `diff()` method, which takes the first difference down the rows."
   ]
  },
  {
   "cell_type": "code",
   "execution_count": 141,
   "id": "b1840d9e-e93c-4f75-a75d-cd65aff186ff",
   "metadata": {
    "tags": []
   },
   "outputs": [
    {
     "data": {
      "text/html": [
       "<div>\n",
       "<style scoped>\n",
       "    .dataframe tbody tr th:only-of-type {\n",
       "        vertical-align: middle;\n",
       "    }\n",
       "\n",
       "    .dataframe tbody tr th {\n",
       "        vertical-align: top;\n",
       "    }\n",
       "\n",
       "    .dataframe thead th {\n",
       "        text-align: right;\n",
       "    }\n",
       "</style>\n",
       "<table border=\"1\" class=\"dataframe\">\n",
       "  <thead>\n",
       "    <tr style=\"text-align: right;\">\n",
       "      <th></th>\n",
       "      <th>clump_thickness</th>\n",
       "      <th>bland_chromatin</th>\n",
       "    </tr>\n",
       "    <tr>\n",
       "      <th>class</th>\n",
       "      <th></th>\n",
       "      <th></th>\n",
       "    </tr>\n",
       "  </thead>\n",
       "  <tbody>\n",
       "    <tr>\n",
       "      <th>benign</th>\n",
       "      <td>NaN</td>\n",
       "      <td>NaN</td>\n",
       "    </tr>\n",
       "    <tr>\n",
       "      <th>malignant</th>\n",
       "      <td>1.199274</td>\n",
       "      <td>0.692052</td>\n",
       "    </tr>\n",
       "  </tbody>\n",
       "</table>\n",
       "</div>"
      ],
      "text/plain": [
       "           clump_thickness  bland_chromatin\n",
       "class                                      \n",
       "benign                 NaN              NaN\n",
       "malignant         1.199274         0.692052"
      ]
     },
     "execution_count": 141,
     "metadata": {},
     "output_type": "execute_result"
    }
   ],
   "source": [
    "my_zeds.diff()"
   ]
  },
  {
   "cell_type": "markdown",
   "id": "18b7c029-15c7-4c38-b687-7397bad59cc5",
   "metadata": {},
   "source": [
    "This difference in z-scores – how far apart two means are in terms of the standard deviation of the data – is roughly what statisticians call \"effect size\"."
   ]
  },
  {
   "cell_type": "markdown",
   "id": "4b271df9-fbb2-4667-9989-15b78e21402f",
   "metadata": {},
   "source": [
    "---"
   ]
  },
  {
   "cell_type": "markdown",
   "id": "94968420-f71f-4a02-bb96-777e91cebca8",
   "metadata": {},
   "source": [
    "Why do the NaNs appear in the first row?"
   ]
  },
  {
   "cell_type": "markdown",
   "id": "c7fe0503-3638-482b-a6dc-7d6161d2daa0",
   "metadata": {},
   "source": [
    "There might have been missing values for benign clump thickness and bland chromatin."
   ]
  },
  {
   "cell_type": "markdown",
   "id": "60e93af6-80e3-489f-82a0-0b84913db80e",
   "metadata": {},
   "source": [
    "In the cell below, extract just the row with the numbers from `my_zeds` into a new series. (hint: using `.loc` is probably easiest)"
   ]
  },
  {
   "cell_type": "code",
   "execution_count": 142,
   "id": "4f4fd5f3-336d-4eed-854b-3b75dfce0b89",
   "metadata": {
    "tags": []
   },
   "outputs": [
    {
     "data": {
      "text/plain": [
       "clump_thickness    2.964967\n",
       "bland_chromatin    2.639029\n",
       "Name: malignant, dtype: float64"
      ]
     },
     "execution_count": 142,
     "metadata": {},
     "output_type": "execute_result"
    }
   ],
   "source": [
    " # extract\n",
    "just_nums = my_zeds.loc['malignant']\n",
    " # show\n",
    "just_nums"
   ]
  },
  {
   "cell_type": "markdown",
   "id": "f13fe177-be3b-49a4-8ebf-491c87f7f135",
   "metadata": {},
   "source": [
    "---"
   ]
  },
  {
   "cell_type": "markdown",
   "id": "aecde84f-a59c-4095-85db-5d0a489578d1",
   "metadata": {},
   "source": [
    "We could also compute the difference by using `.loc[]` row indexing and simple maths."
   ]
  },
  {
   "cell_type": "code",
   "execution_count": 143,
   "id": "f9d7321b-6e87-4db5-ba12-4d43508d45bd",
   "metadata": {
    "tags": []
   },
   "outputs": [
    {
     "data": {
      "text/plain": [
       "clump_thickness    1.199274\n",
       "bland_chromatin    0.692052\n",
       "dtype: float64"
      ]
     },
     "execution_count": 143,
     "metadata": {},
     "output_type": "execute_result"
    }
   ],
   "source": [
    "my_zeds.loc['malignant'] - my_zeds.loc['benign']"
   ]
  },
  {
   "cell_type": "markdown",
   "id": "097b4b58-f2ab-4e26-8de4-00bffff47cb8",
   "metadata": {},
   "source": [
    "##### *Mulitiple caclulations with* `agg()`"
   ]
  },
  {
   "cell_type": "markdown",
   "id": "81dd884d-cc23-4ac9-9716-5cf231d5862b",
   "metadata": {},
   "source": [
    "We can do multiple calculation at once by placing function names inside the `agg()` ) or `aggregate()`) methods (they are synonyms). Here's where importing numpy comes in handy."
   ]
  },
  {
   "cell_type": "code",
   "execution_count": 144,
   "id": "fa5d2980-a5f4-4084-8ea8-8102ed8b5b23",
   "metadata": {
    "tags": []
   },
   "outputs": [
    {
     "ename": "TypeError",
     "evalue": "Could not convert DoeSmithLeeSmithWongDoeSmithSmithDoeDoeSmithWongLeeSmithWongSmithSmithDoeLeeDoeDoeSmithLeeSmithLeeLeeWongWongSmithSmithLeeWongWongWongDoeSmithWongWongDoeWongDoeLeeWongWongWongLeeWongWongDoeLeeLeeLeeSmithLeeDoeDoeLeeWongDoeLeeDoeWongDoeLeeDoeLeeWongDoeSmithLeeWongLeeDoeWongLeeLeeWongLeeDoeSmithSmithWongWongWongLeeLeeLeeSmithLeeDoeDoeLeeLeeDoeSmithLeeLeeLeeLeeDoeDoeDoeLeeLeeWongSmithLeeDoeWongSmithWongLeeDoeWongSmithLeeWongDoeSmithWongDoeLeeLeeDoeWongWongLeeDoeLeeDoeDoeDoeSmithWongSmithDoeSmithSmithWongWongDoeWongWongDoeLeeSmithLeeDoeWongSmithLeeDoeWongDoeWongSmithDoeSmithDoeLeeLeeSmithSmithDoeWongWongLeeSmithLeeWongSmithDoeWongSmithWongSmithDoeLeeDoeSmithWongSmithWongWongWongDoeLeeDoeSmithDoeDoeWongDoeDoeSmithWongLeeDoeDoeLeeWongDoeSmithSmithWongLeeSmithDoeDoeDoeSmithLeeDoeLeeDoeSmithWongLeeLeeSmithWongWongDoeLeeSmithDoeSmithDoeLeeWongDoeDoeWongWongDoeWongWongLeeWongLeeWongSmithLeeSmithLeeLeeWongLeeSmithWongSmithDoeWongWongSmithLeeWongLeeSmithDoeLeeLeeDoeDoeDoeDoeSmithLeeWongDoeLeeLeeSmithLeeLeeSmithLeeWongSmithSmithDoeWongDoeWongSmithDoeLeeDoeLeeLeeLeeDoeWongDoeWongDoeLeeDoeDoeDoeWongLeeDoeLeeDoeSmithSmithLeeSmithWongSmithDoeLeeSmithWongDoeDoeDoeLeeDoeLeeSmithDoeSmithDoeWongSmithWongDoeSmithSmithWongWongLeeLeeDoeDoeLeeSmithWongLeeLeeLeeLeeLeeLeeLeeSmithSmithLeeDoeLeeSmithDoeDoeLeeDoeLeeSmithSmithWongWongSmithSmithSmithLeeSmithWongDoeWongDoeDoeSmithDoeDoeWongWongWongWongWongDoeLeeSmithSmithSmithLeeDoeSmithDoeLeeSmithDoeWongSmithSmithDoeLeeWongDoeSmithWongWongWongLeeDoeSmithSmithLeeLeeDoeDoeSmithWongWongSmithDoeSmithLeeDoeDoeDoeSmithDoeSmithDoeWongSmithSmithLeeSmithDoeDoeWongLeeLeeWongLeeWongLeeWongDoeWongLeeLeeDoeWongLeeWongDoeDoeLeeSmithLeeDoeWongLeeLeeSmith to numeric",
     "output_type": "error",
     "traceback": [
      "\u001b[0;31m---------------------------------------------------------------------------\u001b[0m",
      "\u001b[0;31mNotImplementedError\u001b[0m                       Traceback (most recent call last)",
      "File \u001b[0;32m~/anaconda3/lib/python3.11/site-packages/pandas/core/groupby/groupby.py:1490\u001b[0m, in \u001b[0;36mGroupBy._cython_agg_general.<locals>.array_func\u001b[0;34m(values)\u001b[0m\n\u001b[1;32m   1489\u001b[0m \u001b[38;5;28;01mtry\u001b[39;00m:\n\u001b[0;32m-> 1490\u001b[0m     result \u001b[38;5;241m=\u001b[39m \u001b[38;5;28mself\u001b[39m\u001b[38;5;241m.\u001b[39mgrouper\u001b[38;5;241m.\u001b[39m_cython_operation(\n\u001b[1;32m   1491\u001b[0m         \u001b[38;5;124m\"\u001b[39m\u001b[38;5;124maggregate\u001b[39m\u001b[38;5;124m\"\u001b[39m,\n\u001b[1;32m   1492\u001b[0m         values,\n\u001b[1;32m   1493\u001b[0m         how,\n\u001b[1;32m   1494\u001b[0m         axis\u001b[38;5;241m=\u001b[39mdata\u001b[38;5;241m.\u001b[39mndim \u001b[38;5;241m-\u001b[39m \u001b[38;5;241m1\u001b[39m,\n\u001b[1;32m   1495\u001b[0m         min_count\u001b[38;5;241m=\u001b[39mmin_count,\n\u001b[1;32m   1496\u001b[0m         \u001b[38;5;241m*\u001b[39m\u001b[38;5;241m*\u001b[39mkwargs,\n\u001b[1;32m   1497\u001b[0m     )\n\u001b[1;32m   1498\u001b[0m \u001b[38;5;28;01mexcept\u001b[39;00m \u001b[38;5;167;01mNotImplementedError\u001b[39;00m:\n\u001b[1;32m   1499\u001b[0m     \u001b[38;5;66;03m# generally if we have numeric_only=False\u001b[39;00m\n\u001b[1;32m   1500\u001b[0m     \u001b[38;5;66;03m# and non-applicable functions\u001b[39;00m\n\u001b[1;32m   1501\u001b[0m     \u001b[38;5;66;03m# try to python agg\u001b[39;00m\n\u001b[1;32m   1502\u001b[0m     \u001b[38;5;66;03m# TODO: shouldn't min_count matter?\u001b[39;00m\n",
      "File \u001b[0;32m~/anaconda3/lib/python3.11/site-packages/pandas/core/groupby/ops.py:959\u001b[0m, in \u001b[0;36mBaseGrouper._cython_operation\u001b[0;34m(self, kind, values, how, axis, min_count, **kwargs)\u001b[0m\n\u001b[1;32m    958\u001b[0m ngroups \u001b[38;5;241m=\u001b[39m \u001b[38;5;28mself\u001b[39m\u001b[38;5;241m.\u001b[39mngroups\n\u001b[0;32m--> 959\u001b[0m \u001b[38;5;28;01mreturn\u001b[39;00m cy_op\u001b[38;5;241m.\u001b[39mcython_operation(\n\u001b[1;32m    960\u001b[0m     values\u001b[38;5;241m=\u001b[39mvalues,\n\u001b[1;32m    961\u001b[0m     axis\u001b[38;5;241m=\u001b[39maxis,\n\u001b[1;32m    962\u001b[0m     min_count\u001b[38;5;241m=\u001b[39mmin_count,\n\u001b[1;32m    963\u001b[0m     comp_ids\u001b[38;5;241m=\u001b[39mids,\n\u001b[1;32m    964\u001b[0m     ngroups\u001b[38;5;241m=\u001b[39mngroups,\n\u001b[1;32m    965\u001b[0m     \u001b[38;5;241m*\u001b[39m\u001b[38;5;241m*\u001b[39mkwargs,\n\u001b[1;32m    966\u001b[0m )\n",
      "File \u001b[0;32m~/anaconda3/lib/python3.11/site-packages/pandas/core/groupby/ops.py:657\u001b[0m, in \u001b[0;36mWrappedCythonOp.cython_operation\u001b[0;34m(self, values, axis, min_count, comp_ids, ngroups, **kwargs)\u001b[0m\n\u001b[1;32m    649\u001b[0m     \u001b[38;5;28;01mreturn\u001b[39;00m \u001b[38;5;28mself\u001b[39m\u001b[38;5;241m.\u001b[39m_ea_wrap_cython_operation(\n\u001b[1;32m    650\u001b[0m         values,\n\u001b[1;32m    651\u001b[0m         min_count\u001b[38;5;241m=\u001b[39mmin_count,\n\u001b[0;32m   (...)\u001b[0m\n\u001b[1;32m    654\u001b[0m         \u001b[38;5;241m*\u001b[39m\u001b[38;5;241m*\u001b[39mkwargs,\n\u001b[1;32m    655\u001b[0m     )\n\u001b[0;32m--> 657\u001b[0m \u001b[38;5;28;01mreturn\u001b[39;00m \u001b[38;5;28mself\u001b[39m\u001b[38;5;241m.\u001b[39m_cython_op_ndim_compat(\n\u001b[1;32m    658\u001b[0m     values,\n\u001b[1;32m    659\u001b[0m     min_count\u001b[38;5;241m=\u001b[39mmin_count,\n\u001b[1;32m    660\u001b[0m     ngroups\u001b[38;5;241m=\u001b[39mngroups,\n\u001b[1;32m    661\u001b[0m     comp_ids\u001b[38;5;241m=\u001b[39mcomp_ids,\n\u001b[1;32m    662\u001b[0m     mask\u001b[38;5;241m=\u001b[39m\u001b[38;5;28;01mNone\u001b[39;00m,\n\u001b[1;32m    663\u001b[0m     \u001b[38;5;241m*\u001b[39m\u001b[38;5;241m*\u001b[39mkwargs,\n\u001b[1;32m    664\u001b[0m )\n",
      "File \u001b[0;32m~/anaconda3/lib/python3.11/site-packages/pandas/core/groupby/ops.py:482\u001b[0m, in \u001b[0;36mWrappedCythonOp._cython_op_ndim_compat\u001b[0;34m(self, values, min_count, ngroups, comp_ids, mask, result_mask, **kwargs)\u001b[0m\n\u001b[1;32m    481\u001b[0m     result_mask \u001b[38;5;241m=\u001b[39m result_mask[\u001b[38;5;28;01mNone\u001b[39;00m, :]\n\u001b[0;32m--> 482\u001b[0m res \u001b[38;5;241m=\u001b[39m \u001b[38;5;28mself\u001b[39m\u001b[38;5;241m.\u001b[39m_call_cython_op(\n\u001b[1;32m    483\u001b[0m     values2d,\n\u001b[1;32m    484\u001b[0m     min_count\u001b[38;5;241m=\u001b[39mmin_count,\n\u001b[1;32m    485\u001b[0m     ngroups\u001b[38;5;241m=\u001b[39mngroups,\n\u001b[1;32m    486\u001b[0m     comp_ids\u001b[38;5;241m=\u001b[39mcomp_ids,\n\u001b[1;32m    487\u001b[0m     mask\u001b[38;5;241m=\u001b[39mmask,\n\u001b[1;32m    488\u001b[0m     result_mask\u001b[38;5;241m=\u001b[39mresult_mask,\n\u001b[1;32m    489\u001b[0m     \u001b[38;5;241m*\u001b[39m\u001b[38;5;241m*\u001b[39mkwargs,\n\u001b[1;32m    490\u001b[0m )\n\u001b[1;32m    491\u001b[0m \u001b[38;5;28;01mif\u001b[39;00m res\u001b[38;5;241m.\u001b[39mshape[\u001b[38;5;241m0\u001b[39m] \u001b[38;5;241m==\u001b[39m \u001b[38;5;241m1\u001b[39m:\n",
      "File \u001b[0;32m~/anaconda3/lib/python3.11/site-packages/pandas/core/groupby/ops.py:541\u001b[0m, in \u001b[0;36mWrappedCythonOp._call_cython_op\u001b[0;34m(self, values, min_count, ngroups, comp_ids, mask, result_mask, **kwargs)\u001b[0m\n\u001b[1;32m    540\u001b[0m out_shape \u001b[38;5;241m=\u001b[39m \u001b[38;5;28mself\u001b[39m\u001b[38;5;241m.\u001b[39m_get_output_shape(ngroups, values)\n\u001b[0;32m--> 541\u001b[0m func \u001b[38;5;241m=\u001b[39m \u001b[38;5;28mself\u001b[39m\u001b[38;5;241m.\u001b[39m_get_cython_function(\u001b[38;5;28mself\u001b[39m\u001b[38;5;241m.\u001b[39mkind, \u001b[38;5;28mself\u001b[39m\u001b[38;5;241m.\u001b[39mhow, values\u001b[38;5;241m.\u001b[39mdtype, is_numeric)\n\u001b[1;32m    542\u001b[0m values \u001b[38;5;241m=\u001b[39m \u001b[38;5;28mself\u001b[39m\u001b[38;5;241m.\u001b[39m_get_cython_vals(values)\n",
      "File \u001b[0;32m~/anaconda3/lib/python3.11/site-packages/pandas/core/groupby/ops.py:173\u001b[0m, in \u001b[0;36mWrappedCythonOp._get_cython_function\u001b[0;34m(cls, kind, how, dtype, is_numeric)\u001b[0m\n\u001b[1;32m    171\u001b[0m \u001b[38;5;28;01mif\u001b[39;00m \u001b[38;5;124m\"\u001b[39m\u001b[38;5;124mobject\u001b[39m\u001b[38;5;124m\"\u001b[39m \u001b[38;5;129;01mnot\u001b[39;00m \u001b[38;5;129;01min\u001b[39;00m f\u001b[38;5;241m.\u001b[39m__signatures__:\n\u001b[1;32m    172\u001b[0m     \u001b[38;5;66;03m# raise NotImplementedError here rather than TypeError later\u001b[39;00m\n\u001b[0;32m--> 173\u001b[0m     \u001b[38;5;28;01mraise\u001b[39;00m \u001b[38;5;167;01mNotImplementedError\u001b[39;00m(\n\u001b[1;32m    174\u001b[0m         \u001b[38;5;124mf\u001b[39m\u001b[38;5;124m\"\u001b[39m\u001b[38;5;124mfunction is not implemented for this dtype: \u001b[39m\u001b[38;5;124m\"\u001b[39m\n\u001b[1;32m    175\u001b[0m         \u001b[38;5;124mf\u001b[39m\u001b[38;5;124m\"\u001b[39m\u001b[38;5;124m[how->\u001b[39m\u001b[38;5;132;01m{\u001b[39;00mhow\u001b[38;5;132;01m}\u001b[39;00m\u001b[38;5;124m,dtype->\u001b[39m\u001b[38;5;132;01m{\u001b[39;00mdtype_str\u001b[38;5;132;01m}\u001b[39;00m\u001b[38;5;124m]\u001b[39m\u001b[38;5;124m\"\u001b[39m\n\u001b[1;32m    176\u001b[0m     )\n\u001b[1;32m    177\u001b[0m \u001b[38;5;28;01mreturn\u001b[39;00m f\n",
      "\u001b[0;31mNotImplementedError\u001b[0m: function is not implemented for this dtype: [how->mean,dtype->object]",
      "\nDuring handling of the above exception, another exception occurred:\n",
      "\u001b[0;31mValueError\u001b[0m                                Traceback (most recent call last)",
      "File \u001b[0;32m~/anaconda3/lib/python3.11/site-packages/pandas/core/nanops.py:1692\u001b[0m, in \u001b[0;36m_ensure_numeric\u001b[0;34m(x)\u001b[0m\n\u001b[1;32m   1691\u001b[0m \u001b[38;5;28;01mtry\u001b[39;00m:\n\u001b[0;32m-> 1692\u001b[0m     x \u001b[38;5;241m=\u001b[39m \u001b[38;5;28mfloat\u001b[39m(x)\n\u001b[1;32m   1693\u001b[0m \u001b[38;5;28;01mexcept\u001b[39;00m (\u001b[38;5;167;01mTypeError\u001b[39;00m, \u001b[38;5;167;01mValueError\u001b[39;00m):\n\u001b[1;32m   1694\u001b[0m     \u001b[38;5;66;03m# e.g. \"1+1j\" or \"foo\"\u001b[39;00m\n",
      "\u001b[0;31mValueError\u001b[0m: could not convert string to float: 'DoeSmithLeeSmithWongDoeSmithSmithDoeDoeSmithWongLeeSmithWongSmithSmithDoeLeeDoeDoeSmithLeeSmithLeeLeeWongWongSmithSmithLeeWongWongWongDoeSmithWongWongDoeWongDoeLeeWongWongWongLeeWongWongDoeLeeLeeLeeSmithLeeDoeDoeLeeWongDoeLeeDoeWongDoeLeeDoeLeeWongDoeSmithLeeWongLeeDoeWongLeeLeeWongLeeDoeSmithSmithWongWongWongLeeLeeLeeSmithLeeDoeDoeLeeLeeDoeSmithLeeLeeLeeLeeDoeDoeDoeLeeLeeWongSmithLeeDoeWongSmithWongLeeDoeWongSmithLeeWongDoeSmithWongDoeLeeLeeDoeWongWongLeeDoeLeeDoeDoeDoeSmithWongSmithDoeSmithSmithWongWongDoeWongWongDoeLeeSmithLeeDoeWongSmithLeeDoeWongDoeWongSmithDoeSmithDoeLeeLeeSmithSmithDoeWongWongLeeSmithLeeWongSmithDoeWongSmithWongSmithDoeLeeDoeSmithWongSmithWongWongWongDoeLeeDoeSmithDoeDoeWongDoeDoeSmithWongLeeDoeDoeLeeWongDoeSmithSmithWongLeeSmithDoeDoeDoeSmithLeeDoeLeeDoeSmithWongLeeLeeSmithWongWongDoeLeeSmithDoeSmithDoeLeeWongDoeDoeWongWongDoeWongWongLeeWongLeeWongSmithLeeSmithLeeLeeWongLeeSmithWongSmithDoeWongWongSmithLeeWongLeeSmithDoeLeeLeeDoeDoeDoeDoeSmithLeeWongDoeLeeLeeSmithLeeLeeSmithLeeWongSmithSmithDoeWongDoeWongSmithDoeLeeDoeLeeLeeLeeDoeWongDoeWongDoeLeeDoeDoeDoeWongLeeDoeLeeDoeSmithSmithLeeSmithWongSmithDoeLeeSmithWongDoeDoeDoeLeeDoeLeeSmithDoeSmithDoeWongSmithWongDoeSmithSmithWongWongLeeLeeDoeDoeLeeSmithWongLeeLeeLeeLeeLeeLeeLeeSmithSmithLeeDoeLeeSmithDoeDoeLeeDoeLeeSmithSmithWongWongSmithSmithSmithLeeSmithWongDoeWongDoeDoeSmithDoeDoeWongWongWongWongWongDoeLeeSmithSmithSmithLeeDoeSmithDoeLeeSmithDoeWongSmithSmithDoeLeeWongDoeSmithWongWongWongLeeDoeSmithSmithLeeLeeDoeDoeSmithWongWongSmithDoeSmithLeeDoeDoeDoeSmithDoeSmithDoeWongSmithSmithLeeSmithDoeDoeWongLeeLeeWongLeeWongLeeWongDoeWongLeeLeeDoeWongLeeWongDoeDoeLeeSmithLeeDoeWongLeeLeeSmith'",
      "\nDuring handling of the above exception, another exception occurred:\n",
      "\u001b[0;31mValueError\u001b[0m                                Traceback (most recent call last)",
      "File \u001b[0;32m~/anaconda3/lib/python3.11/site-packages/pandas/core/nanops.py:1696\u001b[0m, in \u001b[0;36m_ensure_numeric\u001b[0;34m(x)\u001b[0m\n\u001b[1;32m   1695\u001b[0m \u001b[38;5;28;01mtry\u001b[39;00m:\n\u001b[0;32m-> 1696\u001b[0m     x \u001b[38;5;241m=\u001b[39m \u001b[38;5;28mcomplex\u001b[39m(x)\n\u001b[1;32m   1697\u001b[0m \u001b[38;5;28;01mexcept\u001b[39;00m \u001b[38;5;167;01mValueError\u001b[39;00m \u001b[38;5;28;01mas\u001b[39;00m err:\n\u001b[1;32m   1698\u001b[0m     \u001b[38;5;66;03m# e.g. \"foo\"\u001b[39;00m\n",
      "\u001b[0;31mValueError\u001b[0m: complex() arg is a malformed string",
      "\nThe above exception was the direct cause of the following exception:\n",
      "\u001b[0;31mTypeError\u001b[0m                                 Traceback (most recent call last)",
      "Cell \u001b[0;32mIn[144], line 1\u001b[0m\n\u001b[0;32m----> 1\u001b[0m grpd\u001b[38;5;241m.\u001b[39magg([np\u001b[38;5;241m.\u001b[39mmean, np\u001b[38;5;241m.\u001b[39mstd])\n",
      "File \u001b[0;32m~/anaconda3/lib/python3.11/site-packages/pandas/core/groupby/generic.py:1269\u001b[0m, in \u001b[0;36mDataFrameGroupBy.aggregate\u001b[0;34m(self, func, engine, engine_kwargs, *args, **kwargs)\u001b[0m\n\u001b[1;32m   1266\u001b[0m func \u001b[38;5;241m=\u001b[39m maybe_mangle_lambdas(func)\n\u001b[1;32m   1268\u001b[0m op \u001b[38;5;241m=\u001b[39m GroupByApply(\u001b[38;5;28mself\u001b[39m, func, args, kwargs)\n\u001b[0;32m-> 1269\u001b[0m result \u001b[38;5;241m=\u001b[39m op\u001b[38;5;241m.\u001b[39magg()\n\u001b[1;32m   1270\u001b[0m \u001b[38;5;28;01mif\u001b[39;00m \u001b[38;5;129;01mnot\u001b[39;00m is_dict_like(func) \u001b[38;5;129;01mand\u001b[39;00m result \u001b[38;5;129;01mis\u001b[39;00m \u001b[38;5;129;01mnot\u001b[39;00m \u001b[38;5;28;01mNone\u001b[39;00m:\n\u001b[1;32m   1271\u001b[0m     \u001b[38;5;28;01mreturn\u001b[39;00m result\n",
      "File \u001b[0;32m~/anaconda3/lib/python3.11/site-packages/pandas/core/apply.py:166\u001b[0m, in \u001b[0;36mApply.agg\u001b[0;34m(self)\u001b[0m\n\u001b[1;32m    163\u001b[0m     \u001b[38;5;28;01mreturn\u001b[39;00m \u001b[38;5;28mself\u001b[39m\u001b[38;5;241m.\u001b[39magg_dict_like()\n\u001b[1;32m    164\u001b[0m \u001b[38;5;28;01melif\u001b[39;00m is_list_like(arg):\n\u001b[1;32m    165\u001b[0m     \u001b[38;5;66;03m# we require a list, but not a 'str'\u001b[39;00m\n\u001b[0;32m--> 166\u001b[0m     \u001b[38;5;28;01mreturn\u001b[39;00m \u001b[38;5;28mself\u001b[39m\u001b[38;5;241m.\u001b[39magg_list_like()\n\u001b[1;32m    168\u001b[0m \u001b[38;5;28;01mif\u001b[39;00m \u001b[38;5;28mcallable\u001b[39m(arg):\n\u001b[1;32m    169\u001b[0m     f \u001b[38;5;241m=\u001b[39m com\u001b[38;5;241m.\u001b[39mget_cython_func(arg)\n",
      "File \u001b[0;32m~/anaconda3/lib/python3.11/site-packages/pandas/core/apply.py:355\u001b[0m, in \u001b[0;36mApply.agg_list_like\u001b[0;34m(self)\u001b[0m\n\u001b[1;32m    351\u001b[0m     new_res \u001b[38;5;241m=\u001b[39m colg\u001b[38;5;241m.\u001b[39maggregate(\n\u001b[1;32m    352\u001b[0m         arg, \u001b[38;5;28mself\u001b[39m\u001b[38;5;241m.\u001b[39maxis, \u001b[38;5;241m*\u001b[39m\u001b[38;5;28mself\u001b[39m\u001b[38;5;241m.\u001b[39margs, \u001b[38;5;241m*\u001b[39m\u001b[38;5;241m*\u001b[39m\u001b[38;5;28mself\u001b[39m\u001b[38;5;241m.\u001b[39mkwargs\n\u001b[1;32m    353\u001b[0m     )\n\u001b[1;32m    354\u001b[0m \u001b[38;5;28;01melse\u001b[39;00m:\n\u001b[0;32m--> 355\u001b[0m     new_res \u001b[38;5;241m=\u001b[39m colg\u001b[38;5;241m.\u001b[39maggregate(arg, \u001b[38;5;241m*\u001b[39m\u001b[38;5;28mself\u001b[39m\u001b[38;5;241m.\u001b[39margs, \u001b[38;5;241m*\u001b[39m\u001b[38;5;241m*\u001b[39m\u001b[38;5;28mself\u001b[39m\u001b[38;5;241m.\u001b[39mkwargs)\n\u001b[1;32m    356\u001b[0m results\u001b[38;5;241m.\u001b[39mappend(new_res)\n\u001b[1;32m    357\u001b[0m indices\u001b[38;5;241m.\u001b[39mappend(index)\n",
      "File \u001b[0;32m~/anaconda3/lib/python3.11/site-packages/pandas/core/groupby/generic.py:238\u001b[0m, in \u001b[0;36mSeriesGroupBy.aggregate\u001b[0;34m(self, func, engine, engine_kwargs, *args, **kwargs)\u001b[0m\n\u001b[1;32m    234\u001b[0m \u001b[38;5;28;01melif\u001b[39;00m \u001b[38;5;28misinstance\u001b[39m(func, abc\u001b[38;5;241m.\u001b[39mIterable):\n\u001b[1;32m    235\u001b[0m     \u001b[38;5;66;03m# Catch instances of lists / tuples\u001b[39;00m\n\u001b[1;32m    236\u001b[0m     \u001b[38;5;66;03m# but not the class list / tuple itself.\u001b[39;00m\n\u001b[1;32m    237\u001b[0m     func \u001b[38;5;241m=\u001b[39m maybe_mangle_lambdas(func)\n\u001b[0;32m--> 238\u001b[0m     ret \u001b[38;5;241m=\u001b[39m \u001b[38;5;28mself\u001b[39m\u001b[38;5;241m.\u001b[39m_aggregate_multiple_funcs(func, \u001b[38;5;241m*\u001b[39margs, \u001b[38;5;241m*\u001b[39m\u001b[38;5;241m*\u001b[39mkwargs)\n\u001b[1;32m    239\u001b[0m     \u001b[38;5;28;01mif\u001b[39;00m relabeling:\n\u001b[1;32m    240\u001b[0m         \u001b[38;5;66;03m# columns is not narrowed by mypy from relabeling flag\u001b[39;00m\n\u001b[1;32m    241\u001b[0m         \u001b[38;5;28;01massert\u001b[39;00m columns \u001b[38;5;129;01mis\u001b[39;00m \u001b[38;5;129;01mnot\u001b[39;00m \u001b[38;5;28;01mNone\u001b[39;00m  \u001b[38;5;66;03m# for mypy\u001b[39;00m\n",
      "File \u001b[0;32m~/anaconda3/lib/python3.11/site-packages/pandas/core/groupby/generic.py:316\u001b[0m, in \u001b[0;36mSeriesGroupBy._aggregate_multiple_funcs\u001b[0;34m(self, arg, *args, **kwargs)\u001b[0m\n\u001b[1;32m    314\u001b[0m     \u001b[38;5;28;01mfor\u001b[39;00m idx, (name, func) \u001b[38;5;129;01min\u001b[39;00m \u001b[38;5;28menumerate\u001b[39m(arg):\n\u001b[1;32m    315\u001b[0m         key \u001b[38;5;241m=\u001b[39m base\u001b[38;5;241m.\u001b[39mOutputKey(label\u001b[38;5;241m=\u001b[39mname, position\u001b[38;5;241m=\u001b[39midx)\n\u001b[0;32m--> 316\u001b[0m         results[key] \u001b[38;5;241m=\u001b[39m \u001b[38;5;28mself\u001b[39m\u001b[38;5;241m.\u001b[39maggregate(func, \u001b[38;5;241m*\u001b[39margs, \u001b[38;5;241m*\u001b[39m\u001b[38;5;241m*\u001b[39mkwargs)\n\u001b[1;32m    318\u001b[0m \u001b[38;5;28;01mif\u001b[39;00m \u001b[38;5;28many\u001b[39m(\u001b[38;5;28misinstance\u001b[39m(x, DataFrame) \u001b[38;5;28;01mfor\u001b[39;00m x \u001b[38;5;129;01min\u001b[39;00m results\u001b[38;5;241m.\u001b[39mvalues()):\n\u001b[1;32m    319\u001b[0m     \u001b[38;5;28;01mfrom\u001b[39;00m \u001b[38;5;21;01mpandas\u001b[39;00m \u001b[38;5;28;01mimport\u001b[39;00m concat\n",
      "File \u001b[0;32m~/anaconda3/lib/python3.11/site-packages/pandas/core/groupby/generic.py:250\u001b[0m, in \u001b[0;36mSeriesGroupBy.aggregate\u001b[0;34m(self, func, engine, engine_kwargs, *args, **kwargs)\u001b[0m\n\u001b[1;32m    248\u001b[0m cyfunc \u001b[38;5;241m=\u001b[39m com\u001b[38;5;241m.\u001b[39mget_cython_func(func)\n\u001b[1;32m    249\u001b[0m \u001b[38;5;28;01mif\u001b[39;00m cyfunc \u001b[38;5;129;01mand\u001b[39;00m \u001b[38;5;129;01mnot\u001b[39;00m args \u001b[38;5;129;01mand\u001b[39;00m \u001b[38;5;129;01mnot\u001b[39;00m kwargs:\n\u001b[0;32m--> 250\u001b[0m     \u001b[38;5;28;01mreturn\u001b[39;00m \u001b[38;5;28mgetattr\u001b[39m(\u001b[38;5;28mself\u001b[39m, cyfunc)()\n\u001b[1;32m    252\u001b[0m \u001b[38;5;28;01mif\u001b[39;00m \u001b[38;5;28mself\u001b[39m\u001b[38;5;241m.\u001b[39mngroups \u001b[38;5;241m==\u001b[39m \u001b[38;5;241m0\u001b[39m:\n\u001b[1;32m    253\u001b[0m     \u001b[38;5;66;03m# e.g. test_evaluate_with_empty_groups without any groups to\u001b[39;00m\n\u001b[1;32m    254\u001b[0m     \u001b[38;5;66;03m#  iterate over, we have no output on which to do dtype\u001b[39;00m\n\u001b[1;32m    255\u001b[0m     \u001b[38;5;66;03m#  inference. We default to using the existing dtype.\u001b[39;00m\n\u001b[1;32m    256\u001b[0m     \u001b[38;5;66;03m#  xref GH#51445\u001b[39;00m\n\u001b[1;32m    257\u001b[0m     obj \u001b[38;5;241m=\u001b[39m \u001b[38;5;28mself\u001b[39m\u001b[38;5;241m.\u001b[39m_obj_with_exclusions\n",
      "File \u001b[0;32m~/anaconda3/lib/python3.11/site-packages/pandas/core/groupby/groupby.py:1855\u001b[0m, in \u001b[0;36mGroupBy.mean\u001b[0;34m(self, numeric_only, engine, engine_kwargs)\u001b[0m\n\u001b[1;32m   1853\u001b[0m     \u001b[38;5;28;01mreturn\u001b[39;00m \u001b[38;5;28mself\u001b[39m\u001b[38;5;241m.\u001b[39m_numba_agg_general(sliding_mean, engine_kwargs)\n\u001b[1;32m   1854\u001b[0m \u001b[38;5;28;01melse\u001b[39;00m:\n\u001b[0;32m-> 1855\u001b[0m     result \u001b[38;5;241m=\u001b[39m \u001b[38;5;28mself\u001b[39m\u001b[38;5;241m.\u001b[39m_cython_agg_general(\n\u001b[1;32m   1856\u001b[0m         \u001b[38;5;124m\"\u001b[39m\u001b[38;5;124mmean\u001b[39m\u001b[38;5;124m\"\u001b[39m,\n\u001b[1;32m   1857\u001b[0m         alt\u001b[38;5;241m=\u001b[39m\u001b[38;5;28;01mlambda\u001b[39;00m x: Series(x)\u001b[38;5;241m.\u001b[39mmean(numeric_only\u001b[38;5;241m=\u001b[39mnumeric_only),\n\u001b[1;32m   1858\u001b[0m         numeric_only\u001b[38;5;241m=\u001b[39mnumeric_only,\n\u001b[1;32m   1859\u001b[0m     )\n\u001b[1;32m   1860\u001b[0m     \u001b[38;5;28;01mreturn\u001b[39;00m result\u001b[38;5;241m.\u001b[39m__finalize__(\u001b[38;5;28mself\u001b[39m\u001b[38;5;241m.\u001b[39mobj, method\u001b[38;5;241m=\u001b[39m\u001b[38;5;124m\"\u001b[39m\u001b[38;5;124mgroupby\u001b[39m\u001b[38;5;124m\"\u001b[39m)\n",
      "File \u001b[0;32m~/anaconda3/lib/python3.11/site-packages/pandas/core/groupby/groupby.py:1507\u001b[0m, in \u001b[0;36mGroupBy._cython_agg_general\u001b[0;34m(self, how, alt, numeric_only, min_count, **kwargs)\u001b[0m\n\u001b[1;32m   1503\u001b[0m         result \u001b[38;5;241m=\u001b[39m \u001b[38;5;28mself\u001b[39m\u001b[38;5;241m.\u001b[39m_agg_py_fallback(values, ndim\u001b[38;5;241m=\u001b[39mdata\u001b[38;5;241m.\u001b[39mndim, alt\u001b[38;5;241m=\u001b[39malt)\n\u001b[1;32m   1505\u001b[0m     \u001b[38;5;28;01mreturn\u001b[39;00m result\n\u001b[0;32m-> 1507\u001b[0m new_mgr \u001b[38;5;241m=\u001b[39m data\u001b[38;5;241m.\u001b[39mgrouped_reduce(array_func)\n\u001b[1;32m   1508\u001b[0m res \u001b[38;5;241m=\u001b[39m \u001b[38;5;28mself\u001b[39m\u001b[38;5;241m.\u001b[39m_wrap_agged_manager(new_mgr)\n\u001b[1;32m   1509\u001b[0m out \u001b[38;5;241m=\u001b[39m \u001b[38;5;28mself\u001b[39m\u001b[38;5;241m.\u001b[39m_wrap_aggregated_output(res)\n",
      "File \u001b[0;32m~/anaconda3/lib/python3.11/site-packages/pandas/core/internals/base.py:197\u001b[0m, in \u001b[0;36mSingleDataManager.grouped_reduce\u001b[0;34m(self, func)\u001b[0m\n\u001b[1;32m    195\u001b[0m \u001b[38;5;28;01mdef\u001b[39;00m \u001b[38;5;21mgrouped_reduce\u001b[39m(\u001b[38;5;28mself\u001b[39m, func):\n\u001b[1;32m    196\u001b[0m     arr \u001b[38;5;241m=\u001b[39m \u001b[38;5;28mself\u001b[39m\u001b[38;5;241m.\u001b[39marray\n\u001b[0;32m--> 197\u001b[0m     res \u001b[38;5;241m=\u001b[39m func(arr)\n\u001b[1;32m    198\u001b[0m     index \u001b[38;5;241m=\u001b[39m default_index(\u001b[38;5;28mlen\u001b[39m(res))\n\u001b[1;32m    200\u001b[0m     mgr \u001b[38;5;241m=\u001b[39m \u001b[38;5;28mtype\u001b[39m(\u001b[38;5;28mself\u001b[39m)\u001b[38;5;241m.\u001b[39mfrom_array(res, index)\n",
      "File \u001b[0;32m~/anaconda3/lib/python3.11/site-packages/pandas/core/groupby/groupby.py:1503\u001b[0m, in \u001b[0;36mGroupBy._cython_agg_general.<locals>.array_func\u001b[0;34m(values)\u001b[0m\n\u001b[1;32m   1490\u001b[0m     result \u001b[38;5;241m=\u001b[39m \u001b[38;5;28mself\u001b[39m\u001b[38;5;241m.\u001b[39mgrouper\u001b[38;5;241m.\u001b[39m_cython_operation(\n\u001b[1;32m   1491\u001b[0m         \u001b[38;5;124m\"\u001b[39m\u001b[38;5;124maggregate\u001b[39m\u001b[38;5;124m\"\u001b[39m,\n\u001b[1;32m   1492\u001b[0m         values,\n\u001b[0;32m   (...)\u001b[0m\n\u001b[1;32m   1496\u001b[0m         \u001b[38;5;241m*\u001b[39m\u001b[38;5;241m*\u001b[39mkwargs,\n\u001b[1;32m   1497\u001b[0m     )\n\u001b[1;32m   1498\u001b[0m \u001b[38;5;28;01mexcept\u001b[39;00m \u001b[38;5;167;01mNotImplementedError\u001b[39;00m:\n\u001b[1;32m   1499\u001b[0m     \u001b[38;5;66;03m# generally if we have numeric_only=False\u001b[39;00m\n\u001b[1;32m   1500\u001b[0m     \u001b[38;5;66;03m# and non-applicable functions\u001b[39;00m\n\u001b[1;32m   1501\u001b[0m     \u001b[38;5;66;03m# try to python agg\u001b[39;00m\n\u001b[1;32m   1502\u001b[0m     \u001b[38;5;66;03m# TODO: shouldn't min_count matter?\u001b[39;00m\n\u001b[0;32m-> 1503\u001b[0m     result \u001b[38;5;241m=\u001b[39m \u001b[38;5;28mself\u001b[39m\u001b[38;5;241m.\u001b[39m_agg_py_fallback(values, ndim\u001b[38;5;241m=\u001b[39mdata\u001b[38;5;241m.\u001b[39mndim, alt\u001b[38;5;241m=\u001b[39malt)\n\u001b[1;32m   1505\u001b[0m \u001b[38;5;28;01mreturn\u001b[39;00m result\n",
      "File \u001b[0;32m~/anaconda3/lib/python3.11/site-packages/pandas/core/groupby/groupby.py:1457\u001b[0m, in \u001b[0;36mGroupBy._agg_py_fallback\u001b[0;34m(self, values, ndim, alt)\u001b[0m\n\u001b[1;32m   1452\u001b[0m     ser \u001b[38;5;241m=\u001b[39m df\u001b[38;5;241m.\u001b[39miloc[:, \u001b[38;5;241m0\u001b[39m]\n\u001b[1;32m   1454\u001b[0m \u001b[38;5;66;03m# We do not get here with UDFs, so we know that our dtype\u001b[39;00m\n\u001b[1;32m   1455\u001b[0m \u001b[38;5;66;03m#  should always be preserved by the implemented aggregations\u001b[39;00m\n\u001b[1;32m   1456\u001b[0m \u001b[38;5;66;03m# TODO: Is this exactly right; see WrappedCythonOp get_result_dtype?\u001b[39;00m\n\u001b[0;32m-> 1457\u001b[0m res_values \u001b[38;5;241m=\u001b[39m \u001b[38;5;28mself\u001b[39m\u001b[38;5;241m.\u001b[39mgrouper\u001b[38;5;241m.\u001b[39magg_series(ser, alt, preserve_dtype\u001b[38;5;241m=\u001b[39m\u001b[38;5;28;01mTrue\u001b[39;00m)\n\u001b[1;32m   1459\u001b[0m \u001b[38;5;28;01mif\u001b[39;00m \u001b[38;5;28misinstance\u001b[39m(values, Categorical):\n\u001b[1;32m   1460\u001b[0m     \u001b[38;5;66;03m# Because we only get here with known dtype-preserving\u001b[39;00m\n\u001b[1;32m   1461\u001b[0m     \u001b[38;5;66;03m#  reductions, we cast back to Categorical.\u001b[39;00m\n\u001b[1;32m   1462\u001b[0m     \u001b[38;5;66;03m# TODO: if we ever get \"rank\" working, exclude it here.\u001b[39;00m\n\u001b[1;32m   1463\u001b[0m     res_values \u001b[38;5;241m=\u001b[39m \u001b[38;5;28mtype\u001b[39m(values)\u001b[38;5;241m.\u001b[39m_from_sequence(res_values, dtype\u001b[38;5;241m=\u001b[39mvalues\u001b[38;5;241m.\u001b[39mdtype)\n",
      "File \u001b[0;32m~/anaconda3/lib/python3.11/site-packages/pandas/core/groupby/ops.py:994\u001b[0m, in \u001b[0;36mBaseGrouper.agg_series\u001b[0;34m(self, obj, func, preserve_dtype)\u001b[0m\n\u001b[1;32m    987\u001b[0m \u001b[38;5;28;01mif\u001b[39;00m \u001b[38;5;28mlen\u001b[39m(obj) \u001b[38;5;241m>\u001b[39m \u001b[38;5;241m0\u001b[39m \u001b[38;5;129;01mand\u001b[39;00m \u001b[38;5;129;01mnot\u001b[39;00m \u001b[38;5;28misinstance\u001b[39m(obj\u001b[38;5;241m.\u001b[39m_values, np\u001b[38;5;241m.\u001b[39mndarray):\n\u001b[1;32m    988\u001b[0m     \u001b[38;5;66;03m# we can preserve a little bit more aggressively with EA dtype\u001b[39;00m\n\u001b[1;32m    989\u001b[0m     \u001b[38;5;66;03m#  because maybe_cast_pointwise_result will do a try/except\u001b[39;00m\n\u001b[1;32m    990\u001b[0m     \u001b[38;5;66;03m#  with _from_sequence.  NB we are assuming here that _from_sequence\u001b[39;00m\n\u001b[1;32m    991\u001b[0m     \u001b[38;5;66;03m#  is sufficiently strict that it casts appropriately.\u001b[39;00m\n\u001b[1;32m    992\u001b[0m     preserve_dtype \u001b[38;5;241m=\u001b[39m \u001b[38;5;28;01mTrue\u001b[39;00m\n\u001b[0;32m--> 994\u001b[0m result \u001b[38;5;241m=\u001b[39m \u001b[38;5;28mself\u001b[39m\u001b[38;5;241m.\u001b[39m_aggregate_series_pure_python(obj, func)\n\u001b[1;32m    996\u001b[0m npvalues \u001b[38;5;241m=\u001b[39m lib\u001b[38;5;241m.\u001b[39mmaybe_convert_objects(result, try_float\u001b[38;5;241m=\u001b[39m\u001b[38;5;28;01mFalse\u001b[39;00m)\n\u001b[1;32m    997\u001b[0m \u001b[38;5;28;01mif\u001b[39;00m preserve_dtype:\n",
      "File \u001b[0;32m~/anaconda3/lib/python3.11/site-packages/pandas/core/groupby/ops.py:1015\u001b[0m, in \u001b[0;36mBaseGrouper._aggregate_series_pure_python\u001b[0;34m(self, obj, func)\u001b[0m\n\u001b[1;32m   1012\u001b[0m splitter \u001b[38;5;241m=\u001b[39m \u001b[38;5;28mself\u001b[39m\u001b[38;5;241m.\u001b[39m_get_splitter(obj, axis\u001b[38;5;241m=\u001b[39m\u001b[38;5;241m0\u001b[39m)\n\u001b[1;32m   1014\u001b[0m \u001b[38;5;28;01mfor\u001b[39;00m i, group \u001b[38;5;129;01min\u001b[39;00m \u001b[38;5;28menumerate\u001b[39m(splitter):\n\u001b[0;32m-> 1015\u001b[0m     res \u001b[38;5;241m=\u001b[39m func(group)\n\u001b[1;32m   1016\u001b[0m     res \u001b[38;5;241m=\u001b[39m libreduction\u001b[38;5;241m.\u001b[39mextract_result(res)\n\u001b[1;32m   1018\u001b[0m     \u001b[38;5;28;01mif\u001b[39;00m \u001b[38;5;129;01mnot\u001b[39;00m initialized:\n\u001b[1;32m   1019\u001b[0m         \u001b[38;5;66;03m# We only do this validation on the first iteration\u001b[39;00m\n",
      "File \u001b[0;32m~/anaconda3/lib/python3.11/site-packages/pandas/core/groupby/groupby.py:1857\u001b[0m, in \u001b[0;36mGroupBy.mean.<locals>.<lambda>\u001b[0;34m(x)\u001b[0m\n\u001b[1;32m   1853\u001b[0m     \u001b[38;5;28;01mreturn\u001b[39;00m \u001b[38;5;28mself\u001b[39m\u001b[38;5;241m.\u001b[39m_numba_agg_general(sliding_mean, engine_kwargs)\n\u001b[1;32m   1854\u001b[0m \u001b[38;5;28;01melse\u001b[39;00m:\n\u001b[1;32m   1855\u001b[0m     result \u001b[38;5;241m=\u001b[39m \u001b[38;5;28mself\u001b[39m\u001b[38;5;241m.\u001b[39m_cython_agg_general(\n\u001b[1;32m   1856\u001b[0m         \u001b[38;5;124m\"\u001b[39m\u001b[38;5;124mmean\u001b[39m\u001b[38;5;124m\"\u001b[39m,\n\u001b[0;32m-> 1857\u001b[0m         alt\u001b[38;5;241m=\u001b[39m\u001b[38;5;28;01mlambda\u001b[39;00m x: Series(x)\u001b[38;5;241m.\u001b[39mmean(numeric_only\u001b[38;5;241m=\u001b[39mnumeric_only),\n\u001b[1;32m   1858\u001b[0m         numeric_only\u001b[38;5;241m=\u001b[39mnumeric_only,\n\u001b[1;32m   1859\u001b[0m     )\n\u001b[1;32m   1860\u001b[0m     \u001b[38;5;28;01mreturn\u001b[39;00m result\u001b[38;5;241m.\u001b[39m__finalize__(\u001b[38;5;28mself\u001b[39m\u001b[38;5;241m.\u001b[39mobj, method\u001b[38;5;241m=\u001b[39m\u001b[38;5;124m\"\u001b[39m\u001b[38;5;124mgroupby\u001b[39m\u001b[38;5;124m\"\u001b[39m)\n",
      "File \u001b[0;32m~/anaconda3/lib/python3.11/site-packages/pandas/core/generic.py:11556\u001b[0m, in \u001b[0;36mNDFrame._add_numeric_operations.<locals>.mean\u001b[0;34m(self, axis, skipna, numeric_only, **kwargs)\u001b[0m\n\u001b[1;32m  11539\u001b[0m \u001b[38;5;129m@doc\u001b[39m(\n\u001b[1;32m  11540\u001b[0m     _num_doc,\n\u001b[1;32m  11541\u001b[0m     desc\u001b[38;5;241m=\u001b[39m\u001b[38;5;124m\"\u001b[39m\u001b[38;5;124mReturn the mean of the values over the requested axis.\u001b[39m\u001b[38;5;124m\"\u001b[39m,\n\u001b[0;32m   (...)\u001b[0m\n\u001b[1;32m  11554\u001b[0m     \u001b[38;5;241m*\u001b[39m\u001b[38;5;241m*\u001b[39mkwargs,\n\u001b[1;32m  11555\u001b[0m ):\n\u001b[0;32m> 11556\u001b[0m     \u001b[38;5;28;01mreturn\u001b[39;00m NDFrame\u001b[38;5;241m.\u001b[39mmean(\u001b[38;5;28mself\u001b[39m, axis, skipna, numeric_only, \u001b[38;5;241m*\u001b[39m\u001b[38;5;241m*\u001b[39mkwargs)\n",
      "File \u001b[0;32m~/anaconda3/lib/python3.11/site-packages/pandas/core/generic.py:11201\u001b[0m, in \u001b[0;36mNDFrame.mean\u001b[0;34m(self, axis, skipna, numeric_only, **kwargs)\u001b[0m\n\u001b[1;32m  11194\u001b[0m \u001b[38;5;28;01mdef\u001b[39;00m \u001b[38;5;21mmean\u001b[39m(\n\u001b[1;32m  11195\u001b[0m     \u001b[38;5;28mself\u001b[39m,\n\u001b[1;32m  11196\u001b[0m     axis: Axis \u001b[38;5;241m|\u001b[39m \u001b[38;5;28;01mNone\u001b[39;00m \u001b[38;5;241m=\u001b[39m \u001b[38;5;241m0\u001b[39m,\n\u001b[0;32m   (...)\u001b[0m\n\u001b[1;32m  11199\u001b[0m     \u001b[38;5;241m*\u001b[39m\u001b[38;5;241m*\u001b[39mkwargs,\n\u001b[1;32m  11200\u001b[0m ) \u001b[38;5;241m-\u001b[39m\u001b[38;5;241m>\u001b[39m Series \u001b[38;5;241m|\u001b[39m \u001b[38;5;28mfloat\u001b[39m:\n\u001b[0;32m> 11201\u001b[0m     \u001b[38;5;28;01mreturn\u001b[39;00m \u001b[38;5;28mself\u001b[39m\u001b[38;5;241m.\u001b[39m_stat_function(\n\u001b[1;32m  11202\u001b[0m         \u001b[38;5;124m\"\u001b[39m\u001b[38;5;124mmean\u001b[39m\u001b[38;5;124m\"\u001b[39m, nanops\u001b[38;5;241m.\u001b[39mnanmean, axis, skipna, numeric_only, \u001b[38;5;241m*\u001b[39m\u001b[38;5;241m*\u001b[39mkwargs\n\u001b[1;32m  11203\u001b[0m     )\n",
      "File \u001b[0;32m~/anaconda3/lib/python3.11/site-packages/pandas/core/generic.py:11158\u001b[0m, in \u001b[0;36mNDFrame._stat_function\u001b[0;34m(self, name, func, axis, skipna, numeric_only, **kwargs)\u001b[0m\n\u001b[1;32m  11154\u001b[0m     nv\u001b[38;5;241m.\u001b[39mvalidate_stat_func((), kwargs, fname\u001b[38;5;241m=\u001b[39mname)\n\u001b[1;32m  11156\u001b[0m validate_bool_kwarg(skipna, \u001b[38;5;124m\"\u001b[39m\u001b[38;5;124mskipna\u001b[39m\u001b[38;5;124m\"\u001b[39m, none_allowed\u001b[38;5;241m=\u001b[39m\u001b[38;5;28;01mFalse\u001b[39;00m)\n\u001b[0;32m> 11158\u001b[0m \u001b[38;5;28;01mreturn\u001b[39;00m \u001b[38;5;28mself\u001b[39m\u001b[38;5;241m.\u001b[39m_reduce(\n\u001b[1;32m  11159\u001b[0m     func, name\u001b[38;5;241m=\u001b[39mname, axis\u001b[38;5;241m=\u001b[39maxis, skipna\u001b[38;5;241m=\u001b[39mskipna, numeric_only\u001b[38;5;241m=\u001b[39mnumeric_only\n\u001b[1;32m  11160\u001b[0m )\n",
      "File \u001b[0;32m~/anaconda3/lib/python3.11/site-packages/pandas/core/series.py:4670\u001b[0m, in \u001b[0;36mSeries._reduce\u001b[0;34m(self, op, name, axis, skipna, numeric_only, filter_type, **kwds)\u001b[0m\n\u001b[1;32m   4665\u001b[0m     \u001b[38;5;28;01mraise\u001b[39;00m \u001b[38;5;167;01mTypeError\u001b[39;00m(\n\u001b[1;32m   4666\u001b[0m         \u001b[38;5;124mf\u001b[39m\u001b[38;5;124m\"\u001b[39m\u001b[38;5;124mSeries.\u001b[39m\u001b[38;5;132;01m{\u001b[39;00mname\u001b[38;5;132;01m}\u001b[39;00m\u001b[38;5;124m does not allow \u001b[39m\u001b[38;5;132;01m{\u001b[39;00mkwd_name\u001b[38;5;132;01m}\u001b[39;00m\u001b[38;5;124m=\u001b[39m\u001b[38;5;132;01m{\u001b[39;00mnumeric_only\u001b[38;5;132;01m}\u001b[39;00m\u001b[38;5;124m \u001b[39m\u001b[38;5;124m\"\u001b[39m\n\u001b[1;32m   4667\u001b[0m         \u001b[38;5;124m\"\u001b[39m\u001b[38;5;124mwith non-numeric dtypes.\u001b[39m\u001b[38;5;124m\"\u001b[39m\n\u001b[1;32m   4668\u001b[0m     )\n\u001b[1;32m   4669\u001b[0m \u001b[38;5;28;01mwith\u001b[39;00m np\u001b[38;5;241m.\u001b[39merrstate(\u001b[38;5;28mall\u001b[39m\u001b[38;5;241m=\u001b[39m\u001b[38;5;124m\"\u001b[39m\u001b[38;5;124mignore\u001b[39m\u001b[38;5;124m\"\u001b[39m):\n\u001b[0;32m-> 4670\u001b[0m     \u001b[38;5;28;01mreturn\u001b[39;00m op(delegate, skipna\u001b[38;5;241m=\u001b[39mskipna, \u001b[38;5;241m*\u001b[39m\u001b[38;5;241m*\u001b[39mkwds)\n",
      "File \u001b[0;32m~/anaconda3/lib/python3.11/site-packages/pandas/core/nanops.py:96\u001b[0m, in \u001b[0;36mdisallow.__call__.<locals>._f\u001b[0;34m(*args, **kwargs)\u001b[0m\n\u001b[1;32m     94\u001b[0m \u001b[38;5;28;01mtry\u001b[39;00m:\n\u001b[1;32m     95\u001b[0m     \u001b[38;5;28;01mwith\u001b[39;00m np\u001b[38;5;241m.\u001b[39merrstate(invalid\u001b[38;5;241m=\u001b[39m\u001b[38;5;124m\"\u001b[39m\u001b[38;5;124mignore\u001b[39m\u001b[38;5;124m\"\u001b[39m):\n\u001b[0;32m---> 96\u001b[0m         \u001b[38;5;28;01mreturn\u001b[39;00m f(\u001b[38;5;241m*\u001b[39margs, \u001b[38;5;241m*\u001b[39m\u001b[38;5;241m*\u001b[39mkwargs)\n\u001b[1;32m     97\u001b[0m \u001b[38;5;28;01mexcept\u001b[39;00m \u001b[38;5;167;01mValueError\u001b[39;00m \u001b[38;5;28;01mas\u001b[39;00m e:\n\u001b[1;32m     98\u001b[0m     \u001b[38;5;66;03m# we want to transform an object array\u001b[39;00m\n\u001b[1;32m     99\u001b[0m     \u001b[38;5;66;03m# ValueError message to the more typical TypeError\u001b[39;00m\n\u001b[1;32m    100\u001b[0m     \u001b[38;5;66;03m# e.g. this is normally a disallowed function on\u001b[39;00m\n\u001b[1;32m    101\u001b[0m     \u001b[38;5;66;03m# object arrays that contain strings\u001b[39;00m\n\u001b[1;32m    102\u001b[0m     \u001b[38;5;28;01mif\u001b[39;00m is_object_dtype(args[\u001b[38;5;241m0\u001b[39m]):\n",
      "File \u001b[0;32m~/anaconda3/lib/python3.11/site-packages/pandas/core/nanops.py:158\u001b[0m, in \u001b[0;36mbottleneck_switch.__call__.<locals>.f\u001b[0;34m(values, axis, skipna, **kwds)\u001b[0m\n\u001b[1;32m    156\u001b[0m         result \u001b[38;5;241m=\u001b[39m alt(values, axis\u001b[38;5;241m=\u001b[39maxis, skipna\u001b[38;5;241m=\u001b[39mskipna, \u001b[38;5;241m*\u001b[39m\u001b[38;5;241m*\u001b[39mkwds)\n\u001b[1;32m    157\u001b[0m \u001b[38;5;28;01melse\u001b[39;00m:\n\u001b[0;32m--> 158\u001b[0m     result \u001b[38;5;241m=\u001b[39m alt(values, axis\u001b[38;5;241m=\u001b[39maxis, skipna\u001b[38;5;241m=\u001b[39mskipna, \u001b[38;5;241m*\u001b[39m\u001b[38;5;241m*\u001b[39mkwds)\n\u001b[1;32m    160\u001b[0m \u001b[38;5;28;01mreturn\u001b[39;00m result\n",
      "File \u001b[0;32m~/anaconda3/lib/python3.11/site-packages/pandas/core/nanops.py:421\u001b[0m, in \u001b[0;36m_datetimelike_compat.<locals>.new_func\u001b[0;34m(values, axis, skipna, mask, **kwargs)\u001b[0m\n\u001b[1;32m    418\u001b[0m \u001b[38;5;28;01mif\u001b[39;00m datetimelike \u001b[38;5;129;01mand\u001b[39;00m mask \u001b[38;5;129;01mis\u001b[39;00m \u001b[38;5;28;01mNone\u001b[39;00m:\n\u001b[1;32m    419\u001b[0m     mask \u001b[38;5;241m=\u001b[39m isna(values)\n\u001b[0;32m--> 421\u001b[0m result \u001b[38;5;241m=\u001b[39m func(values, axis\u001b[38;5;241m=\u001b[39maxis, skipna\u001b[38;5;241m=\u001b[39mskipna, mask\u001b[38;5;241m=\u001b[39mmask, \u001b[38;5;241m*\u001b[39m\u001b[38;5;241m*\u001b[39mkwargs)\n\u001b[1;32m    423\u001b[0m \u001b[38;5;28;01mif\u001b[39;00m datetimelike:\n\u001b[1;32m    424\u001b[0m     result \u001b[38;5;241m=\u001b[39m _wrap_results(result, orig_values\u001b[38;5;241m.\u001b[39mdtype, fill_value\u001b[38;5;241m=\u001b[39miNaT)\n",
      "File \u001b[0;32m~/anaconda3/lib/python3.11/site-packages/pandas/core/nanops.py:727\u001b[0m, in \u001b[0;36mnanmean\u001b[0;34m(values, axis, skipna, mask)\u001b[0m\n\u001b[1;32m    724\u001b[0m     dtype_count \u001b[38;5;241m=\u001b[39m dtype\n\u001b[1;32m    726\u001b[0m count \u001b[38;5;241m=\u001b[39m _get_counts(values\u001b[38;5;241m.\u001b[39mshape, mask, axis, dtype\u001b[38;5;241m=\u001b[39mdtype_count)\n\u001b[0;32m--> 727\u001b[0m the_sum \u001b[38;5;241m=\u001b[39m _ensure_numeric(values\u001b[38;5;241m.\u001b[39msum(axis, dtype\u001b[38;5;241m=\u001b[39mdtype_sum))\n\u001b[1;32m    729\u001b[0m \u001b[38;5;28;01mif\u001b[39;00m axis \u001b[38;5;129;01mis\u001b[39;00m \u001b[38;5;129;01mnot\u001b[39;00m \u001b[38;5;28;01mNone\u001b[39;00m \u001b[38;5;129;01mand\u001b[39;00m \u001b[38;5;28mgetattr\u001b[39m(the_sum, \u001b[38;5;124m\"\u001b[39m\u001b[38;5;124mndim\u001b[39m\u001b[38;5;124m\"\u001b[39m, \u001b[38;5;28;01mFalse\u001b[39;00m):\n\u001b[1;32m    730\u001b[0m     count \u001b[38;5;241m=\u001b[39m cast(np\u001b[38;5;241m.\u001b[39mndarray, count)\n",
      "File \u001b[0;32m~/anaconda3/lib/python3.11/site-packages/pandas/core/nanops.py:1699\u001b[0m, in \u001b[0;36m_ensure_numeric\u001b[0;34m(x)\u001b[0m\n\u001b[1;32m   1696\u001b[0m             x \u001b[38;5;241m=\u001b[39m \u001b[38;5;28mcomplex\u001b[39m(x)\n\u001b[1;32m   1697\u001b[0m         \u001b[38;5;28;01mexcept\u001b[39;00m \u001b[38;5;167;01mValueError\u001b[39;00m \u001b[38;5;28;01mas\u001b[39;00m err:\n\u001b[1;32m   1698\u001b[0m             \u001b[38;5;66;03m# e.g. \"foo\"\u001b[39;00m\n\u001b[0;32m-> 1699\u001b[0m             \u001b[38;5;28;01mraise\u001b[39;00m \u001b[38;5;167;01mTypeError\u001b[39;00m(\u001b[38;5;124mf\u001b[39m\u001b[38;5;124m\"\u001b[39m\u001b[38;5;124mCould not convert \u001b[39m\u001b[38;5;132;01m{\u001b[39;00mx\u001b[38;5;132;01m}\u001b[39;00m\u001b[38;5;124m to numeric\u001b[39m\u001b[38;5;124m\"\u001b[39m) \u001b[38;5;28;01mfrom\u001b[39;00m \u001b[38;5;21;01merr\u001b[39;00m\n\u001b[1;32m   1700\u001b[0m \u001b[38;5;28;01mreturn\u001b[39;00m x\n",
      "\u001b[0;31mTypeError\u001b[0m: Could not convert DoeSmithLeeSmithWongDoeSmithSmithDoeDoeSmithWongLeeSmithWongSmithSmithDoeLeeDoeDoeSmithLeeSmithLeeLeeWongWongSmithSmithLeeWongWongWongDoeSmithWongWongDoeWongDoeLeeWongWongWongLeeWongWongDoeLeeLeeLeeSmithLeeDoeDoeLeeWongDoeLeeDoeWongDoeLeeDoeLeeWongDoeSmithLeeWongLeeDoeWongLeeLeeWongLeeDoeSmithSmithWongWongWongLeeLeeLeeSmithLeeDoeDoeLeeLeeDoeSmithLeeLeeLeeLeeDoeDoeDoeLeeLeeWongSmithLeeDoeWongSmithWongLeeDoeWongSmithLeeWongDoeSmithWongDoeLeeLeeDoeWongWongLeeDoeLeeDoeDoeDoeSmithWongSmithDoeSmithSmithWongWongDoeWongWongDoeLeeSmithLeeDoeWongSmithLeeDoeWongDoeWongSmithDoeSmithDoeLeeLeeSmithSmithDoeWongWongLeeSmithLeeWongSmithDoeWongSmithWongSmithDoeLeeDoeSmithWongSmithWongWongWongDoeLeeDoeSmithDoeDoeWongDoeDoeSmithWongLeeDoeDoeLeeWongDoeSmithSmithWongLeeSmithDoeDoeDoeSmithLeeDoeLeeDoeSmithWongLeeLeeSmithWongWongDoeLeeSmithDoeSmithDoeLeeWongDoeDoeWongWongDoeWongWongLeeWongLeeWongSmithLeeSmithLeeLeeWongLeeSmithWongSmithDoeWongWongSmithLeeWongLeeSmithDoeLeeLeeDoeDoeDoeDoeSmithLeeWongDoeLeeLeeSmithLeeLeeSmithLeeWongSmithSmithDoeWongDoeWongSmithDoeLeeDoeLeeLeeLeeDoeWongDoeWongDoeLeeDoeDoeDoeWongLeeDoeLeeDoeSmithSmithLeeSmithWongSmithDoeLeeSmithWongDoeDoeDoeLeeDoeLeeSmithDoeSmithDoeWongSmithWongDoeSmithSmithWongWongLeeLeeDoeDoeLeeSmithWongLeeLeeLeeLeeLeeLeeLeeSmithSmithLeeDoeLeeSmithDoeDoeLeeDoeLeeSmithSmithWongWongSmithSmithSmithLeeSmithWongDoeWongDoeDoeSmithDoeDoeWongWongWongWongWongDoeLeeSmithSmithSmithLeeDoeSmithDoeLeeSmithDoeWongSmithSmithDoeLeeWongDoeSmithWongWongWongLeeDoeSmithSmithLeeLeeDoeDoeSmithWongWongSmithDoeSmithLeeDoeDoeDoeSmithDoeSmithDoeWongSmithSmithLeeSmithDoeDoeWongLeeLeeWongLeeWongLeeWongDoeWongLeeLeeDoeWongLeeWongDoeDoeLeeSmithLeeDoeWongLeeLeeSmith to numeric"
     ]
    }
   ],
   "source": [
    "grpd.agg([np.mean, np.std])"
   ]
  },
  {
   "cell_type": "markdown",
   "id": "b803c779-a1ff-4679-a0b0-2c72bedeee61",
   "metadata": {},
   "source": [
    "That worked,  but pandas still complained to us because `grpd` has the doctors' names in it, and we obviously can't compute the means and standard deviations of those!"
   ]
  },
  {
   "cell_type": "markdown",
   "id": "24aae22a-18bb-4918-9a26-2282dddf2938",
   "metadata": {},
   "source": [
    "---"
   ]
  },
  {
   "cell_type": "markdown",
   "id": "d611ef36-f397-42e6-bbbf-21eb39ffcecf",
   "metadata": {},
   "source": [
    "In the cell below, repeat the above calculation without triggering the warning."
   ]
  },
  {
   "cell_type": "code",
   "execution_count": 146,
   "id": "cca1ae47-5d7a-45f1-bbea-a9f1a4665c89",
   "metadata": {
    "tags": []
   },
   "outputs": [
    {
     "data": {
      "text/html": [
       "<div>\n",
       "<style scoped>\n",
       "    .dataframe tbody tr th:only-of-type {\n",
       "        vertical-align: middle;\n",
       "    }\n",
       "\n",
       "    .dataframe tbody tr th {\n",
       "        vertical-align: top;\n",
       "    }\n",
       "\n",
       "    .dataframe thead tr th {\n",
       "        text-align: left;\n",
       "    }\n",
       "\n",
       "    .dataframe thead tr:last-of-type th {\n",
       "        text-align: right;\n",
       "    }\n",
       "</style>\n",
       "<table border=\"1\" class=\"dataframe\">\n",
       "  <thead>\n",
       "    <tr>\n",
       "      <th></th>\n",
       "      <th colspan=\"2\" halign=\"left\">clump_thickness</th>\n",
       "      <th colspan=\"2\" halign=\"left\">bland_chromatin</th>\n",
       "    </tr>\n",
       "    <tr>\n",
       "      <th></th>\n",
       "      <th>mean</th>\n",
       "      <th>std</th>\n",
       "      <th>mean</th>\n",
       "      <th>std</th>\n",
       "    </tr>\n",
       "    <tr>\n",
       "      <th>class</th>\n",
       "      <th></th>\n",
       "      <th></th>\n",
       "      <th></th>\n",
       "      <th></th>\n",
       "    </tr>\n",
       "  </thead>\n",
       "  <tbody>\n",
       "    <tr>\n",
       "      <th>benign</th>\n",
       "      <td>2.956332</td>\n",
       "      <td>1.674318</td>\n",
       "      <td>2.105495</td>\n",
       "      <td>1.081417</td>\n",
       "    </tr>\n",
       "    <tr>\n",
       "      <th>malignant</th>\n",
       "      <td>7.204167</td>\n",
       "      <td>2.429763</td>\n",
       "      <td>5.991667</td>\n",
       "      <td>2.270406</td>\n",
       "    </tr>\n",
       "  </tbody>\n",
       "</table>\n",
       "</div>"
      ],
      "text/plain": [
       "          clump_thickness           bland_chromatin          \n",
       "                     mean       std            mean       std\n",
       "class                                                        \n",
       "benign           2.956332  1.674318        2.105495  1.081417\n",
       "malignant        7.204167  2.429763        5.991667  2.270406"
      ]
     },
     "execution_count": 146,
     "metadata": {},
     "output_type": "execute_result"
    }
   ],
   "source": [
    "grpd[['clump_thickness', 'bland_chromatin']].agg([np.mean, np.std])"
   ]
  },
  {
   "cell_type": "markdown",
   "id": "6b01b2b5-57dd-4ed7-8192-33045301b2f9",
   "metadata": {},
   "source": [
    "---"
   ]
  },
  {
   "cell_type": "markdown",
   "id": "d7617b86-5800-4ecc-9c9e-12036cbf45a8",
   "metadata": {},
   "source": [
    "We can use the pandas versions of functions by placing them in quotes. This is handy because, for example, pandas has a `count` and numpy doesn't."
   ]
  },
  {
   "cell_type": "code",
   "execution_count": 147,
   "id": "aa284a69-4781-4d7c-a634-9f56e5f4f8b3",
   "metadata": {
    "tags": []
   },
   "outputs": [
    {
     "data": {
      "text/html": [
       "<div>\n",
       "<style scoped>\n",
       "    .dataframe tbody tr th:only-of-type {\n",
       "        vertical-align: middle;\n",
       "    }\n",
       "\n",
       "    .dataframe tbody tr th {\n",
       "        vertical-align: top;\n",
       "    }\n",
       "\n",
       "    .dataframe thead tr th {\n",
       "        text-align: left;\n",
       "    }\n",
       "\n",
       "    .dataframe thead tr:last-of-type th {\n",
       "        text-align: right;\n",
       "    }\n",
       "</style>\n",
       "<table border=\"1\" class=\"dataframe\">\n",
       "  <thead>\n",
       "    <tr>\n",
       "      <th></th>\n",
       "      <th colspan=\"3\" halign=\"left\">clump_thickness</th>\n",
       "      <th colspan=\"3\" halign=\"left\">bland_chromatin</th>\n",
       "    </tr>\n",
       "    <tr>\n",
       "      <th></th>\n",
       "      <th>mean</th>\n",
       "      <th>std</th>\n",
       "      <th>count</th>\n",
       "      <th>mean</th>\n",
       "      <th>std</th>\n",
       "      <th>count</th>\n",
       "    </tr>\n",
       "    <tr>\n",
       "      <th>class</th>\n",
       "      <th></th>\n",
       "      <th></th>\n",
       "      <th></th>\n",
       "      <th></th>\n",
       "      <th></th>\n",
       "      <th></th>\n",
       "    </tr>\n",
       "  </thead>\n",
       "  <tbody>\n",
       "    <tr>\n",
       "      <th>benign</th>\n",
       "      <td>2.956332</td>\n",
       "      <td>1.674318</td>\n",
       "      <td>458</td>\n",
       "      <td>2.105495</td>\n",
       "      <td>1.081417</td>\n",
       "      <td>455</td>\n",
       "    </tr>\n",
       "    <tr>\n",
       "      <th>malignant</th>\n",
       "      <td>7.204167</td>\n",
       "      <td>2.429763</td>\n",
       "      <td>240</td>\n",
       "      <td>5.991667</td>\n",
       "      <td>2.270406</td>\n",
       "      <td>240</td>\n",
       "    </tr>\n",
       "  </tbody>\n",
       "</table>\n",
       "</div>"
      ],
      "text/plain": [
       "          clump_thickness                 bland_chromatin                \n",
       "                     mean       std count            mean       std count\n",
       "class                                                                    \n",
       "benign           2.956332  1.674318   458        2.105495  1.081417   455\n",
       "malignant        7.204167  2.429763   240        5.991667  2.270406   240"
      ]
     },
     "execution_count": 147,
     "metadata": {},
     "output_type": "execute_result"
    }
   ],
   "source": [
    "grpd[['clump_thickness', 'bland_chromatin']].agg([np.mean, 'std', 'count'])"
   ]
  },
  {
   "cell_type": "markdown",
   "id": "8f75226d-22ca-4e1e-8956-a47e436ff896",
   "metadata": {
    "tags": []
   },
   "source": [
    "#### MultiIndexing - getting at our summary data"
   ]
  },
  {
   "cell_type": "markdown",
   "id": "aca2752b-9477-4cb6-8949-09926e77978c",
   "metadata": {},
   "source": [
    "Let's store our summary table little summary table above in its own data frame. This is going to complete our *split-apply-combine* by creating and naming a `DataFrame` object."
   ]
  },
  {
   "cell_type": "code",
   "execution_count": 148,
   "id": "303295d0-27ef-4ad4-b504-c8bf1d85a9bd",
   "metadata": {
    "tags": []
   },
   "outputs": [
    {
     "data": {
      "text/html": [
       "<div>\n",
       "<style scoped>\n",
       "    .dataframe tbody tr th:only-of-type {\n",
       "        vertical-align: middle;\n",
       "    }\n",
       "\n",
       "    .dataframe tbody tr th {\n",
       "        vertical-align: top;\n",
       "    }\n",
       "\n",
       "    .dataframe thead tr th {\n",
       "        text-align: left;\n",
       "    }\n",
       "\n",
       "    .dataframe thead tr:last-of-type th {\n",
       "        text-align: right;\n",
       "    }\n",
       "</style>\n",
       "<table border=\"1\" class=\"dataframe\">\n",
       "  <thead>\n",
       "    <tr>\n",
       "      <th></th>\n",
       "      <th colspan=\"3\" halign=\"left\">clump_thickness</th>\n",
       "      <th colspan=\"3\" halign=\"left\">bland_chromatin</th>\n",
       "    </tr>\n",
       "    <tr>\n",
       "      <th></th>\n",
       "      <th>mean</th>\n",
       "      <th>std</th>\n",
       "      <th>count</th>\n",
       "      <th>mean</th>\n",
       "      <th>std</th>\n",
       "      <th>count</th>\n",
       "    </tr>\n",
       "    <tr>\n",
       "      <th>class</th>\n",
       "      <th></th>\n",
       "      <th></th>\n",
       "      <th></th>\n",
       "      <th></th>\n",
       "      <th></th>\n",
       "      <th></th>\n",
       "    </tr>\n",
       "  </thead>\n",
       "  <tbody>\n",
       "    <tr>\n",
       "      <th>benign</th>\n",
       "      <td>2.956332</td>\n",
       "      <td>1.674318</td>\n",
       "      <td>458</td>\n",
       "      <td>2.105495</td>\n",
       "      <td>1.081417</td>\n",
       "      <td>455</td>\n",
       "    </tr>\n",
       "    <tr>\n",
       "      <th>malignant</th>\n",
       "      <td>7.204167</td>\n",
       "      <td>2.429763</td>\n",
       "      <td>240</td>\n",
       "      <td>5.991667</td>\n",
       "      <td>2.270406</td>\n",
       "      <td>240</td>\n",
       "    </tr>\n",
       "  </tbody>\n",
       "</table>\n",
       "</div>"
      ],
      "text/plain": [
       "          clump_thickness                 bland_chromatin                \n",
       "                     mean       std count            mean       std count\n",
       "class                                                                    \n",
       "benign           2.956332  1.674318   458        2.105495  1.081417   455\n",
       "malignant        7.204167  2.429763   240        5.991667  2.270406   240"
      ]
     },
     "execution_count": 148,
     "metadata": {},
     "output_type": "execute_result"
    }
   ],
   "source": [
    "my_summary = grpd[['clump_thickness', 'bland_chromatin']].agg([np.mean, 'std', 'count'])\n",
    "my_summary"
   ]
  },
  {
   "cell_type": "markdown",
   "id": "a9fa7d59-49f6-46d9-b7eb-cdae4484c358",
   "metadata": {},
   "source": [
    "Notice that this data frame has hierachical column labels. In other words, there is a \"clump_thickness\" meta-column that contains three colums of its own, and that these subcolumns have the same names as those in the other meta-column. Thus saying \"look at the mean column\" would be ambiguous because the meta-column wasn't specified."
   ]
  },
  {
   "cell_type": "markdown",
   "id": "6b016ebe-d7f6-4585-8130-44c96ee28341",
   "metadata": {},
   "source": [
    "In pandas, this is known at \"multiIndexing\". "
   ]
  },
  {
   "cell_type": "markdown",
   "id": "93b118a6-8890-402e-bff9-d4169a3d8e07",
   "metadata": {},
   "source": [
    "Getting a meta-column is easy - it's just like getting a regular column from a data frame."
   ]
  },
  {
   "cell_type": "code",
   "execution_count": 149,
   "id": "da2643bd-36d5-4637-bbe6-0a9df815f63d",
   "metadata": {
    "tags": []
   },
   "outputs": [
    {
     "data": {
      "text/html": [
       "<div>\n",
       "<style scoped>\n",
       "    .dataframe tbody tr th:only-of-type {\n",
       "        vertical-align: middle;\n",
       "    }\n",
       "\n",
       "    .dataframe tbody tr th {\n",
       "        vertical-align: top;\n",
       "    }\n",
       "\n",
       "    .dataframe thead th {\n",
       "        text-align: right;\n",
       "    }\n",
       "</style>\n",
       "<table border=\"1\" class=\"dataframe\">\n",
       "  <thead>\n",
       "    <tr style=\"text-align: right;\">\n",
       "      <th></th>\n",
       "      <th>mean</th>\n",
       "      <th>std</th>\n",
       "      <th>count</th>\n",
       "    </tr>\n",
       "    <tr>\n",
       "      <th>class</th>\n",
       "      <th></th>\n",
       "      <th></th>\n",
       "      <th></th>\n",
       "    </tr>\n",
       "  </thead>\n",
       "  <tbody>\n",
       "    <tr>\n",
       "      <th>benign</th>\n",
       "      <td>2.956332</td>\n",
       "      <td>1.674318</td>\n",
       "      <td>458</td>\n",
       "    </tr>\n",
       "    <tr>\n",
       "      <th>malignant</th>\n",
       "      <td>7.204167</td>\n",
       "      <td>2.429763</td>\n",
       "      <td>240</td>\n",
       "    </tr>\n",
       "  </tbody>\n",
       "</table>\n",
       "</div>"
      ],
      "text/plain": [
       "               mean       std  count\n",
       "class                               \n",
       "benign     2.956332  1.674318    458\n",
       "malignant  7.204167  2.429763    240"
      ]
     },
     "execution_count": 149,
     "metadata": {},
     "output_type": "execute_result"
    }
   ],
   "source": [
    "my_summary['clump_thickness']"
   ]
  },
  {
   "cell_type": "markdown",
   "id": "b9cd7f3d-e4e8-4ad1-92d3-61cec0b9374a",
   "metadata": {},
   "source": [
    "To get a subcolumn, we can index the meta-column, and then index the subcolumn from that."
   ]
  },
  {
   "cell_type": "code",
   "execution_count": 150,
   "id": "6d198763-eca3-48c8-9b02-34bddeed0edd",
   "metadata": {
    "tags": []
   },
   "outputs": [
    {
     "data": {
      "text/plain": [
       "class\n",
       "benign       2.956332\n",
       "malignant    7.204167\n",
       "Name: mean, dtype: float64"
      ]
     },
     "execution_count": 150,
     "metadata": {},
     "output_type": "execute_result"
    }
   ],
   "source": [
    "my_summary['clump_thickness']['mean']"
   ]
  },
  {
   "cell_type": "markdown",
   "id": "cef688a5-ae10-4469-9443-1d4b07f00c8c",
   "metadata": {},
   "source": [
    "If this looks confusing, consider the same thing broken up into two steps:"
   ]
  },
  {
   "cell_type": "code",
   "execution_count": 151,
   "id": "c57e015a-29ec-475a-866f-d66fd2e35c5a",
   "metadata": {
    "tags": []
   },
   "outputs": [
    {
     "data": {
      "text/html": [
       "<div>\n",
       "<style scoped>\n",
       "    .dataframe tbody tr th:only-of-type {\n",
       "        vertical-align: middle;\n",
       "    }\n",
       "\n",
       "    .dataframe tbody tr th {\n",
       "        vertical-align: top;\n",
       "    }\n",
       "\n",
       "    .dataframe thead th {\n",
       "        text-align: right;\n",
       "    }\n",
       "</style>\n",
       "<table border=\"1\" class=\"dataframe\">\n",
       "  <thead>\n",
       "    <tr style=\"text-align: right;\">\n",
       "      <th></th>\n",
       "      <th>mean</th>\n",
       "      <th>std</th>\n",
       "      <th>count</th>\n",
       "    </tr>\n",
       "    <tr>\n",
       "      <th>class</th>\n",
       "      <th></th>\n",
       "      <th></th>\n",
       "      <th></th>\n",
       "    </tr>\n",
       "  </thead>\n",
       "  <tbody>\n",
       "    <tr>\n",
       "      <th>benign</th>\n",
       "      <td>2.956332</td>\n",
       "      <td>1.674318</td>\n",
       "      <td>458</td>\n",
       "    </tr>\n",
       "    <tr>\n",
       "      <th>malignant</th>\n",
       "      <td>7.204167</td>\n",
       "      <td>2.429763</td>\n",
       "      <td>240</td>\n",
       "    </tr>\n",
       "  </tbody>\n",
       "</table>\n",
       "</div>"
      ],
      "text/plain": [
       "               mean       std  count\n",
       "class                               \n",
       "benign     2.956332  1.674318    458\n",
       "malignant  7.204167  2.429763    240"
      ]
     },
     "execution_count": 151,
     "metadata": {},
     "output_type": "execute_result"
    }
   ],
   "source": [
    "meta_c = my_summary['clump_thickness']\n",
    "meta_c"
   ]
  },
  {
   "cell_type": "code",
   "execution_count": 152,
   "id": "87d3b471-ac9a-4c87-b762-a41f8dda6912",
   "metadata": {
    "tags": []
   },
   "outputs": [
    {
     "data": {
      "text/plain": [
       "class\n",
       "benign       2.956332\n",
       "malignant    7.204167\n",
       "Name: mean, dtype: float64"
      ]
     },
     "execution_count": 152,
     "metadata": {},
     "output_type": "execute_result"
    }
   ],
   "source": [
    "meta_c['mean']"
   ]
  },
  {
   "cell_type": "markdown",
   "id": "522b481b-772a-41a8-89f7-6ca156587724",
   "metadata": {},
   "source": [
    "---"
   ]
  },
  {
   "cell_type": "markdown",
   "id": "73d8946c-ecbf-42e1-94b3-338dbfccac0f",
   "metadata": {},
   "source": [
    "In the cell below, extract the mean and std of \"bland_chromatin\" in one go."
   ]
  },
  {
   "cell_type": "code",
   "execution_count": 182,
   "id": "da0081ef-c255-4433-a5b5-1925f1bc65ef",
   "metadata": {
    "tags": []
   },
   "outputs": [
    {
     "data": {
      "text/html": [
       "<div>\n",
       "<style scoped>\n",
       "    .dataframe tbody tr th:only-of-type {\n",
       "        vertical-align: middle;\n",
       "    }\n",
       "\n",
       "    .dataframe tbody tr th {\n",
       "        vertical-align: top;\n",
       "    }\n",
       "\n",
       "    .dataframe thead th {\n",
       "        text-align: right;\n",
       "    }\n",
       "</style>\n",
       "<table border=\"1\" class=\"dataframe\">\n",
       "  <thead>\n",
       "    <tr style=\"text-align: right;\">\n",
       "      <th></th>\n",
       "      <th>mean</th>\n",
       "      <th>std</th>\n",
       "    </tr>\n",
       "    <tr>\n",
       "      <th>class</th>\n",
       "      <th></th>\n",
       "      <th></th>\n",
       "    </tr>\n",
       "  </thead>\n",
       "  <tbody>\n",
       "    <tr>\n",
       "      <th>benign</th>\n",
       "      <td>2.105495</td>\n",
       "      <td>1.081417</td>\n",
       "    </tr>\n",
       "    <tr>\n",
       "      <th>malignant</th>\n",
       "      <td>5.991667</td>\n",
       "      <td>2.270406</td>\n",
       "    </tr>\n",
       "  </tbody>\n",
       "</table>\n",
       "</div>"
      ],
      "text/plain": [
       "               mean       std\n",
       "class                        \n",
       "benign     2.105495  1.081417\n",
       "malignant  5.991667  2.270406"
      ]
     },
     "execution_count": 182,
     "metadata": {},
     "output_type": "execute_result"
    }
   ],
   "source": [
    "my_summary['bland_chromatin'][['mean','std']]"
   ]
  },
  {
   "cell_type": "markdown",
   "id": "27cf7162-bfe5-406d-a8e3-0ca0b1eb699b",
   "metadata": {},
   "source": [
    "---"
   ]
  },
  {
   "cell_type": "markdown",
   "id": "aafe1e00-605d-4c84-9fd8-590919f1db94",
   "metadata": {},
   "source": [
    "If we want values from a row, we need to get a bit more fancy and use `.loc`."
   ]
  },
  {
   "cell_type": "markdown",
   "id": "34247939-e358-4254-9919-cab1aae9642c",
   "metadata": {},
   "source": [
    "We can get a whole row using `df.loc[row_index(s)]`"
   ]
  },
  {
   "cell_type": "code",
   "execution_count": 183,
   "id": "1a767f4b-927c-4af6-a248-fb88acf0d126",
   "metadata": {
    "tags": []
   },
   "outputs": [
    {
     "data": {
      "text/plain": [
       "clump_thickness  mean       2.956332\n",
       "                 std        1.674318\n",
       "                 count    458.000000\n",
       "bland_chromatin  mean       2.105495\n",
       "                 std        1.081417\n",
       "                 count    455.000000\n",
       "Name: benign, dtype: float64"
      ]
     },
     "execution_count": 183,
     "metadata": {},
     "output_type": "execute_result"
    }
   ],
   "source": [
    "my_summary.loc['benign']"
   ]
  },
  {
   "cell_type": "markdown",
   "id": "b0d25adc-c469-44db-9215-9440cbbec0c5",
   "metadata": {},
   "source": [
    "(note: that this gave us a hierarchical index!)"
   ]
  },
  {
   "cell_type": "markdown",
   "id": "33389e64-f884-43b8-9d23-072eba33fd0e",
   "metadata": {},
   "source": [
    "We can get a row and and a particular column with \n",
    "`df.loc[row_index(s),  (metacolumn_index, subcolumn_index)]`"
   ]
  },
  {
   "cell_type": "code",
   "execution_count": 184,
   "id": "1276d8cb-b791-46bf-8fa4-41aef84575ac",
   "metadata": {
    "tags": []
   },
   "outputs": [
    {
     "data": {
      "text/plain": [
       "2.9563318777292578"
      ]
     },
     "execution_count": 184,
     "metadata": {},
     "output_type": "execute_result"
    }
   ],
   "source": [
    "my_summary.loc['benign', ('clump_thickness', 'mean')]"
   ]
  },
  {
   "cell_type": "markdown",
   "id": "112716b8-2ed0-44e5-b84a-f7ad1e8ad60c",
   "metadata": {},
   "source": [
    "We can also get bigger slices of the data with the colon `:` operator:"
   ]
  },
  {
   "cell_type": "code",
   "execution_count": 185,
   "id": "99cc5b3c-1c98-45a2-8e4d-0656d1ea1e15",
   "metadata": {
    "tags": []
   },
   "outputs": [
    {
     "data": {
      "text/plain": [
       "clump_thickness  mean       2.956332\n",
       "                 std        1.674318\n",
       "                 count    458.000000\n",
       "bland_chromatin  mean       2.105495\n",
       "                 std        1.081417\n",
       "Name: benign, dtype: float64"
      ]
     },
     "execution_count": 185,
     "metadata": {},
     "output_type": "execute_result"
    }
   ],
   "source": [
    "my_summary.loc['benign', ('clump_thickness', 'mean'):('bland_chromatin', 'std')]"
   ]
  },
  {
   "cell_type": "markdown",
   "id": "aa646901-04d7-42eb-b45b-12e61ab764d0",
   "metadata": {},
   "source": [
    "---"
   ]
  },
  {
   "cell_type": "markdown",
   "id": "2b6b7174-8806-4391-bbd3-03a996c09dca",
   "metadata": {},
   "source": [
    "In the cell below, extract the mean and std of the bland chromatin meta-column."
   ]
  },
  {
   "cell_type": "code",
   "execution_count": 186,
   "id": "e3929f53-8384-4543-b008-40c40113c1cc",
   "metadata": {
    "tags": []
   },
   "outputs": [
    {
     "data": {
      "text/html": [
       "<div>\n",
       "<style scoped>\n",
       "    .dataframe tbody tr th:only-of-type {\n",
       "        vertical-align: middle;\n",
       "    }\n",
       "\n",
       "    .dataframe tbody tr th {\n",
       "        vertical-align: top;\n",
       "    }\n",
       "\n",
       "    .dataframe thead tr th {\n",
       "        text-align: left;\n",
       "    }\n",
       "\n",
       "    .dataframe thead tr:last-of-type th {\n",
       "        text-align: right;\n",
       "    }\n",
       "</style>\n",
       "<table border=\"1\" class=\"dataframe\">\n",
       "  <thead>\n",
       "    <tr>\n",
       "      <th></th>\n",
       "      <th colspan=\"2\" halign=\"left\">bland_chromatin</th>\n",
       "    </tr>\n",
       "    <tr>\n",
       "      <th></th>\n",
       "      <th>mean</th>\n",
       "      <th>std</th>\n",
       "    </tr>\n",
       "    <tr>\n",
       "      <th>class</th>\n",
       "      <th></th>\n",
       "      <th></th>\n",
       "    </tr>\n",
       "  </thead>\n",
       "  <tbody>\n",
       "    <tr>\n",
       "      <th>benign</th>\n",
       "      <td>2.105495</td>\n",
       "      <td>1.081417</td>\n",
       "    </tr>\n",
       "    <tr>\n",
       "      <th>malignant</th>\n",
       "      <td>5.991667</td>\n",
       "      <td>2.270406</td>\n",
       "    </tr>\n",
       "  </tbody>\n",
       "</table>\n",
       "</div>"
      ],
      "text/plain": [
       "          bland_chromatin          \n",
       "                     mean       std\n",
       "class                              \n",
       "benign           2.105495  1.081417\n",
       "malignant        5.991667  2.270406"
      ]
     },
     "execution_count": 186,
     "metadata": {},
     "output_type": "execute_result"
    }
   ],
   "source": [
    "my_summary.loc[:, ('bland_chromatin', 'mean'):('bland_chromatin', 'std')]"
   ]
  },
  {
   "cell_type": "markdown",
   "id": "63449f79-9f79-481c-869d-bfc5198d533e",
   "metadata": {},
   "source": [
    "---"
   ]
  },
  {
   "cell_type": "markdown",
   "id": "76c1f381-f91c-4a29-828a-3757bcf75095",
   "metadata": {
    "tags": []
   },
   "source": [
    "#### Simple caculations with pivot tables"
   ]
  },
  {
   "cell_type": "markdown",
   "id": "0d6d17b4-924d-4539-9cac-16410a2b53bc",
   "metadata": {},
   "source": [
    "Pivot tables are summary data with the levels of one variable running down the row names (the index), the levels of another running across the column names, and values populating the interior. This should be made concrete by making one with the `pivot_table()` method:"
   ]
  },
  {
   "cell_type": "code",
   "execution_count": 187,
   "id": "077fb065-f490-4c64-9231-89448eb93d65",
   "metadata": {
    "tags": []
   },
   "outputs": [
    {
     "data": {
      "text/html": [
       "<div>\n",
       "<style scoped>\n",
       "    .dataframe tbody tr th:only-of-type {\n",
       "        vertical-align: middle;\n",
       "    }\n",
       "\n",
       "    .dataframe tbody tr th {\n",
       "        vertical-align: top;\n",
       "    }\n",
       "\n",
       "    .dataframe thead th {\n",
       "        text-align: right;\n",
       "    }\n",
       "</style>\n",
       "<table border=\"1\" class=\"dataframe\">\n",
       "  <thead>\n",
       "    <tr style=\"text-align: right;\">\n",
       "      <th>class</th>\n",
       "      <th>benign</th>\n",
       "      <th>malignant</th>\n",
       "    </tr>\n",
       "    <tr>\n",
       "      <th>doctor_name</th>\n",
       "      <th></th>\n",
       "      <th></th>\n",
       "    </tr>\n",
       "  </thead>\n",
       "  <tbody>\n",
       "    <tr>\n",
       "      <th>Doe</th>\n",
       "      <td>2.000000</td>\n",
       "      <td>5.456140</td>\n",
       "    </tr>\n",
       "    <tr>\n",
       "      <th>Lee</th>\n",
       "      <td>2.067227</td>\n",
       "      <td>6.150000</td>\n",
       "    </tr>\n",
       "    <tr>\n",
       "      <th>Smith</th>\n",
       "      <td>1.980392</td>\n",
       "      <td>6.459459</td>\n",
       "    </tr>\n",
       "    <tr>\n",
       "      <th>Wong</th>\n",
       "      <td>2.388889</td>\n",
       "      <td>5.714286</td>\n",
       "    </tr>\n",
       "  </tbody>\n",
       "</table>\n",
       "</div>"
      ],
      "text/plain": [
       "class          benign  malignant\n",
       "doctor_name                     \n",
       "Doe          2.000000   5.456140\n",
       "Lee          2.067227   6.150000\n",
       "Smith        1.980392   6.459459\n",
       "Wong         2.388889   5.714286"
      ]
     },
     "execution_count": 187,
     "metadata": {},
     "output_type": "execute_result"
    }
   ],
   "source": [
    "bcd2.pivot_table(index = 'doctor_name', columns = 'class', values = 'bland_chromatin')"
   ]
  },
  {
   "cell_type": "markdown",
   "id": "46e2de5c-6aa4-45ff-b351-e055116630d2",
   "metadata": {},
   "source": [
    "By default, `pivot_table()` computes the group (row x column) means, but we can compute any of the standard summary statistics we wish. We just specify it using the `aggfunc` argument:"
   ]
  },
  {
   "cell_type": "code",
   "execution_count": 191,
   "id": "04075b4d-403e-4fff-9bba-b37df73d9c76",
   "metadata": {
    "tags": []
   },
   "outputs": [
    {
     "data": {
      "text/html": [
       "<div>\n",
       "<style scoped>\n",
       "    .dataframe tbody tr th:only-of-type {\n",
       "        vertical-align: middle;\n",
       "    }\n",
       "\n",
       "    .dataframe tbody tr th {\n",
       "        vertical-align: top;\n",
       "    }\n",
       "\n",
       "    .dataframe thead th {\n",
       "        text-align: right;\n",
       "    }\n",
       "</style>\n",
       "<table border=\"1\" class=\"dataframe\">\n",
       "  <thead>\n",
       "    <tr style=\"text-align: right;\">\n",
       "      <th>class</th>\n",
       "      <th>benign</th>\n",
       "      <th>malignant</th>\n",
       "    </tr>\n",
       "    <tr>\n",
       "      <th>doctor_name</th>\n",
       "      <th></th>\n",
       "      <th></th>\n",
       "    </tr>\n",
       "  </thead>\n",
       "  <tbody>\n",
       "    <tr>\n",
       "      <th>Doe</th>\n",
       "      <td>1.003992</td>\n",
       "      <td>2.260453</td>\n",
       "    </tr>\n",
       "    <tr>\n",
       "      <th>Lee</th>\n",
       "      <td>1.014564</td>\n",
       "      <td>2.121920</td>\n",
       "    </tr>\n",
       "    <tr>\n",
       "      <th>Smith</th>\n",
       "      <td>0.943769</td>\n",
       "      <td>2.330202</td>\n",
       "    </tr>\n",
       "    <tr>\n",
       "      <th>Wong</th>\n",
       "      <td>1.303004</td>\n",
       "      <td>2.263846</td>\n",
       "    </tr>\n",
       "  </tbody>\n",
       "</table>\n",
       "</div>"
      ],
      "text/plain": [
       "class          benign  malignant\n",
       "doctor_name                     \n",
       "Doe          1.003992   2.260453\n",
       "Lee          1.014564   2.121920\n",
       "Smith        0.943769   2.330202\n",
       "Wong         1.303004   2.263846"
      ]
     },
     "execution_count": 191,
     "metadata": {},
     "output_type": "execute_result"
    }
   ],
   "source": [
    "bcd2.pivot_table(index = 'doctor_name', \n",
    "                 columns = 'class', \n",
    "                 values = 'bland_chromatin', \n",
    "                 aggfunc = 'std')"
   ]
  },
  {
   "cell_type": "markdown",
   "id": "74187775-f270-4a53-86cb-4371df85ee13",
   "metadata": {},
   "source": [
    "These are called \"pivot tables\" because their implementation makes it easy to pivot our view of the data summary."
   ]
  },
  {
   "cell_type": "markdown",
   "id": "065b9ebc-426b-4d37-992c-1844fa48e97e",
   "metadata": {},
   "source": [
    "---"
   ]
  },
  {
   "cell_type": "markdown",
   "id": "cbb94a8c-2634-4850-94f0-40e1ee673022",
   "metadata": {},
   "source": [
    "In the cell below, \"pivot\" our view of the means so we have \"class\" down the rows, doctor name across the columns, and the means of clump thickness inside the table."
   ]
  },
  {
   "cell_type": "code",
   "execution_count": 189,
   "id": "8f4bf63c-1011-4932-9ee0-ab4e8680374f",
   "metadata": {
    "tags": []
   },
   "outputs": [
    {
     "data": {
      "text/html": [
       "<div>\n",
       "<style scoped>\n",
       "    .dataframe tbody tr th:only-of-type {\n",
       "        vertical-align: middle;\n",
       "    }\n",
       "\n",
       "    .dataframe tbody tr th {\n",
       "        vertical-align: top;\n",
       "    }\n",
       "\n",
       "    .dataframe thead th {\n",
       "        text-align: right;\n",
       "    }\n",
       "</style>\n",
       "<table border=\"1\" class=\"dataframe\">\n",
       "  <thead>\n",
       "    <tr style=\"text-align: right;\">\n",
       "      <th>doctor_name</th>\n",
       "      <th>Doe</th>\n",
       "      <th>Lee</th>\n",
       "      <th>Smith</th>\n",
       "      <th>Wong</th>\n",
       "    </tr>\n",
       "    <tr>\n",
       "      <th>class</th>\n",
       "      <th></th>\n",
       "      <th></th>\n",
       "      <th></th>\n",
       "      <th></th>\n",
       "    </tr>\n",
       "  </thead>\n",
       "  <tbody>\n",
       "    <tr>\n",
       "      <th>benign</th>\n",
       "      <td>2.637795</td>\n",
       "      <td>2.983471</td>\n",
       "      <td>3.098039</td>\n",
       "      <td>3.166667</td>\n",
       "    </tr>\n",
       "    <tr>\n",
       "      <th>malignant</th>\n",
       "      <td>7.586207</td>\n",
       "      <td>6.600000</td>\n",
       "      <td>7.356164</td>\n",
       "      <td>7.265306</td>\n",
       "    </tr>\n",
       "  </tbody>\n",
       "</table>\n",
       "</div>"
      ],
      "text/plain": [
       "doctor_name       Doe       Lee     Smith      Wong\n",
       "class                                              \n",
       "benign       2.637795  2.983471  3.098039  3.166667\n",
       "malignant    7.586207  6.600000  7.356164  7.265306"
      ]
     },
     "execution_count": 189,
     "metadata": {},
     "output_type": "execute_result"
    }
   ],
   "source": [
    "bcd2.pivot_table(index = 'class', \n",
    "                 columns = 'doctor_name', \n",
    "                 values = 'clump_thickness')"
   ]
  },
  {
   "cell_type": "markdown",
   "id": "f7030886-1d31-49f6-9e69-4c7358f732c4",
   "metadata": {},
   "source": [
    "---"
   ]
  },
  {
   "cell_type": "markdown",
   "id": "36cee0f3-bd78-428d-80dc-4ba8bb938c5a",
   "metadata": {},
   "source": [
    "Because clumb thickness and bland chromatin only have the values 1 to 10, we could use either one as a grouping variable in a pivot table:"
   ]
  },
  {
   "cell_type": "code",
   "execution_count": 190,
   "id": "3fa4be3f-06f9-45e3-baaa-8872efbea3db",
   "metadata": {
    "tags": []
   },
   "outputs": [
    {
     "data": {
      "text/html": [
       "<div>\n",
       "<style scoped>\n",
       "    .dataframe tbody tr th:only-of-type {\n",
       "        vertical-align: middle;\n",
       "    }\n",
       "\n",
       "    .dataframe tbody tr th {\n",
       "        vertical-align: top;\n",
       "    }\n",
       "\n",
       "    .dataframe thead th {\n",
       "        text-align: right;\n",
       "    }\n",
       "</style>\n",
       "<table border=\"1\" class=\"dataframe\">\n",
       "  <thead>\n",
       "    <tr style=\"text-align: right;\">\n",
       "      <th>class</th>\n",
       "      <th>benign</th>\n",
       "      <th>malignant</th>\n",
       "    </tr>\n",
       "    <tr>\n",
       "      <th>clump_thickness</th>\n",
       "      <th></th>\n",
       "      <th></th>\n",
       "    </tr>\n",
       "  </thead>\n",
       "  <tbody>\n",
       "    <tr>\n",
       "      <th>1.0</th>\n",
       "      <td>1.978723</td>\n",
       "      <td>5.666667</td>\n",
       "    </tr>\n",
       "    <tr>\n",
       "      <th>2.0</th>\n",
       "      <td>2.090909</td>\n",
       "      <td>5.000000</td>\n",
       "    </tr>\n",
       "    <tr>\n",
       "      <th>3.0</th>\n",
       "      <td>2.145833</td>\n",
       "      <td>5.500000</td>\n",
       "    </tr>\n",
       "    <tr>\n",
       "      <th>4.0</th>\n",
       "      <td>2.117647</td>\n",
       "      <td>7.916667</td>\n",
       "    </tr>\n",
       "    <tr>\n",
       "      <th>5.0</th>\n",
       "      <td>2.011765</td>\n",
       "      <td>5.818182</td>\n",
       "    </tr>\n",
       "    <tr>\n",
       "      <th>6.0</th>\n",
       "      <td>3.062500</td>\n",
       "      <td>6.666667</td>\n",
       "    </tr>\n",
       "    <tr>\n",
       "      <th>7.0</th>\n",
       "      <td>2.000000</td>\n",
       "      <td>5.818182</td>\n",
       "    </tr>\n",
       "    <tr>\n",
       "      <th>8.0</th>\n",
       "      <td>3.750000</td>\n",
       "      <td>5.761905</td>\n",
       "    </tr>\n",
       "    <tr>\n",
       "      <th>9.0</th>\n",
       "      <td>NaN</td>\n",
       "      <td>5.142857</td>\n",
       "    </tr>\n",
       "    <tr>\n",
       "      <th>10.0</th>\n",
       "      <td>NaN</td>\n",
       "      <td>6.147059</td>\n",
       "    </tr>\n",
       "  </tbody>\n",
       "</table>\n",
       "</div>"
      ],
      "text/plain": [
       "class              benign  malignant\n",
       "clump_thickness                     \n",
       "1.0              1.978723   5.666667\n",
       "2.0              2.090909   5.000000\n",
       "3.0              2.145833   5.500000\n",
       "4.0              2.117647   7.916667\n",
       "5.0              2.011765   5.818182\n",
       "6.0              3.062500   6.666667\n",
       "7.0              2.000000   5.818182\n",
       "8.0              3.750000   5.761905\n",
       "9.0                   NaN   5.142857\n",
       "10.0                  NaN   6.147059"
      ]
     },
     "execution_count": 190,
     "metadata": {},
     "output_type": "execute_result"
    }
   ],
   "source": [
    "bcd2.pivot_table(index = 'clump_thickness', columns = 'class', values = 'bland_chromatin')"
   ]
  },
  {
   "cell_type": "markdown",
   "id": "0d71c651-7401-434f-a84a-3cbb9963f5fc",
   "metadata": {},
   "source": [
    "Notice the NaNs – no benign tumors have a thickness of 9 or 10."
   ]
  },
  {
   "cell_type": "markdown",
   "id": "e679ddea-a3db-44b9-9cf1-0f7efcbfe5e4",
   "metadata": {},
   "source": [
    "## Grouped plotting"
   ]
  },
  {
   "cell_type": "markdown",
   "id": "c02e873b-77c1-49b2-a7ab-2ddf232ea564",
   "metadata": {},
   "source": [
    "As we have already seen, the seaborn package can take care of grouping for us – we just need to assign a grouping variable to color ('hue'), style, etc. And we already know how to do all this!"
   ]
  },
  {
   "cell_type": "code",
   "execution_count": 192,
   "id": "be59c22f-467b-4c43-904f-f12df501a8e5",
   "metadata": {
    "tags": []
   },
   "outputs": [],
   "source": [
    "import seaborn as sns"
   ]
  },
  {
   "cell_type": "markdown",
   "id": "82befcaf-1ac0-41c0-bc0b-afec3bb0c624",
   "metadata": {},
   "source": [
    "---"
   ]
  },
  {
   "cell_type": "markdown",
   "id": "096784da-6d3e-4d6f-8720-6e3e4f06b3a4",
   "metadata": {},
   "source": [
    "Make a distribution plot (like a histogram) of bland chromatin values grouped by tumor type."
   ]
  },
  {
   "cell_type": "code",
   "execution_count": 197,
   "id": "472f0c0d-c89f-4e45-a8b4-9800bd8c90d0",
   "metadata": {
    "tags": []
   },
   "outputs": [
    {
     "name": "stderr",
     "output_type": "stream",
     "text": [
      "/Users/phoebewang/anaconda3/lib/python3.11/site-packages/seaborn/axisgrid.py:118: UserWarning: The figure layout has changed to tight\n",
      "  self._figure.tight_layout(*args, **kwargs)\n"
     ]
    },
    {
     "data": {
      "image/png": "[encoded data removed]",
      "text/plain": [
       "<Figure size 620.375x500 with 1 Axes>"
      ]
     },
     "metadata": {},
     "output_type": "display_data"
    }
   ],
   "source": [
    "sns.displot(data = bcd2, x = 'bland_chromatin', hue = 'class');"
   ]
  },
  {
   "cell_type": "markdown",
   "id": "f8b01227-25e1-447e-b8db-0e26d0ebc573",
   "metadata": {},
   "source": [
    "---"
   ]
  },
  {
   "cell_type": "markdown",
   "id": "eeb00e19-76f6-4e52-acfa-d71bd88438ed",
   "metadata": {},
   "source": [
    "Make a joint plot grouped by tumor type:"
   ]
  },
  {
   "cell_type": "code",
   "execution_count": 204,
   "id": "8c8d0f78-92eb-4e50-a026-aec905eee943",
   "metadata": {
    "tags": []
   },
   "outputs": [
    {
     "data": {
      "image/png": "[encoded data removed]",
      "text/plain": [
       "<Figure size 600x600 with 3 Axes>"
      ]
     },
     "metadata": {},
     "output_type": "display_data"
    }
   ],
   "source": [
    "sns.jointplot(data = bcd2, x = 'bland_chromatin', y = 'clump_thickness', hue = 'class');"
   ]
  },
  {
   "cell_type": "markdown",
   "id": "c58dc814-93bf-4908-8b76-559b9dcd6093",
   "metadata": {},
   "source": [
    "---"
   ]
  },
  {
   "cell_type": "markdown",
   "id": "479aa767-fb50-4eeb-80fb-6eb947c13df2",
   "metadata": {},
   "source": [
    "Make a pairplot of our two measurement variables grouped by tumor type and with `kind - 'hist'` in order to make histograms in the off-diagonal plots."
   ]
  },
  {
   "cell_type": "code",
   "execution_count": 203,
   "id": "dfdf81ca-dd1a-4271-aac6-4ed5adcb8653",
   "metadata": {
    "tags": []
   },
   "outputs": [
    {
     "name": "stderr",
     "output_type": "stream",
     "text": [
      "/Users/phoebewang/anaconda3/lib/python3.11/site-packages/seaborn/axisgrid.py:118: UserWarning: The figure layout has changed to tight\n",
      "  self._figure.tight_layout(*args, **kwargs)\n"
     ]
    },
    {
     "data": {
      "image/png": "[encoded data removed]",
      "text/plain": [
       "<Figure size 620.375x500 with 6 Axes>"
      ]
     },
     "metadata": {},
     "output_type": "display_data"
    }
   ],
   "source": [
    "sns.pairplot(data = bcd2, hue = 'class', kind = 'hist');"
   ]
  },
  {
   "cell_type": "markdown",
   "id": "ac45c714-ea16-43c6-90d6-fd28613e089a",
   "metadata": {},
   "source": [
    "---"
   ]
  },
  {
   "cell_type": "markdown",
   "id": "a1e1f6ce-2524-418c-bc47-388a9280350a",
   "metadata": {},
   "source": [
    "The plot above is okay except for the white space in the diagonal plots that aren't actually missing data. To fix this, we need to set our binwidth to 1, so that it matches the data (which are integers from 1 to 10)."
   ]
  },
  {
   "cell_type": "markdown",
   "id": "bca63d7f-317f-4d5a-b736-b4518d2902da",
   "metadata": {},
   "source": [
    "Use the cell below to remake the plot with a binwidth of 1 for the diagonal plot. Hint: use the `plot_kws` argument to adjust this."
   ]
  },
  {
   "cell_type": "code",
   "execution_count": 210,
   "id": "3c056efd-1394-4427-9068-5ca75cd5a9f7",
   "metadata": {
    "tags": []
   },
   "outputs": [
    {
     "name": "stderr",
     "output_type": "stream",
     "text": [
      "/Users/phoebewang/anaconda3/lib/python3.11/site-packages/seaborn/axisgrid.py:118: UserWarning: The figure layout has changed to tight\n",
      "  self._figure.tight_layout(*args, **kwargs)\n"
     ]
    },
    {
     "data": {
      "image/png": "[encoded data removed]",
      "text/plain": [
       "<Figure size 620.375x500 with 6 Axes>"
      ]
     },
     "metadata": {},
     "output_type": "display_data"
    }
   ],
   "source": [
    "sns.pairplot(data = bcd2, hue = 'class', kind = 'hist', plot_kws = dict(binwidth = 1));"
   ]
  },
  {
   "cell_type": "markdown",
   "id": "1180b055-f789-4558-a571-3def01a1689a",
   "metadata": {},
   "source": [
    "---"
   ]
  },
  {
   "cell_type": "markdown",
   "id": "1cc217ef-e7b0-4957-b99e-28642e7ba659",
   "metadata": {},
   "source": [
    "## Your conclusions"
   ]
  },
  {
   "cell_type": "markdown",
   "id": "6d3c8e67-664f-48f3-b403-9f2918e6c8bc",
   "metadata": {},
   "source": [
    "In the cell below, briefly state your conclusions from our analysis above. Are either or both of the measurements related to tumor type?"
   ]
  },
  {
   "cell_type": "markdown",
   "id": "e8afd31b-0b16-448e-b9d2-df2e6dfcb4a0",
   "metadata": {},
   "source": [
    "Both of the measurements are related to tumor type because there is greater clump thickness in malignant tumors and there is more bland chromatin in benign tumors. Both measurements help to identify the tumor type."
   ]
  },
  {
   "cell_type": "markdown",
   "id": "ae34c6ff-2f72-49e5-b747-562bb0693254",
   "metadata": {},
   "source": [
    "---"
   ]
  },
  {
   "cell_type": "markdown",
   "id": "f063c829-d560-47cf-8bd7-d958dd5bd805",
   "metadata": {},
   "source": [
    "## Summary"
   ]
  },
  {
   "cell_type": "markdown",
   "id": "ebda6317-6a0d-4b6c-b583-491f812177d9",
   "metadata": {},
   "source": [
    "In this tutorial, we learned to analyze data by group:\n",
    "\n",
    "- the split-apply-combine concept\n",
    "- grouping using `groupby()`\n",
    "- doing simple grouped calculations \n",
    "- doing multiple calculations with `agg()`\n",
    "- multiIndexing \n",
    "- simple summaries with pivot tables"
   ]
  }
 ],
 "metadata": {
  "kernelspec": {
   "display_name": "Python 3 (ipykernel)",
   "language": "python",
   "name": "python3"
  },
  "language_info": {
   "codemirror_mode": {
    "name": "ipython",
    "version": 3
   },
   "file_extension": ".py",
   "mimetype": "text/x-python",
   "name": "python",
   "nbconvert_exporter": "python",
   "pygments_lexer": "ipython3",
   "version": "3.11.5"
  }
 },
 "nbformat": 4,
 "nbformat_minor": 5
}
