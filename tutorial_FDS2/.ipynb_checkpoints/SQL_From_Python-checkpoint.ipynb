{
 "cells": [
  {
   "cell_type": "code",
   "execution_count": 2,
   "id": "c8b31e86-5b46-4671-99c6-ba07fd13f654",
   "metadata": {},
   "outputs": [],
   "source": [
    "import sqlite3"
   ]
  },
  {
   "cell_type": "code",
   "execution_count": 3,
   "id": "96ed7a08-e552-420e-974a-3e6dbd26c4f2",
   "metadata": {
    "tags": []
   },
   "outputs": [],
   "source": [
    "# Establish a connection to the database\n",
    "connection = sqlite3.connect('data/rexon_metals.db')"
   ]
  },
  {
   "cell_type": "code",
   "execution_count": 4,
   "id": "ab83ae1e-04fd-4376-8dc1-d3a5c41bde83",
   "metadata": {
    "tags": []
   },
   "outputs": [],
   "source": [
    "# Create a cursor object using the connection\n",
    "cursor = connection.cursor()"
   ]
  },
  {
   "cell_type": "code",
   "execution_count": 5,
   "id": "ad1053a5-d782-4cb7-9bf4-afa2d9a04741",
   "metadata": {
    "tags": []
   },
   "outputs": [
    {
     "data": {
      "text/plain": [
       "[(1, 'Copper', 7.51),\n",
       " (2, 'Aluminum', 2.58),\n",
       " (3, 'Silver', 15),\n",
       " (4, 'Steel', 12.31),\n",
       " (5, 'Bronze', 4),\n",
       " (6, 'Duralumin', 7.6),\n",
       " (7, 'Solder', 14.16),\n",
       " (8, 'Stellite', 13.31),\n",
       " (9, 'Brass', 4.75)]"
      ]
     },
     "execution_count": 5,
     "metadata": {},
     "output_type": "execute_result"
    }
   ],
   "source": [
    "# This example retrieves all entires from the PRODUCT table\n",
    "cursor.execute(\"SELECT * FROM PRODUCT\")\n",
    "\n",
    "results = cursor.fetchall()\n",
    "\n",
    "results"
   ]
  },
  {
   "cell_type": "code",
   "execution_count": 6,
   "id": "83a60fbf-be50-43ad-8749-709e7297a63d",
   "metadata": {},
   "outputs": [
    {
     "name": "stdout",
     "output_type": "stream",
     "text": [
      "(3, 'Silver', 15)\n"
     ]
    }
   ],
   "source": [
    "# Using the placeholder '?' to query with variable names\n",
    "product_id = 3\n",
    "cursor.execute(\"SELECT * FROM product WHERE product_id = ?\", (product_id,))\n",
    "print(cursor.fetchone()) # fetchone gives us a single row"
   ]
  },
  {
   "cell_type": "code",
   "execution_count": 7,
   "id": "34ed79e3-1ef1-4312-bb27-24ed647cf2e7",
   "metadata": {
    "tags": []
   },
   "outputs": [
    {
     "name": "stdout",
     "output_type": "stream",
     "text": [
      "(4, 'Steel', 12.31)\n",
      "(8, 'Stellite', 13.31)\n"
     ]
    }
   ],
   "source": [
    "# Define your query with placeholders\n",
    "query = \"SELECT * FROM product WHERE price BETWEEN ? AND ? AND description LIKE ?\"\n",
    "\n",
    "# Parameters for the placeholders\n",
    "min_price = 10\n",
    "max_price = 14\n",
    "description_pattern = '%S%'\n",
    "\n",
    "# Execute the query with the parameters\n",
    "cursor.execute(query, (min_price, max_price, description_pattern))\n",
    "\n",
    "# Fetch and print the results\n",
    "results = cursor.fetchall()\n",
    "for result in results:\n",
    "    print(result)"
   ]
  },
  {
   "cell_type": "code",
   "execution_count": 8,
   "id": "72338d15-6868-479e-80c4-02f080e0d999",
   "metadata": {
    "tags": []
   },
   "outputs": [],
   "source": [
    "import pandas as pd"
   ]
  },
  {
   "cell_type": "code",
   "execution_count": 9,
   "id": "c903f8e9-bb87-4b47-866e-84cf5e9c9f39",
   "metadata": {
    "tags": []
   },
   "outputs": [
    {
     "name": "stdout",
     "output_type": "stream",
     "text": [
      "   PRODUCT_ID DESCRIPTION  PRICE\n",
      "0           1      Copper   7.51\n",
      "1           2    Aluminum   2.58\n",
      "2           3      Silver  15.00\n",
      "3           4       Steel  12.31\n",
      "4           5      Bronze   4.00\n"
     ]
    }
   ],
   "source": [
    "# Querying data and loading directly into a DataFrame\n",
    "df = pd.read_sql_query(\"SELECT * FROM product\", connection)\n",
    "print(df.head())"
   ]
  },
  {
   "cell_type": "code",
   "execution_count": 10,
   "id": "40e06944-fc7f-4300-9f75-cf67af531257",
   "metadata": {},
   "outputs": [
    {
     "name": "stdout",
     "output_type": "stream",
     "text": [
      "                     NAME  total_price\n",
      "0         LITE Industrial      3379.50\n",
      "1   Re-Barre Construction      1548.00\n",
      "2   Re-Barre Construction      1200.00\n",
      "3  Marsh Lane Metal Works      4616.25\n",
      "4   Re-Barre Construction      1290.00\n"
     ]
    }
   ],
   "source": [
    "# Make the query a (multi-line) string\n",
    "query = \"\"\"\n",
    "SELECT c.name, co.order_qty * p.price AS total_price\n",
    "FROM customer_order co\n",
    "JOIN customer c ON co.customer_id = c.customer_id\n",
    "JOIN product p ON co.product_id = p.product_id;\n",
    "\"\"\"\n",
    "df = pd.read_sql_query(query, connection)\n",
    "print(df)"
   ]
  },
  {
   "cell_type": "code",
   "execution_count": 12,
   "id": "e1c2c524-7bf8-41aa-86e2-41e4fedd4334",
   "metadata": {
    "tags": []
   },
   "outputs": [
    {
     "data": {
      "text/html": [
       "<div>\n",
       "<style scoped>\n",
       "    .dataframe tbody tr th:only-of-type {\n",
       "        vertical-align: middle;\n",
       "    }\n",
       "\n",
       "    .dataframe tbody tr th {\n",
       "        vertical-align: top;\n",
       "    }\n",
       "\n",
       "    .dataframe thead th {\n",
       "        text-align: right;\n",
       "    }\n",
       "</style>\n",
       "<table border=\"1\" class=\"dataframe\">\n",
       "  <thead>\n",
       "    <tr style=\"text-align: right;\">\n",
       "      <th></th>\n",
       "      <th>NAME</th>\n",
       "      <th>total_price</th>\n",
       "    </tr>\n",
       "  </thead>\n",
       "  <tbody>\n",
       "    <tr>\n",
       "      <th>3</th>\n",
       "      <td>Marsh Lane Metal Works</td>\n",
       "      <td>4616.25</td>\n",
       "    </tr>\n",
       "    <tr>\n",
       "      <th>0</th>\n",
       "      <td>LITE Industrial</td>\n",
       "      <td>3379.50</td>\n",
       "    </tr>\n",
       "    <tr>\n",
       "      <th>1</th>\n",
       "      <td>Re-Barre Construction</td>\n",
       "      <td>1548.00</td>\n",
       "    </tr>\n",
       "    <tr>\n",
       "      <th>4</th>\n",
       "      <td>Re-Barre Construction</td>\n",
       "      <td>1290.00</td>\n",
       "    </tr>\n",
       "    <tr>\n",
       "      <th>2</th>\n",
       "      <td>Re-Barre Construction</td>\n",
       "      <td>1200.00</td>\n",
       "    </tr>\n",
       "  </tbody>\n",
       "</table>\n",
       "</div>"
      ],
      "text/plain": [
       "                     NAME  total_price\n",
       "3  Marsh Lane Metal Works      4616.25\n",
       "0         LITE Industrial      3379.50\n",
       "1   Re-Barre Construction      1548.00\n",
       "4   Re-Barre Construction      1290.00\n",
       "2   Re-Barre Construction      1200.00"
      ]
     },
     "execution_count": 12,
     "metadata": {},
     "output_type": "execute_result"
    }
   ],
   "source": [
    "df.sort_values(by = 'total_price', ascending = False)"
   ]
  },
  {
   "cell_type": "code",
   "execution_count": 13,
   "id": "30639211-d1bd-437f-bcc7-f25ae56780d3",
   "metadata": {
    "tags": []
   },
   "outputs": [],
   "source": [
    "# important cleanup steps\n",
    "cursor.close()\n",
    "connection.close()"
   ]
  },
  {
   "cell_type": "markdown",
   "id": "b78cf076-3fec-46a0-b379-e192d69db425",
   "metadata": {},
   "source": [
    "---"
   ]
  },
  {
   "cell_type": "markdown",
   "id": "a93d4651-35eb-4907-9051-0cf04f58a0ac",
   "metadata": {},
   "source": [
    "## Exercise"
   ]
  },
  {
   "cell_type": "code",
   "execution_count": 14,
   "id": "0fffe171-0804-4e48-8d4b-b9013b2bea2f",
   "metadata": {
    "tags": []
   },
   "outputs": [],
   "source": [
    "# establish connection to the weather stations database\n",
    "w_connection = sqlite3.connect(\"data/weather_stations.db\")"
   ]
  },
  {
   "cell_type": "code",
   "execution_count": 16,
   "id": "b488017f-33bd-416d-b9ad-0fd6bf829e45",
   "metadata": {
    "tags": []
   },
   "outputs": [],
   "source": [
    "# Create a cursor object using the connection\n",
    "w_cursor = w_connection.cursor()"
   ]
  },
  {
   "cell_type": "code",
   "execution_count": 20,
   "id": "516e39a5-3f16-4b88-bec1-aaa7a2f90966",
   "metadata": {
    "tags": []
   },
   "outputs": [
    {
     "data": {
      "text/html": [
       "<div>\n",
       "<style scoped>\n",
       "    .dataframe tbody tr th:only-of-type {\n",
       "        vertical-align: middle;\n",
       "    }\n",
       "\n",
       "    .dataframe tbody tr th {\n",
       "        vertical-align: top;\n",
       "    }\n",
       "\n",
       "    .dataframe thead th {\n",
       "        text-align: right;\n",
       "    }\n",
       "</style>\n",
       "<table border=\"1\" class=\"dataframe\">\n",
       "  <thead>\n",
       "    <tr style=\"text-align: right;\">\n",
       "      <th></th>\n",
       "      <th>station_number</th>\n",
       "      <th>report_code</th>\n",
       "      <th>year</th>\n",
       "      <th>month</th>\n",
       "      <th>day</th>\n",
       "      <th>dew_point</th>\n",
       "      <th>station_pressure</th>\n",
       "      <th>visibility</th>\n",
       "      <th>wind_speed</th>\n",
       "      <th>temperature</th>\n",
       "      <th>precipitation</th>\n",
       "      <th>snow_depth</th>\n",
       "      <th>fog</th>\n",
       "      <th>rain</th>\n",
       "      <th>hail</th>\n",
       "      <th>thunder</th>\n",
       "      <th>tornado</th>\n",
       "    </tr>\n",
       "  </thead>\n",
       "  <tbody>\n",
       "    <tr>\n",
       "      <th>0</th>\n",
       "      <td>143080</td>\n",
       "      <td>34DDA7</td>\n",
       "      <td>2002</td>\n",
       "      <td>12</td>\n",
       "      <td>21</td>\n",
       "      <td>33.8</td>\n",
       "      <td>987.4</td>\n",
       "      <td>3.4</td>\n",
       "      <td>0.2</td>\n",
       "      <td>36.0</td>\n",
       "      <td>0.00</td>\n",
       "      <td>NaN</td>\n",
       "      <td>1</td>\n",
       "      <td>1</td>\n",
       "      <td>1</td>\n",
       "      <td>1</td>\n",
       "      <td>1</td>\n",
       "    </tr>\n",
       "    <tr>\n",
       "      <th>1</th>\n",
       "      <td>766440</td>\n",
       "      <td>39537B</td>\n",
       "      <td>1998</td>\n",
       "      <td>10</td>\n",
       "      <td>1</td>\n",
       "      <td>72.7</td>\n",
       "      <td>1014.6</td>\n",
       "      <td>5.9</td>\n",
       "      <td>6.7</td>\n",
       "      <td>83.3</td>\n",
       "      <td>0.00</td>\n",
       "      <td>NaN</td>\n",
       "      <td>0</td>\n",
       "      <td>0</td>\n",
       "      <td>0</td>\n",
       "      <td>0</td>\n",
       "      <td>0</td>\n",
       "    </tr>\n",
       "    <tr>\n",
       "      <th>2</th>\n",
       "      <td>176010</td>\n",
       "      <td>C3C6D5</td>\n",
       "      <td>2001</td>\n",
       "      <td>5</td>\n",
       "      <td>18</td>\n",
       "      <td>55.7</td>\n",
       "      <td>NaN</td>\n",
       "      <td>7.3</td>\n",
       "      <td>4.3</td>\n",
       "      <td>69.1</td>\n",
       "      <td>0.00</td>\n",
       "      <td>NaN</td>\n",
       "      <td>0</td>\n",
       "      <td>0</td>\n",
       "      <td>0</td>\n",
       "      <td>0</td>\n",
       "      <td>0</td>\n",
       "    </tr>\n",
       "    <tr>\n",
       "      <th>3</th>\n",
       "      <td>125600</td>\n",
       "      <td>145150</td>\n",
       "      <td>2007</td>\n",
       "      <td>10</td>\n",
       "      <td>14</td>\n",
       "      <td>33.0</td>\n",
       "      <td>NaN</td>\n",
       "      <td>6.9</td>\n",
       "      <td>2.5</td>\n",
       "      <td>39.7</td>\n",
       "      <td>0.00</td>\n",
       "      <td>NaN</td>\n",
       "      <td>0</td>\n",
       "      <td>0</td>\n",
       "      <td>0</td>\n",
       "      <td>0</td>\n",
       "      <td>0</td>\n",
       "    </tr>\n",
       "    <tr>\n",
       "      <th>4</th>\n",
       "      <td>470160</td>\n",
       "      <td>EF616A</td>\n",
       "      <td>1967</td>\n",
       "      <td>7</td>\n",
       "      <td>29</td>\n",
       "      <td>65.6</td>\n",
       "      <td>NaN</td>\n",
       "      <td>9.2</td>\n",
       "      <td>1.2</td>\n",
       "      <td>72.4</td>\n",
       "      <td>0.04</td>\n",
       "      <td>NaN</td>\n",
       "      <td>0</td>\n",
       "      <td>0</td>\n",
       "      <td>0</td>\n",
       "      <td>0</td>\n",
       "      <td>0</td>\n",
       "    </tr>\n",
       "  </tbody>\n",
       "</table>\n",
       "</div>"
      ],
      "text/plain": [
       "   station_number report_code  year  month  day  dew_point  station_pressure  \\\n",
       "0          143080      34DDA7  2002     12   21       33.8             987.4   \n",
       "1          766440      39537B  1998     10    1       72.7            1014.6   \n",
       "2          176010      C3C6D5  2001      5   18       55.7               NaN   \n",
       "3          125600      145150  2007     10   14       33.0               NaN   \n",
       "4          470160      EF616A  1967      7   29       65.6               NaN   \n",
       "\n",
       "   visibility  wind_speed  temperature  precipitation  snow_depth  fog  rain  \\\n",
       "0         3.4         0.2         36.0           0.00         NaN    1     1   \n",
       "1         5.9         6.7         83.3           0.00         NaN    0     0   \n",
       "2         7.3         4.3         69.1           0.00         NaN    0     0   \n",
       "3         6.9         2.5         39.7           0.00         NaN    0     0   \n",
       "4         9.2         1.2         72.4           0.04         NaN    0     0   \n",
       "\n",
       "   hail  thunder  tornado  \n",
       "0     1        1        1  \n",
       "1     0        0        0  \n",
       "2     0        0        0  \n",
       "3     0        0        0  \n",
       "4     0        0        0  "
      ]
     },
     "execution_count": 20,
     "metadata": {},
     "output_type": "execute_result"
    }
   ],
   "source": [
    "# Querying data and loading directly into a DataFrame\n",
    "ws = pd.read_sql_query(\"SELECT * FROM station_data\", w_connection)\n",
    "ws.head()"
   ]
  },
  {
   "cell_type": "code",
   "execution_count": 34,
   "id": "9929ef2d-aaca-4516-96db-555d3bed75c0",
   "metadata": {
    "tags": []
   },
   "outputs": [
    {
     "data": {
      "image/png": "[encoded data removed]",
      "text/plain": [
       "<Figure size 640x480 with 1 Axes>"
      ]
     },
     "metadata": {},
     "output_type": "display_data"
    }
   ],
   "source": [
    "import matplotlib.pyplot as plt\n",
    "\n",
    "x = ws['temperature']\n",
    "y = ws['precipitation']\n",
    "\n",
    "plt.scatter(x,y);\n",
    "plt.ylabel(\"Precipitation\")\n",
    "plt.xlabel(\"Temperature\")\n",
    "plt.title(\"Temperature vs. Precipitation\");"
   ]
  }
 ],
 "metadata": {
  "kernelspec": {
   "display_name": "Python 3 (ipykernel)",
   "language": "python",
   "name": "python3"
  },
  "language_info": {
   "codemirror_mode": {
    "name": "ipython",
    "version": 3
   },
   "file_extension": ".py",
   "mimetype": "text/x-python",
   "name": "python",
   "nbconvert_exporter": "python",
   "pygments_lexer": "ipython3",
   "version": "3.11.5"
  }
 },
 "nbformat": 4,
 "nbformat_minor": 5
}
