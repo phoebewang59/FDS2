{
 "cells": [
  {
   "cell_type": "markdown",
   "id": "81d19d16",
   "metadata": {},
   "source": [
    "   # Ifs, loops, and function homework"
   ]
  },
  {
   "cell_type": "markdown",
   "id": "bd745db6",
   "metadata": {},
   "source": [
    "## 1. A function to reverse a string \n",
    "\n",
    "Write and test a function that reverses a string entered by a user. This function will have one input value (a string) and one output value (also a string).\n",
    "\n",
    "Test your function on, among other things, Napoleon's quote 'able was i ere i saw elba'"
   ]
  },
  {
   "cell_type": "code",
   "execution_count": 10,
   "id": "551a9bcb",
   "metadata": {
    "tags": []
   },
   "outputs": [],
   "source": [
    "def rev_str(user_str):\n",
    "    store_str = []                       # empty list to store new reversed string\n",
    "    join_str = ''                        # empty string to join the elements into one string\n",
    "    for i in reversed(user_str):   \n",
    "        store_str.append(i)              # append elements to empty list\n",
    "    store_str = join_str.join(store_str) # join the elements into one string\n",
    "    return store_str"
   ]
  },
  {
   "cell_type": "code",
   "execution_count": 11,
   "id": "7395a257-f0c9-465d-a1c3-e1c3785107b7",
   "metadata": {
    "tags": []
   },
   "outputs": [
    {
     "data": {
      "text/plain": [
       "'able was i ere i saw elba'"
      ]
     },
     "execution_count": 11,
     "metadata": {},
     "output_type": "execute_result"
    }
   ],
   "source": [
    "rev_str('able was i ere i saw elba')"
   ]
  },
  {
   "cell_type": "markdown",
   "id": "72bc6f2e",
   "metadata": {},
   "source": [
    "*Optional challenge*: run the above on \"race car\" and then fix the resulting string."
   ]
  },
  {
   "cell_type": "markdown",
   "id": "f351711e",
   "metadata": {},
   "source": [
    "## 2. Determine if a number is prime\n",
    "\n",
    "Write some code to test whether a number is prime or not, a prime number being an integer that is evenly divisible only by 1 and itself. \n",
    "\n",
    "Hint: another way to think about a prime number is that, if the smallest number (other than 1) that divides evenly into a number *is* that number, than the number is a prime.\n",
    "\n",
    "The easiest solution involves one `while` loop and one `if` test."
   ]
  },
  {
   "cell_type": "code",
   "execution_count": 9,
   "id": "4bef5c5c",
   "metadata": {
    "tags": []
   },
   "outputs": [
    {
     "name": "stdin",
     "output_type": "stream",
     "text": [
      "Enter a number to check if it is a prime number or not: 5\n"
     ]
    },
    {
     "name": "stdout",
     "output_type": "stream",
     "text": [
      "5 is a prime number!\n"
     ]
    }
   ],
   "source": [
    "num = int(input(\"Enter a number to check if it is a prime number or not:\"))\n",
    "\n",
    "\n",
    "if num <= 1:\n",
    "    print(f\"{num} is not a prime number.\")\n",
    "elif num == 2:\n",
    "    print(f\"{num} is a prime number!\")\n",
    "else:\n",
    "    for i in range(2, num):\n",
    "        if num % i == 0:\n",
    "            print(f\"{num} is not a prime number.\")\n",
    "            break\n",
    "        else:\n",
    "            print(f\"{num} is a prime number!\")\n",
    "            break"
   ]
  },
  {
   "cell_type": "markdown",
   "id": "97515edc",
   "metadata": {},
   "source": [
    "## 3. Find the first 10 primes\n",
    "\n",
    "Extend your code above to find the first 10 prime numbers. This will involve wrapping your existing code in another \"outer\" loop.\n"
   ]
  },
  {
   "cell_type": "code",
   "execution_count": 64,
   "id": "f518030e",
   "metadata": {},
   "outputs": [
    {
     "name": "stdout",
     "output_type": "stream",
     "text": [
      "[2, 3, 5, 7, 11, 13, 17, 19, 23, 29]\n"
     ]
    }
   ],
   "source": [
    "num = 0\n",
    "num_of_primes = 0\n",
    "primes = []\n",
    "\n",
    "while num_of_primes < 10:\n",
    "    if num <= 1:\n",
    "        num += 1\n",
    "    elif num == 2:\n",
    "        primes.append(num)\n",
    "        num += 1\n",
    "        num_of_primes += 1\n",
    "    else:\n",
    "        for i in range(2, num):\n",
    "            if num % i == 0:        \n",
    "                break\n",
    "        else:\n",
    "            primes.append(num)      \n",
    "            num_of_primes += 1\n",
    "        num += 1\n",
    "    \n",
    "print(primes)"
   ]
  },
  {
   "cell_type": "markdown",
   "id": "13c2c9d2",
   "metadata": {},
   "source": [
    "## 4. Make a function to compute the first n primes\n",
    "\n",
    "Functionalize (is that a word?) your above code. A user should be able to call your code with one integer argument and get a list back containing that number of primes. Make sure your function handles inputs of an incorrect type gracefully. You should also warn the user if they enter a really big number (which could take a long time...), and give them the option of either bailing or entering a different number."
   ]
  },
  {
   "cell_type": "code",
   "execution_count": 59,
   "id": "b9387bd2-63b3-49e3-b4c6-b457ae7d4392",
   "metadata": {
    "tags": []
   },
   "outputs": [],
   "source": [
    "def first_n_primes(some_num):\n",
    "    n_too_large = 100  # too large of a number to compute n primes\n",
    "    \n",
    "    # warnings to user\n",
    "    \n",
    "    if some_num > n_too_large:\n",
    "        warning = input(\"Warning: Computing a large number of primes may take a long time. Do you want to continue? (y/n):\")\n",
    "        \n",
    "        while (warning =='n') or (some_num > n_too_large):    # keeps asking user for a new number if it's still too large\n",
    "            \n",
    "            if (warning == 'y') or (some_num <= n_too_large): # user wants to continue anyways\n",
    "                break\n",
    "        \n",
    "            elif warning == 'n':                              \n",
    "                some_num = int(input(\"Enter a new number: \"))\n",
    "                \n",
    "                if some_num >= n_too_large:                   # warns user again if number is still too large\n",
    "                    warning = input(\"This number may still be too large. Do you want to continue? (y/n):\")\n",
    "            \n",
    "            else:                                             # checks that users enter 'y' or 'n'\n",
    "                warning = input(\"Invalid input. Please enter 'y' or 'n'.\")\n",
    "    \n",
    "    \n",
    "    # compute the first n primes \n",
    "    \n",
    "    num = 0                            # counts numbers to goes through all the numbers to check for prime numbers\n",
    "    num_of_primes = 0                  # records how many prime numbers are in the list\n",
    "    primes = []                        # stores the prime numbers\n",
    "\n",
    "    while num_of_primes < some_num:    # runs while the number of primes in the list are less than the n primes user wants\n",
    "        if num <= 1:\n",
    "            num += 1\n",
    "        elif num == 2:\n",
    "            primes.append(num)\n",
    "            num += 1\n",
    "            num_of_primes += 1\n",
    "        else:\n",
    "            for i in range(2, num):\n",
    "                if num % i == 0:        # not prime number\n",
    "                    break\n",
    "            else:                       # is prime number. else is out of the if statement to not be affected by the break\n",
    "                primes.append(num)      \n",
    "                num_of_primes += 1\n",
    "            num += 1\n",
    "    return primes"
   ]
  },
  {
   "cell_type": "code",
   "execution_count": 60,
   "id": "138eaf8d-0c88-4d17-8d65-94c3155bcbe2",
   "metadata": {
    "tags": []
   },
   "outputs": [
    {
     "data": {
      "text/plain": [
       "[2, 3, 5, 7, 11, 13, 17, 19, 23, 29, 31]"
      ]
     },
     "execution_count": 60,
     "metadata": {},
     "output_type": "execute_result"
    }
   ],
   "source": [
    "first_n_primes(11)"
   ]
  },
  {
   "cell_type": "code",
   "execution_count": 62,
   "id": "4aaf44d9-48e1-47fa-a71f-b9b916e03821",
   "metadata": {
    "tags": []
   },
   "outputs": [
    {
     "name": "stdin",
     "output_type": "stream",
     "text": [
      "Warning: Computing a large number of primes may take a long time. Do you want to continue? (y/n): n\n",
      "Enter a new number:  110\n",
      "This number may still be too large. Do you want to continue? (y/n): n\n",
      "Enter a new number:  20\n"
     ]
    },
    {
     "data": {
      "text/plain": [
       "[2, 3, 5, 7, 11, 13, 17, 19, 23, 29, 31, 37, 41, 43, 47, 53, 59, 61, 67, 71]"
      ]
     },
     "execution_count": 62,
     "metadata": {},
     "output_type": "execute_result"
    }
   ],
   "source": [
    "first_n_primes(120)"
   ]
  }
 ],
 "metadata": {
  "kernelspec": {
   "display_name": "Python 3 (ipykernel)",
   "language": "python",
   "name": "python3"
  },
  "language_info": {
   "codemirror_mode": {
    "name": "ipython",
    "version": 3
   },
   "file_extension": ".py",
   "mimetype": "text/x-python",
   "name": "python",
   "nbconvert_exporter": "python",
   "pygments_lexer": "ipython3",
   "version": "3.11.5"
  }
 },
 "nbformat": 4,
 "nbformat_minor": 5
}
