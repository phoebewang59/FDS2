{
 "cells": [
  {
   "cell_type": "markdown",
   "id": "1f1534b9",
   "metadata": {},
   "source": [
    "# Numpy review homework"
   ]
  },
  {
   "cell_type": "code",
   "execution_count": 58,
   "id": "63163f46-3300-4ccb-820b-0962033b258a",
   "metadata": {
    "tags": []
   },
   "outputs": [],
   "source": [
    "import numpy as np"
   ]
  },
  {
   "cell_type": "markdown",
   "id": "4db19bcf",
   "metadata": {},
   "source": [
    "### 1. Make a numpy matrix from a Python list of lists..."
   ]
  },
  {
   "cell_type": "code",
   "execution_count": 59,
   "id": "6b140a06",
   "metadata": {
    "tags": []
   },
   "outputs": [
    {
     "data": {
      "text/plain": [
       "array([[ 2,  4,  6],\n",
       "       [ 8, 10, 12],\n",
       "       [14, 16, 18]])"
      ]
     },
     "execution_count": 59,
     "metadata": {},
     "output_type": "execute_result"
    }
   ],
   "source": [
    "# python list with nested list\n",
    "python_list = [[2, 4, 6], [8, 10, 12], [14, 16, 18]]\n",
    "\n",
    "# python list to numpy array\n",
    "py_to_np = np.array(python_list)\n",
    "py_to_np"
   ]
  },
  {
   "cell_type": "markdown",
   "id": "dd6e8ffb",
   "metadata": {},
   "source": [
    "### 2. Make a 3D numpy matrix from a Python list of lists of lists!"
   ]
  },
  {
   "cell_type": "code",
   "execution_count": 60,
   "id": "c977766b",
   "metadata": {
    "tags": []
   },
   "outputs": [
    {
     "data": {
      "text/plain": [
       "array([[[ 1,  2],\n",
       "        [ 3,  4],\n",
       "        [ 5,  6]],\n",
       "\n",
       "       [[ 7,  8],\n",
       "        [ 9, 10],\n",
       "        [11, 12]]])"
      ]
     },
     "execution_count": 60,
     "metadata": {},
     "output_type": "execute_result"
    }
   ],
   "source": [
    "new_list = [[[1, 2], [3, 4], [5, 6]], [[7, 8], [9, 10], [11, 12]]]\n",
    "\n",
    "array_3D = np.array(new_list)\n",
    "array_3D"
   ]
  },
  {
   "cell_type": "markdown",
   "id": "8ad64691",
   "metadata": {},
   "source": [
    "### 3. Create a 5x3 array of Gaussian random numbers. "
   ]
  },
  {
   "cell_type": "code",
   "execution_count": 63,
   "id": "5f280edc",
   "metadata": {
    "tags": []
   },
   "outputs": [
    {
     "data": {
      "text/plain": [
       "array([[ 2.75601012,  0.8067011 ,  0.51408022],\n",
       "       [-2.59083947, -2.30813194,  0.52096573],\n",
       "       [ 0.65137241,  0.10573102,  0.51720422],\n",
       "       [ 0.44135834, -0.07414974,  0.96706359],\n",
       "       [-0.71996156, -0.71319706,  0.06748372]])"
      ]
     },
     "execution_count": 63,
     "metadata": {},
     "output_type": "execute_result"
    }
   ],
   "source": [
    "n_rows = 5\n",
    "n_columns = 3\n",
    "\n",
    "rand_array = np.random.randn(n_rows, n_columns)\n",
    "rand_array"
   ]
  },
  {
   "cell_type": "markdown",
   "id": "d129639e",
   "metadata": {},
   "source": [
    "### 4. Write a script to go through the array created in 3. and announce (print) the value and its row and column indexes.\n",
    "\n",
    "Hint: Use nested `for` loops - one to loop through the rows and one to loop through the columns."
   ]
  },
  {
   "cell_type": "code",
   "execution_count": 72,
   "id": "10e1c6e3-5ea2-44ec-87bd-8c8372ac75c2",
   "metadata": {
    "tags": []
   },
   "outputs": [
    {
     "name": "stdout",
     "output_type": "stream",
     "text": [
      "Value: 2.76, row index: 0, column index: 0.\n",
      "Value: 0.81, row index: 0, column index: 1.\n",
      "Value: 0.51, row index: 0, column index: 2.\n",
      "Value: -2.59, row index: 1, column index: 0.\n",
      "Value: -2.31, row index: 1, column index: 1.\n",
      "Value: 0.52, row index: 1, column index: 2.\n",
      "Value: 0.65, row index: 2, column index: 0.\n",
      "Value: 0.11, row index: 2, column index: 1.\n",
      "Value: 0.52, row index: 2, column index: 2.\n",
      "Value: 0.44, row index: 3, column index: 0.\n",
      "Value: -0.07, row index: 3, column index: 1.\n",
      "Value: 0.97, row index: 3, column index: 2.\n",
      "Value: -0.72, row index: 4, column index: 0.\n",
      "Value: -0.71, row index: 4, column index: 1.\n",
      "Value: 0.07, row index: 4, column index: 2.\n"
     ]
    }
   ],
   "source": [
    "for i in range(n_rows):\n",
    "    for j in range(n_columns):\n",
    "        value = rand_array[i][j]\n",
    "        row_index = i\n",
    "        column_index = j\n",
    "        print(f\"Value: {value:.2f}, row index: {row_index}, column index: {column_index}.\")"
   ]
  },
  {
   "cell_type": "markdown",
   "id": "2f6c8094",
   "metadata": {},
   "source": [
    "### 5. Make an new array out of your random numbers such that the mean is 10 and the standard deviation is 3."
   ]
  },
  {
   "cell_type": "code",
   "execution_count": 74,
   "id": "b8cfc374",
   "metadata": {
    "tags": []
   },
   "outputs": [
    {
     "data": {
      "text/plain": [
       "array([[18.26803036, 12.42010329, 11.54224065],\n",
       "       [ 2.22748159,  3.07560419, 11.5628972 ],\n",
       "       [11.95411723, 10.31719307, 11.55161267],\n",
       "       [11.32407502,  9.77755079, 12.90119076],\n",
       "       [ 7.84011531,  7.86040881, 10.20245116]])"
      ]
     },
     "execution_count": 74,
     "metadata": {},
     "output_type": "execute_result"
    }
   ],
   "source": [
    "mean = 10\n",
    "sd = 3\n",
    "\n",
    "new_rand_array = (rand_array * sd) + mean\n",
    "new_rand_array"
   ]
  },
  {
   "cell_type": "markdown",
   "id": "431e4556",
   "metadata": {},
   "source": [
    "### 6. Count the number of values in your new array that are below 7."
   ]
  },
  {
   "cell_type": "code",
   "execution_count": 77,
   "id": "80cb12c5",
   "metadata": {
    "tags": []
   },
   "outputs": [
    {
     "name": "stdout",
     "output_type": "stream",
     "text": [
      "There are 2 values in the array that are below 7.\n"
     ]
    }
   ],
   "source": [
    "count = new_rand_array < 7\n",
    "\n",
    "# count.sum() counts the number of True values\n",
    "\n",
    "print(f\"There are {count.sum()} values in the array that are below 7.\")"
   ]
  },
  {
   "cell_type": "markdown",
   "id": "f7191a90",
   "metadata": {},
   "source": [
    "### 7. Make a numpy sequence that has the even numbers from 2 up to (and including) 20."
   ]
  },
  {
   "cell_type": "code",
   "execution_count": 78,
   "id": "23277d0c",
   "metadata": {
    "tags": []
   },
   "outputs": [
    {
     "data": {
      "text/plain": [
       "array([ 2,  4,  6,  8, 10, 12, 14, 16, 18, 20])"
      ]
     },
     "execution_count": 78,
     "metadata": {},
     "output_type": "execute_result"
    }
   ],
   "source": [
    "even_array = np.arange(2, 21, 2)\n",
    "even_array"
   ]
  },
  {
   "cell_type": "markdown",
   "id": "40bd499e",
   "metadata": {},
   "source": [
    "### 8. Get the second and third rows of your array created in #5."
   ]
  },
  {
   "cell_type": "code",
   "execution_count": 79,
   "id": "1abb0c7b",
   "metadata": {
    "tags": []
   },
   "outputs": [
    {
     "data": {
      "text/plain": [
       "array([[ 2.22748159,  3.07560419, 11.5628972 ],\n",
       "       [11.95411723, 10.31719307, 11.55161267]])"
      ]
     },
     "execution_count": 79,
     "metadata": {},
     "output_type": "execute_result"
    }
   ],
   "source": [
    "new_rand_array[1:3, :]"
   ]
  },
  {
   "cell_type": "markdown",
   "id": "1c3779c3",
   "metadata": {},
   "source": [
    "### 9. Compute the mean of the columns of your array created in #5."
   ]
  },
  {
   "cell_type": "code",
   "execution_count": 80,
   "id": "4e166283",
   "metadata": {
    "tags": []
   },
   "outputs": [
    {
     "data": {
      "text/plain": [
       "array([10.3227639 ,  8.69017203, 11.55207849])"
      ]
     },
     "execution_count": 80,
     "metadata": {},
     "output_type": "execute_result"
    }
   ],
   "source": [
    "new_rand_array.mean(0) # mean(0) is means of columns"
   ]
  }
 ],
 "metadata": {
  "kernelspec": {
   "display_name": "Python 3 (ipykernel)",
   "language": "python",
   "name": "python3"
  },
  "language_info": {
   "codemirror_mode": {
    "name": "ipython",
    "version": 3
   },
   "file_extension": ".py",
   "mimetype": "text/x-python",
   "name": "python",
   "nbconvert_exporter": "python",
   "pygments_lexer": "ipython3",
   "version": "3.11.5"
  }
 },
 "nbformat": 4,
 "nbformat_minor": 5
}
