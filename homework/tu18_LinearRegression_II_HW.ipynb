{
 "cells": [
  {
   "cell_type": "markdown",
   "id": "72f10106",
   "metadata": {},
   "source": [
    "# Linear Regression II: Homework"
   ]
  },
  {
   "cell_type": "markdown",
   "id": "80682d15",
   "metadata": {},
   "source": [
    "### Question 1:\n",
    "\n",
    "* Load the California Housing Dataset\n",
    "* Find the feature with highest correlation with the Median House Value\n",
    "* Predict the Median House Value with the highest correlated feature\n",
    "* How does the prediction of the this model (in terms of $R^2$) compare with the prediction of the model used in the exercise in class that used all the features instead of just the most correlated feature?"
   ]
  },
  {
   "cell_type": "code",
   "execution_count": 1,
   "id": "459e8d43-c388-477b-97f6-c731e842ddca",
   "metadata": {
    "tags": []
   },
   "outputs": [],
   "source": [
    "import pandas as pd\n",
    "import seaborn as sns\n",
    "import numpy as np\n",
    "import matplotlib.pyplot as plt\n",
    "from sklearn.linear_model import LinearRegression\n",
    "from sklearn.metrics import mean_absolute_error,mean_squared_error, r2_score\n",
    "\n",
    "from sklearn.datasets import fetch_california_housing\n",
    "california_housing = fetch_california_housing()"
   ]
  },
  {
   "cell_type": "code",
   "execution_count": 2,
   "id": "161092f0-a43b-424f-b175-f97640a0824c",
   "metadata": {
    "tags": []
   },
   "outputs": [
    {
     "data": {
      "text/plain": [
       "MedInc                0.688075\n",
       "HouseAge              0.105623\n",
       "AveRooms              0.151948\n",
       "AveBedrms            -0.046701\n",
       "Population           -0.024650\n",
       "AveOccup             -0.023737\n",
       "Latitude             -0.144160\n",
       "Longitude            -0.045967\n",
       "Median House Value    1.000000\n",
       "Name: Median House Value, dtype: float64"
      ]
     },
     "execution_count": 2,
     "metadata": {},
     "output_type": "execute_result"
    }
   ],
   "source": [
    "california = pd.DataFrame(california_housing.data, columns=california_housing.feature_names)\n",
    "california['Median House Value'] = california_housing.target\n",
    "\n",
    "corr = california.corr()['Median House Value']\n",
    "corr"
   ]
  },
  {
   "cell_type": "code",
   "execution_count": 3,
   "id": "81153eb1-1fe0-41ce-b121-3715c34c2b53",
   "metadata": {
    "tags": []
   },
   "outputs": [
    {
     "name": "stdout",
     "output_type": "stream",
     "text": [
      "MedInc has the highest correlation with median housing value of 0.69.\n"
     ]
    }
   ],
   "source": [
    "MedInc_corr = corr[0]\n",
    "\n",
    "print(f\"MedInc has the highest correlation with median housing value of {MedInc_corr:.2f}.\")"
   ]
  },
  {
   "cell_type": "code",
   "execution_count": 4,
   "id": "c15dc45f-e072-4299-b925-890bb80d976d",
   "metadata": {
    "tags": []
   },
   "outputs": [
    {
     "name": "stdout",
     "output_type": "stream",
     "text": [
      "(20640, 1) (20640,)\n"
     ]
    }
   ],
   "source": [
    "# predict\n",
    "\n",
    "# get dependent and independent variables from the data set\n",
    "X = california[\"MedInc\"] #MedInc\n",
    "y = california[\"Median House Value\"]\n",
    "\n",
    "X = X.values.reshape(-1, 1)\n",
    "print(X.shape, y.shape)"
   ]
  },
  {
   "cell_type": "code",
   "execution_count": 5,
   "id": "d80e8fa0-d504-4519-a12f-9a7b9a4beff5",
   "metadata": {
    "tags": []
   },
   "outputs": [],
   "source": [
    "# Training the linear regression model\n",
    "model = LinearRegression()\n",
    "model.fit(X, y)\n",
    "\n",
    "y_pred = model.predict(X)"
   ]
  },
  {
   "cell_type": "code",
   "execution_count": 6,
   "id": "dcc19e9f-3bf1-4309-afd6-91f8ab4217bb",
   "metadata": {
    "tags": []
   },
   "outputs": [],
   "source": [
    "y_data_array = np.array(y).reshape(-1, 1) \n",
    "y_pred_array = np.array(y_pred).reshape(-1, 1)"
   ]
  },
  {
   "cell_type": "code",
   "execution_count": 45,
   "id": "c1308e69-ce61-42bd-ae77-1caa7ece77a8",
   "metadata": {
    "tags": []
   },
   "outputs": [
    {
     "name": "stdout",
     "output_type": "stream",
     "text": [
      "The Coefficient of Determination (R²) is 0.47.\n"
     ]
    }
   ],
   "source": [
    "r2 = r2_score(y_true = y_data_array, y_pred = y_pred_array)\n",
    "\n",
    "print(f\"The Coefficient of Determination (R²) is {r2:.2f}.\")"
   ]
  },
  {
   "cell_type": "markdown",
   "id": "6526865d-4a02-480b-87ba-70d787b0632f",
   "metadata": {},
   "source": [
    "**This model's prediction is less accurate than the model used in the exercise because it has a $R^2$ that is less than the $R^2$ of the model in the exercise. The model from the exercise used all of the features, allowing for a more accurate prediction than using only one feature, regardless of whether it is the most correlated feature.**"
   ]
  },
  {
   "cell_type": "markdown",
   "id": "f6976ad0",
   "metadata": {},
   "source": [
    "### Question 2:\n",
    "\n",
    "* Load the California Housing Dataset\n",
    "* Find the feature with lowest correlation with the Median House Value\n",
    "* Predict the Median House Value with all the features *except* the one with lowest correlation\n",
    "* How does the prediction of the this model (in terms of $R^2$) compare with the prediction of the full model model used in the exercise in class?"
   ]
  },
  {
   "cell_type": "code",
   "execution_count": 8,
   "id": "a6c61cf9-1588-421a-b34a-b2fa2145e7f8",
   "metadata": {
    "tags": []
   },
   "outputs": [
    {
     "name": "stdout",
     "output_type": "stream",
     "text": [
      "Latitude has the lowest correlation with median housing value of -0.05.\n"
     ]
    }
   ],
   "source": [
    "# find the feature with lowest correlation with median housing value\n",
    "latitude_corr = corr.iloc[-2]\n",
    "\n",
    "print(f\"Latitude has the lowest correlation with median housing value of {latitude_corr:.2f}.\")"
   ]
  },
  {
   "cell_type": "code",
   "execution_count": 39,
   "id": "fe883fa6-2856-4958-813f-7a644996d6c6",
   "metadata": {
    "tags": []
   },
   "outputs": [
    {
     "name": "stdout",
     "output_type": "stream",
     "text": [
      "(20640, 8) (20640,)\n"
     ]
    }
   ],
   "source": [
    "X1 = california.drop(\"Latitude\", axis = 1)\n",
    "y1 = california.drop(\"Latitude\", axis = 1)[\"Median House Value\"]\n",
    "\n",
    "print(X1.shape, y1.shape)"
   ]
  },
  {
   "cell_type": "code",
   "execution_count": 46,
   "id": "98d2a3f7-1d8e-4ef5-9f92-e6aa40ae1322",
   "metadata": {
    "tags": []
   },
   "outputs": [
    {
     "name": "stdout",
     "output_type": "stream",
     "text": [
      "The Coefficient of Determination (R²) is 0.47.\n"
     ]
    }
   ],
   "source": [
    "# Create and fit the Linear Regression model\n",
    "model = LinearRegression()\n",
    "model.fit(X1, y1)\n",
    "\n",
    "# Predict Median House Value using all features except \"Latitude\"\n",
    "y_pred1 = model.predict(X1)\n",
    "\n",
    "y_data_array1 = np.array(y1).reshape(-1, 1) \n",
    "y_pred_array1 = np.array(y_pred1).reshape(-1, 1)\n",
    "\n",
    "r2_lat = r2_score(y_true = y_data_array, y_pred = y_pred_array)\n",
    "\n",
    "print(f\"The Coefficient of Determination (R²) is {r2_lat:.2f}.\")"
   ]
  },
  {
   "cell_type": "markdown",
   "id": "dadd1b35-757c-4cdd-bc35-9e38c8a05f8c",
   "metadata": {},
   "source": [
    "**This model's prediction, in terms of $R^2$, is less accurate than the full model used in the class exercise. This indicates that the model makes better predictions with more features, even if the feature is the least correlated with the target.**"
   ]
  }
 ],
 "metadata": {
  "kernelspec": {
   "display_name": "Python 3 (ipykernel)",
   "language": "python",
   "name": "python3"
  },
  "language_info": {
   "codemirror_mode": {
    "name": "ipython",
    "version": 3
   },
   "file_extension": ".py",
   "mimetype": "text/x-python",
   "name": "python",
   "nbconvert_exporter": "python",
   "pygments_lexer": "ipython3",
   "version": "3.11.5"
  }
 },
 "nbformat": 4,
 "nbformat_minor": 5
}
