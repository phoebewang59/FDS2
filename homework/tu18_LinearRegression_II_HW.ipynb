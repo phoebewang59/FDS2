{
 "cells": [
  {
   "cell_type": "markdown",
   "id": "72f10106",
   "metadata": {},
   "source": [
    "# Linear Regression II: Homework"
   ]
  },
  {
   "cell_type": "markdown",
   "id": "80682d15",
   "metadata": {},
   "source": [
    "### Question 1:\n",
    "\n",
    "* Load the California Housing Dataset\n",
    "* Find the feature with highest correlation with the Median House Value\n",
    "* Predict the Median House Value with the highest correlated feature\n",
    "* How does the prediction of the this model (in terms of $R^2$) compare with the prediction of the model used in the exercise in class that used all the features instead of just the most correlated feature?"
   ]
  },
  {
   "cell_type": "code",
   "execution_count": 79,
   "id": "459e8d43-c388-477b-97f6-c731e842ddca",
   "metadata": {
    "tags": []
   },
   "outputs": [],
   "source": [
    "import pandas as pd\n",
    "import seaborn as sns\n",
    "import numpy as np\n",
    "import matplotlib.pyplot as plt\n",
    "from sklearn.linear_model import LinearRegression\n",
    "from sklearn.metrics import mean_absolute_error,mean_squared_error, r2_score\n",
    "\n",
    "from sklearn.datasets import fetch_california_housing\n",
    "california_housing = fetch_california_housing()"
   ]
  },
  {
   "cell_type": "code",
   "execution_count": 44,
   "id": "3704961d-7e81-4c8d-985b-334daaf77f7c",
   "metadata": {
    "tags": []
   },
   "outputs": [
    {
     "data": {
      "text/html": [
       "<div>\n",
       "<style scoped>\n",
       "    .dataframe tbody tr th:only-of-type {\n",
       "        vertical-align: middle;\n",
       "    }\n",
       "\n",
       "    .dataframe tbody tr th {\n",
       "        vertical-align: top;\n",
       "    }\n",
       "\n",
       "    .dataframe thead th {\n",
       "        text-align: right;\n",
       "    }\n",
       "</style>\n",
       "<table border=\"1\" class=\"dataframe\">\n",
       "  <thead>\n",
       "    <tr style=\"text-align: right;\">\n",
       "      <th></th>\n",
       "      <th>MedInc</th>\n",
       "      <th>HouseAge</th>\n",
       "      <th>AveRooms</th>\n",
       "      <th>AveBedrms</th>\n",
       "      <th>Population</th>\n",
       "      <th>AveOccup</th>\n",
       "      <th>Latitude</th>\n",
       "      <th>Longitude</th>\n",
       "      <th>Median House Value</th>\n",
       "    </tr>\n",
       "  </thead>\n",
       "  <tbody>\n",
       "    <tr>\n",
       "      <th>0</th>\n",
       "      <td>8.3252</td>\n",
       "      <td>41.0</td>\n",
       "      <td>6.984127</td>\n",
       "      <td>1.023810</td>\n",
       "      <td>322.0</td>\n",
       "      <td>2.555556</td>\n",
       "      <td>37.88</td>\n",
       "      <td>-122.23</td>\n",
       "      <td>4.526</td>\n",
       "    </tr>\n",
       "    <tr>\n",
       "      <th>1</th>\n",
       "      <td>8.3014</td>\n",
       "      <td>21.0</td>\n",
       "      <td>6.238137</td>\n",
       "      <td>0.971880</td>\n",
       "      <td>2401.0</td>\n",
       "      <td>2.109842</td>\n",
       "      <td>37.86</td>\n",
       "      <td>-122.22</td>\n",
       "      <td>3.585</td>\n",
       "    </tr>\n",
       "    <tr>\n",
       "      <th>2</th>\n",
       "      <td>7.2574</td>\n",
       "      <td>52.0</td>\n",
       "      <td>8.288136</td>\n",
       "      <td>1.073446</td>\n",
       "      <td>496.0</td>\n",
       "      <td>2.802260</td>\n",
       "      <td>37.85</td>\n",
       "      <td>-122.24</td>\n",
       "      <td>3.521</td>\n",
       "    </tr>\n",
       "    <tr>\n",
       "      <th>3</th>\n",
       "      <td>5.6431</td>\n",
       "      <td>52.0</td>\n",
       "      <td>5.817352</td>\n",
       "      <td>1.073059</td>\n",
       "      <td>558.0</td>\n",
       "      <td>2.547945</td>\n",
       "      <td>37.85</td>\n",
       "      <td>-122.25</td>\n",
       "      <td>3.413</td>\n",
       "    </tr>\n",
       "    <tr>\n",
       "      <th>4</th>\n",
       "      <td>3.8462</td>\n",
       "      <td>52.0</td>\n",
       "      <td>6.281853</td>\n",
       "      <td>1.081081</td>\n",
       "      <td>565.0</td>\n",
       "      <td>2.181467</td>\n",
       "      <td>37.85</td>\n",
       "      <td>-122.25</td>\n",
       "      <td>3.422</td>\n",
       "    </tr>\n",
       "  </tbody>\n",
       "</table>\n",
       "</div>"
      ],
      "text/plain": [
       "   MedInc  HouseAge  AveRooms  AveBedrms  Population  AveOccup  Latitude  \\\n",
       "0  8.3252      41.0  6.984127   1.023810       322.0  2.555556     37.88   \n",
       "1  8.3014      21.0  6.238137   0.971880      2401.0  2.109842     37.86   \n",
       "2  7.2574      52.0  8.288136   1.073446       496.0  2.802260     37.85   \n",
       "3  5.6431      52.0  5.817352   1.073059       558.0  2.547945     37.85   \n",
       "4  3.8462      52.0  6.281853   1.081081       565.0  2.181467     37.85   \n",
       "\n",
       "   Longitude  Median House Value  \n",
       "0    -122.23               4.526  \n",
       "1    -122.22               3.585  \n",
       "2    -122.24               3.521  \n",
       "3    -122.25               3.413  \n",
       "4    -122.25               3.422  "
      ]
     },
     "execution_count": 44,
     "metadata": {},
     "output_type": "execute_result"
    }
   ],
   "source": [
    "# dataframe for features\n",
    "california_features = pd.DataFrame(california_housing.data, columns=california_housing.feature_names)\n",
    "california_features.head()\n",
    "\n",
    "# dataframe for target\n",
    "california_target = pd.DataFrame(california_housing.target, columns=['Median House Value'])\n",
    "\n",
    "# combine the dataframes\n",
    "california = pd.concat([california_features, california_target], axis=1)\n",
    "\n",
    "california.head()"
   ]
  },
  {
   "cell_type": "code",
   "execution_count": 94,
   "id": "1853105e-2fa0-4265-acab-dad943d4a96a",
   "metadata": {
    "tags": []
   },
   "outputs": [
    {
     "name": "stdout",
     "output_type": "stream",
     "text": [
      "MedInc has the highest correlation with median housing value of 0.69.\n"
     ]
    }
   ],
   "source": [
    "# find the feature with highest correlation with median housing value\n",
    "\n",
    "corr = california.corr()['Median House Value'].sort_values(ascending = False)\n",
    "\n",
    "MedInc_corr = corr[1]\n",
    "\n",
    "print(f\"MedInc has the highest correlation with median housing value of {MedInc_corr:.2f}.\")"
   ]
  },
  {
   "cell_type": "code",
   "execution_count": 83,
   "id": "c15dc45f-e072-4299-b925-890bb80d976d",
   "metadata": {
    "tags": []
   },
   "outputs": [
    {
     "name": "stdout",
     "output_type": "stream",
     "text": [
      "(20640, 1) (20640,)\n"
     ]
    }
   ],
   "source": [
    "# predict\n",
    "\n",
    "# get dependent and independent variables from the data set\n",
    "X = california[\"MedInc\"] #MedInc\n",
    "y = california[\"Median House Value\"]\n",
    "\n",
    "X = X.values.reshape(-1, 1)\n",
    "print(X.shape, y.shape)"
   ]
  },
  {
   "cell_type": "code",
   "execution_count": 84,
   "id": "d80e8fa0-d504-4519-a12f-9a7b9a4beff5",
   "metadata": {
    "tags": []
   },
   "outputs": [],
   "source": [
    "# Training the linear regression model\n",
    "model = LinearRegression()\n",
    "model.fit(X, y)\n",
    "\n",
    "y_pred = model.predict(X)"
   ]
  },
  {
   "cell_type": "code",
   "execution_count": 85,
   "id": "d9ae8ae5-95c6-47f8-bd07-ef046a209346",
   "metadata": {
    "tags": []
   },
   "outputs": [
    {
     "data": {
      "text/plain": [
       "array([3.9302773 , 3.92033036, 3.48400258, ..., 1.1613512 , 1.23123052,\n",
       "       1.44914365])"
      ]
     },
     "execution_count": 85,
     "metadata": {},
     "output_type": "execute_result"
    }
   ],
   "source": [
    "y_pred"
   ]
  },
  {
   "cell_type": "code",
   "execution_count": 86,
   "id": "dcc19e9f-3bf1-4309-afd6-91f8ab4217bb",
   "metadata": {
    "tags": []
   },
   "outputs": [],
   "source": [
    "y_data_array = np.array(y).reshape(-1, 1) \n",
    "y_pred_array = np.array(y_pred).reshape(-1, 1)"
   ]
  },
  {
   "cell_type": "code",
   "execution_count": 87,
   "id": "c1308e69-ce61-42bd-ae77-1caa7ece77a8",
   "metadata": {
    "tags": []
   },
   "outputs": [
    {
     "name": "stdout",
     "output_type": "stream",
     "text": [
      "The Coefficient of Determination (R²) is 0.47344749180719903.\n"
     ]
    }
   ],
   "source": [
    "r2 = r2_score(y_true = y_data_array, y_pred = y_pred_array)\n",
    "\n",
    "print(f\"The Coefficient of Determination (R²) is {r2}.\")"
   ]
  },
  {
   "cell_type": "markdown",
   "id": "6526865d-4a02-480b-87ba-70d787b0632f",
   "metadata": {},
   "source": [
    "The prediction of this model in terms of R2 should've been closer to 1 than the R2 for using all the features, but this produced a smaller R2. I'm not sure what I did wrong. "
   ]
  },
  {
   "cell_type": "markdown",
   "id": "f6976ad0",
   "metadata": {},
   "source": [
    "### Question 2:\n",
    "\n",
    "* Load the California Housing Dataset\n",
    "* Find the feature with lowest correlation with the Median House Value\n",
    "* Predict the Median House Value with all the features *except* the one with lowest correlation\n",
    "* How does the prediction of the this model (in terms of $R^2$) compare with the prediction of the full model model used in the exercise in class?"
   ]
  },
  {
   "cell_type": "code",
   "execution_count": 96,
   "id": "a6c61cf9-1588-421a-b34a-b2fa2145e7f8",
   "metadata": {
    "tags": []
   },
   "outputs": [
    {
     "name": "stdout",
     "output_type": "stream",
     "text": [
      "Latitude             -0.144160\n",
      "AveBedrms            -0.046701\n",
      "Longitude            -0.045967\n",
      "Population           -0.024650\n",
      "AveOccup             -0.023737\n",
      "HouseAge              0.105623\n",
      "AveRooms              0.151948\n",
      "MedInc                0.688075\n",
      "Median House Value    1.000000\n",
      "Name: Median House Value, dtype: float64\n",
      "Latitude has the lowest correlation with median housing value of -0.14.\n"
     ]
    }
   ],
   "source": [
    "# find the feature with lowest correlation with median housing value\n",
    "\n",
    "corr_rev = california.corr()['Median House Value'].sort_values(ascending = True)\n",
    "\n",
    "latitude_corr = corr_rev[0]\n",
    "\n",
    "print(corr_rev)\n",
    "print(f\"Latitude has the lowest correlation with median housing value of {latitude_corr:.2f}.\")"
   ]
  },
  {
   "cell_type": "code",
   "execution_count": 103,
   "id": "fe883fa6-2856-4958-813f-7a644996d6c6",
   "metadata": {
    "tags": []
   },
   "outputs": [
    {
     "name": "stdout",
     "output_type": "stream",
     "text": [
      "(165120, 1) (20640,)\n"
     ]
    },
    {
     "data": {
      "text/plain": [
       "0        4.526\n",
       "1        3.585\n",
       "2        3.521\n",
       "3        3.413\n",
       "4        3.422\n",
       "         ...  \n",
       "20635    0.781\n",
       "20636    0.771\n",
       "20637    0.923\n",
       "20638    0.847\n",
       "20639    0.894\n",
       "Name: Median House Value, Length: 20640, dtype: float64"
      ]
     },
     "execution_count": 103,
     "metadata": {},
     "output_type": "execute_result"
    }
   ],
   "source": [
    "X1 = california.drop(\"Latitude\", axis = 1)\n",
    "y1 = california[\"Median House Value\"]\n",
    "\n",
    "X1 = X1.values.reshape(-1, 1)\n",
    "print(X1.shape, y1.shape)\n",
    "\n",
    "y1"
   ]
  },
  {
   "cell_type": "code",
   "execution_count": 109,
   "id": "98d2a3f7-1d8e-4ef5-9f92-e6aa40ae1322",
   "metadata": {
    "tags": []
   },
   "outputs": [
    {
     "name": "stdout",
     "output_type": "stream",
     "text": [
      "Predicted Median House Value using all features except Latitude: [4.526 3.585 3.521 ... 0.923 0.847 0.894]\n",
      "The Coefficient of Determination (R²) is 0.47344749180719903.\n"
     ]
    }
   ],
   "source": [
    "import pandas as pd\n",
    "from sklearn.linear_model import LinearRegression\n",
    "\n",
    "# Assuming california is your DataFrame containing the California Housing dataset\n",
    "# Drop the \"Latitude\" column from features and assign it to X\n",
    "X1 = california.drop(\"Latitude\", axis=1)\n",
    "\n",
    "# Assign the target variable \"Median House Value\" to y\n",
    "y1 = california[\"Median House Value\"]\n",
    "\n",
    "\n",
    "# Create and fit the Linear Regression model\n",
    "model = LinearRegression()\n",
    "model.fit(X1, y1)\n",
    "\n",
    "# Predict Median House Value using all features except \"Latitude\"\n",
    "y_pred1 = model.predict(X1)\n",
    "\n",
    "# Print the predictions\n",
    "print(\"Predicted Median House Value using all features except Latitude:\", y_pred1)\n",
    "\n",
    "y_data_array1 = np.array(y1).reshape(-1, 1) \n",
    "y_pred_array1 = np.array(y_pred1).reshape(-1, 1)\n",
    "\n",
    "r2_lat = r2_score(y_true = y_data_array, y_pred = y_pred_array)\n",
    "\n",
    "print(f\"The Coefficient of Determination (R²) is {r2_lat}.\")"
   ]
  },
  {
   "cell_type": "code",
   "execution_count": null,
   "id": "fa0d18ff-62aa-42df-a161-357937815911",
   "metadata": {},
   "outputs": [],
   "source": []
  }
 ],
 "metadata": {
  "kernelspec": {
   "display_name": "Python 3 (ipykernel)",
   "language": "python",
   "name": "python3"
  },
  "language_info": {
   "codemirror_mode": {
    "name": "ipython",
    "version": 3
   },
   "file_extension": ".py",
   "mimetype": "text/x-python",
   "name": "python",
   "nbconvert_exporter": "python",
   "pygments_lexer": "ipython3",
   "version": "3.11.5"
  }
 },
 "nbformat": 4,
 "nbformat_minor": 5
}
