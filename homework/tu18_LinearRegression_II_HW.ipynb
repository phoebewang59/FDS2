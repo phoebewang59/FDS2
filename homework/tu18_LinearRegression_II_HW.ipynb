{
 "cells": [
  {
   "cell_type": "markdown",
   "id": "72f10106",
   "metadata": {},
   "source": [
    "# Linear Regression II: Homework"
   ]
  },
  {
   "cell_type": "markdown",
   "id": "80682d15",
   "metadata": {},
   "source": [
    "### Question 1:\n",
    "\n",
    "* Load the California Housing Dataset\n",
    "* Find the feature with highest correlation with the Median House Value\n",
    "* Predict the Median House Value with the highest correlated feature\n",
    "* How does the prediction of the this model (in terms of $R^2$) compare with the prediction of the model used in the exercise in class that used all the features instead of just the most correlated feature?"
   ]
  },
  {
   "cell_type": "code",
   "execution_count": 3,
   "id": "459e8d43-c388-477b-97f6-c731e842ddca",
   "metadata": {
    "tags": []
   },
   "outputs": [],
   "source": [
    "import pandas as pd\n",
    "import seaborn as sns\n",
    "import numpy as np\n",
    "import matplotlib.pyplot as plt\n",
    "from sklearn.linear_model import LinearRegression\n",
    "from sklearn.metrics import mean_absolute_error,mean_squared_error, r2_score\n",
    "\n",
    "from sklearn.datasets import fetch_california_housing\n",
    "california_housing = fetch_california_housing()"
   ]
  },
  {
   "cell_type": "code",
   "execution_count": 28,
   "id": "161092f0-a43b-424f-b175-f97640a0824c",
   "metadata": {
    "tags": []
   },
   "outputs": [
    {
     "data": {
      "text/plain": [
       "MedInc                0.688075\n",
       "HouseAge              0.105623\n",
       "AveRooms              0.151948\n",
       "AveBedrms            -0.046701\n",
       "Population           -0.024650\n",
       "AveOccup             -0.023737\n",
       "Latitude             -0.144160\n",
       "Longitude            -0.045967\n",
       "Median House Value    1.000000\n",
       "Name: Median House Value, dtype: float64"
      ]
     },
     "execution_count": 28,
     "metadata": {},
     "output_type": "execute_result"
    }
   ],
   "source": [
    "california = pd.DataFrame(california_housing.data, columns=california_housing.feature_names)\n",
    "california['Median House Value'] = california_housing.target\n",
    "\n",
    "corr = california.corr()['Median House Value']\n",
    "corr"
   ]
  },
  {
   "cell_type": "code",
   "execution_count": 27,
   "id": "81153eb1-1fe0-41ce-b121-3715c34c2b53",
   "metadata": {
    "tags": []
   },
   "outputs": [
    {
     "name": "stdout",
     "output_type": "stream",
     "text": [
      "MedInc has the highest correlation with median housing value of 0.69.\n"
     ]
    }
   ],
   "source": [
    "MedInc_corr = corr[0]\n",
    "\n",
    "print(f\"MedInc has the highest correlation with median housing value of {MedInc_corr:.2f}.\")"
   ]
  },
  {
   "cell_type": "code",
   "execution_count": 16,
   "id": "c15dc45f-e072-4299-b925-890bb80d976d",
   "metadata": {
    "tags": []
   },
   "outputs": [
    {
     "name": "stdout",
     "output_type": "stream",
     "text": [
      "(20640, 1) (20640,)\n"
     ]
    }
   ],
   "source": [
    "# predict\n",
    "\n",
    "# get dependent and independent variables from the data set\n",
    "X = california[\"MedInc\"] #MedInc\n",
    "y = california[\"Median House Value\"]\n",
    "\n",
    "X = X.values.reshape(-1, 1)\n",
    "print(X.shape, y.shape)"
   ]
  },
  {
   "cell_type": "code",
   "execution_count": 17,
   "id": "d80e8fa0-d504-4519-a12f-9a7b9a4beff5",
   "metadata": {
    "tags": []
   },
   "outputs": [],
   "source": [
    "# Training the linear regression model\n",
    "model = LinearRegression()\n",
    "model.fit(X, y)\n",
    "\n",
    "y_pred = model.predict(X)"
   ]
  },
  {
   "cell_type": "code",
   "execution_count": 18,
   "id": "d9ae8ae5-95c6-47f8-bd07-ef046a209346",
   "metadata": {
    "tags": []
   },
   "outputs": [
    {
     "data": {
      "text/plain": [
       "array([3.9302773 , 3.92033036, 3.48400258, ..., 1.1613512 , 1.23123052,\n",
       "       1.44914365])"
      ]
     },
     "execution_count": 18,
     "metadata": {},
     "output_type": "execute_result"
    }
   ],
   "source": [
    "y_pred"
   ]
  },
  {
   "cell_type": "code",
   "execution_count": 19,
   "id": "dcc19e9f-3bf1-4309-afd6-91f8ab4217bb",
   "metadata": {
    "tags": []
   },
   "outputs": [],
   "source": [
    "y_data_array = np.array(y).reshape(-1, 1) \n",
    "y_pred_array = np.array(y_pred).reshape(-1, 1)"
   ]
  },
  {
   "cell_type": "code",
   "execution_count": 20,
   "id": "c1308e69-ce61-42bd-ae77-1caa7ece77a8",
   "metadata": {
    "tags": []
   },
   "outputs": [
    {
     "name": "stdout",
     "output_type": "stream",
     "text": [
      "The Coefficient of Determination (R²) is 0.47344749180719903.\n"
     ]
    }
   ],
   "source": [
    "r2 = r2_score(y_true = y_data_array, y_pred = y_pred_array)\n",
    "\n",
    "print(f\"The Coefficient of Determination (R²) is {r2}.\")"
   ]
  },
  {
   "cell_type": "markdown",
   "id": "6526865d-4a02-480b-87ba-70d787b0632f",
   "metadata": {},
   "source": [
    "The prediction of this model in terms of R2 should've been closer to 1 than the R2 for using all the features, but this produced a smaller R2. I'm not sure what I did wrong. "
   ]
  },
  {
   "cell_type": "markdown",
   "id": "f6976ad0",
   "metadata": {},
   "source": [
    "### Question 2:\n",
    "\n",
    "* Load the California Housing Dataset\n",
    "* Find the feature with lowest correlation with the Median House Value\n",
    "* Predict the Median House Value with all the features *except* the one with lowest correlation\n",
    "* How does the prediction of the this model (in terms of $R^2$) compare with the prediction of the full model model used in the exercise in class?"
   ]
  },
  {
   "cell_type": "code",
   "execution_count": 33,
   "id": "a6c61cf9-1588-421a-b34a-b2fa2145e7f8",
   "metadata": {
    "tags": []
   },
   "outputs": [
    {
     "name": "stdout",
     "output_type": "stream",
     "text": [
      "Latitude has the lowest correlation with median housing value of -0.05.\n"
     ]
    }
   ],
   "source": [
    "# find the feature with lowest correlation with median housing value\n",
    "latitude_corr = corr.iloc[-2]\n",
    "\n",
    "print(f\"Latitude has the lowest correlation with median housing value of {latitude_corr:.2f}.\")"
   ]
  },
  {
   "cell_type": "code",
   "execution_count": 43,
   "id": "fe883fa6-2856-4958-813f-7a644996d6c6",
   "metadata": {
    "tags": []
   },
   "outputs": [
    {
     "name": "stdout",
     "output_type": "stream",
     "text": [
      "(165120, 1) (20640,)\n"
     ]
    }
   ],
   "source": [
    "X1 = california.drop(\"Latitude\", axis = 1)\n",
    "y1 = california.drop(\"Latitude\", axis = 1)[\"Median House Value\"]\n",
    "\n",
    "X1 = X1.values.reshape(-1, 1)\n",
    "print(X1.shape, y1.shape)"
   ]
  },
  {
   "cell_type": "code",
   "execution_count": 44,
   "id": "98d2a3f7-1d8e-4ef5-9f92-e6aa40ae1322",
   "metadata": {
    "tags": []
   },
   "outputs": [
    {
     "ename": "ValueError",
     "evalue": "Found input variables with inconsistent numbers of samples: [165120, 20640]",
     "output_type": "error",
     "traceback": [
      "\u001b[0;31m---------------------------------------------------------------------------\u001b[0m",
      "\u001b[0;31mValueError\u001b[0m                                Traceback (most recent call last)",
      "Cell \u001b[0;32mIn[44], line 3\u001b[0m\n\u001b[1;32m      1\u001b[0m \u001b[38;5;66;03m# Create and fit the Linear Regression model\u001b[39;00m\n\u001b[1;32m      2\u001b[0m model \u001b[38;5;241m=\u001b[39m LinearRegression()\n\u001b[0;32m----> 3\u001b[0m model\u001b[38;5;241m.\u001b[39mfit(X1, y1)\n\u001b[1;32m      5\u001b[0m \u001b[38;5;66;03m# Predict Median House Value using all features except \"Latitude\"\u001b[39;00m\n\u001b[1;32m      6\u001b[0m y_pred1 \u001b[38;5;241m=\u001b[39m model\u001b[38;5;241m.\u001b[39mpredict(X1)\n",
      "File \u001b[0;32m~/anaconda3/lib/python3.11/site-packages/sklearn/base.py:1151\u001b[0m, in \u001b[0;36m_fit_context.<locals>.decorator.<locals>.wrapper\u001b[0;34m(estimator, *args, **kwargs)\u001b[0m\n\u001b[1;32m   1144\u001b[0m     estimator\u001b[38;5;241m.\u001b[39m_validate_params()\n\u001b[1;32m   1146\u001b[0m \u001b[38;5;28;01mwith\u001b[39;00m config_context(\n\u001b[1;32m   1147\u001b[0m     skip_parameter_validation\u001b[38;5;241m=\u001b[39m(\n\u001b[1;32m   1148\u001b[0m         prefer_skip_nested_validation \u001b[38;5;129;01mor\u001b[39;00m global_skip_validation\n\u001b[1;32m   1149\u001b[0m     )\n\u001b[1;32m   1150\u001b[0m ):\n\u001b[0;32m-> 1151\u001b[0m     \u001b[38;5;28;01mreturn\u001b[39;00m fit_method(estimator, \u001b[38;5;241m*\u001b[39margs, \u001b[38;5;241m*\u001b[39m\u001b[38;5;241m*\u001b[39mkwargs)\n",
      "File \u001b[0;32m~/anaconda3/lib/python3.11/site-packages/sklearn/linear_model/_base.py:678\u001b[0m, in \u001b[0;36mLinearRegression.fit\u001b[0;34m(self, X, y, sample_weight)\u001b[0m\n\u001b[1;32m    674\u001b[0m n_jobs_ \u001b[38;5;241m=\u001b[39m \u001b[38;5;28mself\u001b[39m\u001b[38;5;241m.\u001b[39mn_jobs\n\u001b[1;32m    676\u001b[0m accept_sparse \u001b[38;5;241m=\u001b[39m \u001b[38;5;28;01mFalse\u001b[39;00m \u001b[38;5;28;01mif\u001b[39;00m \u001b[38;5;28mself\u001b[39m\u001b[38;5;241m.\u001b[39mpositive \u001b[38;5;28;01melse\u001b[39;00m [\u001b[38;5;124m\"\u001b[39m\u001b[38;5;124mcsr\u001b[39m\u001b[38;5;124m\"\u001b[39m, \u001b[38;5;124m\"\u001b[39m\u001b[38;5;124mcsc\u001b[39m\u001b[38;5;124m\"\u001b[39m, \u001b[38;5;124m\"\u001b[39m\u001b[38;5;124mcoo\u001b[39m\u001b[38;5;124m\"\u001b[39m]\n\u001b[0;32m--> 678\u001b[0m X, y \u001b[38;5;241m=\u001b[39m \u001b[38;5;28mself\u001b[39m\u001b[38;5;241m.\u001b[39m_validate_data(\n\u001b[1;32m    679\u001b[0m     X, y, accept_sparse\u001b[38;5;241m=\u001b[39maccept_sparse, y_numeric\u001b[38;5;241m=\u001b[39m\u001b[38;5;28;01mTrue\u001b[39;00m, multi_output\u001b[38;5;241m=\u001b[39m\u001b[38;5;28;01mTrue\u001b[39;00m\n\u001b[1;32m    680\u001b[0m )\n\u001b[1;32m    682\u001b[0m has_sw \u001b[38;5;241m=\u001b[39m sample_weight \u001b[38;5;129;01mis\u001b[39;00m \u001b[38;5;129;01mnot\u001b[39;00m \u001b[38;5;28;01mNone\u001b[39;00m\n\u001b[1;32m    683\u001b[0m \u001b[38;5;28;01mif\u001b[39;00m has_sw:\n",
      "File \u001b[0;32m~/anaconda3/lib/python3.11/site-packages/sklearn/base.py:621\u001b[0m, in \u001b[0;36mBaseEstimator._validate_data\u001b[0;34m(self, X, y, reset, validate_separately, cast_to_ndarray, **check_params)\u001b[0m\n\u001b[1;32m    619\u001b[0m         y \u001b[38;5;241m=\u001b[39m check_array(y, input_name\u001b[38;5;241m=\u001b[39m\u001b[38;5;124m\"\u001b[39m\u001b[38;5;124my\u001b[39m\u001b[38;5;124m\"\u001b[39m, \u001b[38;5;241m*\u001b[39m\u001b[38;5;241m*\u001b[39mcheck_y_params)\n\u001b[1;32m    620\u001b[0m     \u001b[38;5;28;01melse\u001b[39;00m:\n\u001b[0;32m--> 621\u001b[0m         X, y \u001b[38;5;241m=\u001b[39m check_X_y(X, y, \u001b[38;5;241m*\u001b[39m\u001b[38;5;241m*\u001b[39mcheck_params)\n\u001b[1;32m    622\u001b[0m     out \u001b[38;5;241m=\u001b[39m X, y\n\u001b[1;32m    624\u001b[0m \u001b[38;5;28;01mif\u001b[39;00m \u001b[38;5;129;01mnot\u001b[39;00m no_val_X \u001b[38;5;129;01mand\u001b[39;00m check_params\u001b[38;5;241m.\u001b[39mget(\u001b[38;5;124m\"\u001b[39m\u001b[38;5;124mensure_2d\u001b[39m\u001b[38;5;124m\"\u001b[39m, \u001b[38;5;28;01mTrue\u001b[39;00m):\n",
      "File \u001b[0;32m~/anaconda3/lib/python3.11/site-packages/sklearn/utils/validation.py:1165\u001b[0m, in \u001b[0;36mcheck_X_y\u001b[0;34m(X, y, accept_sparse, accept_large_sparse, dtype, order, copy, force_all_finite, ensure_2d, allow_nd, multi_output, ensure_min_samples, ensure_min_features, y_numeric, estimator)\u001b[0m\n\u001b[1;32m   1147\u001b[0m X \u001b[38;5;241m=\u001b[39m check_array(\n\u001b[1;32m   1148\u001b[0m     X,\n\u001b[1;32m   1149\u001b[0m     accept_sparse\u001b[38;5;241m=\u001b[39maccept_sparse,\n\u001b[0;32m   (...)\u001b[0m\n\u001b[1;32m   1160\u001b[0m     input_name\u001b[38;5;241m=\u001b[39m\u001b[38;5;124m\"\u001b[39m\u001b[38;5;124mX\u001b[39m\u001b[38;5;124m\"\u001b[39m,\n\u001b[1;32m   1161\u001b[0m )\n\u001b[1;32m   1163\u001b[0m y \u001b[38;5;241m=\u001b[39m _check_y(y, multi_output\u001b[38;5;241m=\u001b[39mmulti_output, y_numeric\u001b[38;5;241m=\u001b[39my_numeric, estimator\u001b[38;5;241m=\u001b[39mestimator)\n\u001b[0;32m-> 1165\u001b[0m check_consistent_length(X, y)\n\u001b[1;32m   1167\u001b[0m \u001b[38;5;28;01mreturn\u001b[39;00m X, y\n",
      "File \u001b[0;32m~/anaconda3/lib/python3.11/site-packages/sklearn/utils/validation.py:409\u001b[0m, in \u001b[0;36mcheck_consistent_length\u001b[0;34m(*arrays)\u001b[0m\n\u001b[1;32m    407\u001b[0m uniques \u001b[38;5;241m=\u001b[39m np\u001b[38;5;241m.\u001b[39munique(lengths)\n\u001b[1;32m    408\u001b[0m \u001b[38;5;28;01mif\u001b[39;00m \u001b[38;5;28mlen\u001b[39m(uniques) \u001b[38;5;241m>\u001b[39m \u001b[38;5;241m1\u001b[39m:\n\u001b[0;32m--> 409\u001b[0m     \u001b[38;5;28;01mraise\u001b[39;00m \u001b[38;5;167;01mValueError\u001b[39;00m(\n\u001b[1;32m    410\u001b[0m         \u001b[38;5;124m\"\u001b[39m\u001b[38;5;124mFound input variables with inconsistent numbers of samples: \u001b[39m\u001b[38;5;132;01m%r\u001b[39;00m\u001b[38;5;124m\"\u001b[39m\n\u001b[1;32m    411\u001b[0m         \u001b[38;5;241m%\u001b[39m [\u001b[38;5;28mint\u001b[39m(l) \u001b[38;5;28;01mfor\u001b[39;00m l \u001b[38;5;129;01min\u001b[39;00m lengths]\n\u001b[1;32m    412\u001b[0m     )\n",
      "\u001b[0;31mValueError\u001b[0m: Found input variables with inconsistent numbers of samples: [165120, 20640]"
     ]
    }
   ],
   "source": [
    "# Create and fit the Linear Regression model\n",
    "model = LinearRegression()\n",
    "model.fit(X1, y1)\n",
    "\n",
    "# Predict Median House Value using all features except \"Latitude\"\n",
    "y_pred1 = model.predict(X1)\n",
    "\n",
    "# Print the predictions\n",
    "print(\"Predicted Median House Value using all features except Latitude:\", y_pred1)\n",
    "\n",
    "y_data_array1 = np.array(y1).reshape(-1, 1) \n",
    "y_pred_array1 = np.array(y_pred1).reshape(-1, 1)\n",
    "\n",
    "r2_lat = r2_score(y_true = y_data_array, y_pred = y_pred_array)\n",
    "\n",
    "print(f\"The Coefficient of Determination (R²) is {r2_lat}.\")"
   ]
  },
  {
   "cell_type": "code",
   "execution_count": null,
   "id": "fa0d18ff-62aa-42df-a161-357937815911",
   "metadata": {},
   "outputs": [],
   "source": []
  }
 ],
 "metadata": {
  "kernelspec": {
   "display_name": "Python 3 (ipykernel)",
   "language": "python",
   "name": "python3"
  },
  "language_info": {
   "codemirror_mode": {
    "name": "ipython",
    "version": 3
   },
   "file_extension": ".py",
   "mimetype": "text/x-python",
   "name": "python",
   "nbconvert_exporter": "python",
   "pygments_lexer": "ipython3",
   "version": "3.11.5"
  }
 },
 "nbformat": 4,
 "nbformat_minor": 5
}
