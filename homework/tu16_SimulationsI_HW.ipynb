{
 "cells": [
  {
   "cell_type": "markdown",
   "id": "1e738885-ca06-452d-8d0b-5e2721e22c7a",
   "metadata": {},
   "source": [
    "# Simulations Homework"
   ]
  },
  {
   "cell_type": "code",
   "execution_count": 2,
   "id": "f34a5b63-af93-4e46-98c1-2dce26f8ca4d",
   "metadata": {
    "tags": []
   },
   "outputs": [],
   "source": [
    "import numpy as np\n",
    "import seaborn as sns\n",
    "%matplotlib inline\n",
    "import matplotlib.pyplot as plt"
   ]
  },
  {
   "cell_type": "markdown",
   "id": "3b23da61-41c3-4d6a-a744-ff9a626069c1",
   "metadata": {},
   "source": [
    "---"
   ]
  },
  {
   "cell_type": "markdown",
   "id": "d97e5217-ce6d-4587-ba83-ba02e31f8a13",
   "metadata": {},
   "source": [
    "### Reset Generator Function"
   ]
  },
  {
   "cell_type": "markdown",
   "id": "597841fb-db36-4bee-a549-53b1e1dc63cc",
   "metadata": {},
   "source": [
    "If you didn't do so in class, write a function to reseed the numpy random number generator. It should default to setting the seed to 42, but be able to set it to whatever you want."
   ]
  },
  {
   "cell_type": "code",
   "execution_count": 3,
   "id": "b7ac98fe-a4f2-4594-ad1a-f444b7514d7f",
   "metadata": {
    "tags": []
   },
   "outputs": [],
   "source": [
    "def reset_rng(seed):\n",
    "    data = np.random.default_rng(seed)\n",
    "    \n",
    "    return data"
   ]
  },
  {
   "cell_type": "markdown",
   "id": "69cb00c5-c61d-4871-ba06-6a51c8ccf98d",
   "metadata": {},
   "source": [
    "Reset the generator using your function."
   ]
  },
  {
   "cell_type": "code",
   "execution_count": 4,
   "id": "0fb23323-4d70-4216-b714-14a3b6ad8a3b",
   "metadata": {
    "tags": []
   },
   "outputs": [],
   "source": [
    "rng = reset_rng(42)"
   ]
  },
  {
   "cell_type": "markdown",
   "id": "5a764d17-940a-47f6-8828-1cc680dc2af3",
   "metadata": {},
   "source": [
    "---"
   ]
  },
  {
   "cell_type": "markdown",
   "id": "5b3a92e1-43f0-4338-b3e0-637e7bb38123",
   "metadata": {},
   "source": [
    "### \"Accept Cookies\" Simulation"
   ]
  },
  {
   "cell_type": "markdown",
   "id": "8572a0ea-0590-4ec8-83fd-98b015e603cd",
   "metadata": {},
   "source": [
    "Assuming the base rate for hitting the \"Accept Cookies\" button when landing on a website is 85%, do a set of 10,000 simulations of 20 people visiting a given website and accepting cookies. "
   ]
  },
  {
   "cell_type": "code",
   "execution_count": 5,
   "id": "8f6760b8-3475-4cb7-999a-497ca14ac78b",
   "metadata": {
    "tags": []
   },
   "outputs": [],
   "source": [
    "p = 0.85\n",
    "n_ppl = 20\n",
    "n_sim = 10000\n",
    "\n",
    "accept_cookies = rng.binomial(n_ppl, p, n_sim)"
   ]
  },
  {
   "cell_type": "markdown",
   "id": "28f2cf31-7b22-4ee8-ba3f-c9b7ae70c14a",
   "metadata": {},
   "source": [
    "Based on your simulation, what is the probability of getting exactly 15 accepts? "
   ]
  },
  {
   "cell_type": "code",
   "execution_count": 6,
   "id": "e54d2b90-dc11-4a96-b7b0-3acc02671f53",
   "metadata": {
    "tags": []
   },
   "outputs": [
    {
     "data": {
      "text/plain": [
       "0.1"
      ]
     },
     "execution_count": 6,
     "metadata": {},
     "output_type": "execute_result"
    }
   ],
   "source": [
    "np.sum(accept_cookies == 15)/n_sim"
   ]
  },
  {
   "cell_type": "markdown",
   "id": "8db36c23-6ebe-4eea-8dd6-1730b5b35273",
   "metadata": {},
   "source": [
    "What is the probability of getting *at least* 15 accepts?"
   ]
  },
  {
   "cell_type": "code",
   "execution_count": 7,
   "id": "55375983-9ec5-4bfe-b132-63369da6c8e2",
   "metadata": {
    "tags": []
   },
   "outputs": [
    {
     "data": {
      "text/plain": [
       "0.9339"
      ]
     },
     "execution_count": 7,
     "metadata": {},
     "output_type": "execute_result"
    }
   ],
   "source": [
    "at_least_15 = np.sum(accept_cookies >= 15)/n_sim\n",
    "at_least_15"
   ]
  },
  {
   "cell_type": "markdown",
   "id": "f166851b-b73a-44a4-9617-f5af25c13755",
   "metadata": {},
   "source": [
    "What is the probability of getting fewer than 15 accepts?"
   ]
  },
  {
   "cell_type": "code",
   "execution_count": 8,
   "id": "1d68f209-89a0-467d-938c-14ccc50cae71",
   "metadata": {
    "tags": []
   },
   "outputs": [
    {
     "data": {
      "text/plain": [
       "0.0661"
      ]
     },
     "execution_count": 8,
     "metadata": {},
     "output_type": "execute_result"
    }
   ],
   "source": [
    "fewer_than_15 = np.sum(accept_cookies < 15)/n_sim\n",
    "fewer_than_15"
   ]
  },
  {
   "cell_type": "markdown",
   "id": "1cdb003d-5339-4bd9-a1ab-8de3e18ba06a",
   "metadata": {},
   "source": [
    "Confirm that the last two probabilities computed sum to 1.0."
   ]
  },
  {
   "cell_type": "code",
   "execution_count": 9,
   "id": "d3612c17-535b-4c81-92c4-f770c2d8a20e",
   "metadata": {
    "tags": []
   },
   "outputs": [
    {
     "data": {
      "text/plain": [
       "1.0"
      ]
     },
     "execution_count": 9,
     "metadata": {},
     "output_type": "execute_result"
    }
   ],
   "source": [
    "at_least_15 + fewer_than_15"
   ]
  },
  {
   "cell_type": "markdown",
   "id": "4df13455-708a-4d87-8f5a-208e6decc580",
   "metadata": {},
   "source": [
    "---"
   ]
  },
  {
   "cell_type": "markdown",
   "id": "c3403027-73a8-49e0-a56b-22b6f8bdcbda",
   "metadata": {},
   "source": [
    "### What Is and Isn't Binomial?"
   ]
  },
  {
   "cell_type": "markdown",
   "id": "fc87017c-ffbf-408f-ae02-21ed695307de",
   "metadata": {},
   "source": [
    "Check the binomial approximation for the election simulations from the in-class notebook for the cases in which we did and didn't account for the poll-to-poll variability arising from a single poll."
   ]
  },
  {
   "cell_type": "markdown",
   "id": "edd9efc5-ebdb-4265-b30a-fa0b1888a90b",
   "metadata": {},
   "source": [
    "What is the expected standard deviation for our distribution of election outcomes based on the normal approximation?"
   ]
  },
  {
   "cell_type": "code",
   "execution_count": 10,
   "id": "97620e0c-8b48-4f41-a531-65b4ba96180b",
   "metadata": {
    "tags": []
   },
   "outputs": [
    {
     "data": {
      "text/plain": [
       "158.082257068907"
      ]
     },
     "execution_count": 10,
     "metadata": {},
     "output_type": "execute_result"
    }
   ],
   "source": [
    "n_voters = 100000\n",
    "p_A_win = 0.51\n",
    "\n",
    "sd = np.sqrt(n_voters * p_A_win * (1-p_A_win))\n",
    "sd"
   ]
  },
  {
   "cell_type": "markdown",
   "id": "39783e34-4418-4e5a-b7da-3439e13aac48",
   "metadata": {},
   "source": [
    "What was the empirical standard deviation of the distribution of election outcomes when we only used a single probability? (\"*single poll, many elections*\")\n",
    "\n",
    "(You can just copy and paste the code from the in-class notebook to regenerate the simulated election outcomes.)"
   ]
  },
  {
   "cell_type": "code",
   "execution_count": 11,
   "id": "71f95652-b207-4517-8e2f-e7ac0bd12d90",
   "metadata": {
    "tags": []
   },
   "outputs": [],
   "source": [
    "n_voters = 100000\n",
    "p_A_win = 0.51\n",
    "n_experiments = 20000\n",
    "\n",
    "votes_for_a = rng.binomial(n_voters, p_A_win, n_experiments)"
   ]
  },
  {
   "cell_type": "code",
   "execution_count": 12,
   "id": "ee8985d6-c5f6-4dd4-802d-ab7de57971c5",
   "metadata": {
    "tags": []
   },
   "outputs": [
    {
     "data": {
      "text/plain": [
       "158.09579697100583"
      ]
     },
     "execution_count": 12,
     "metadata": {},
     "output_type": "execute_result"
    }
   ],
   "source": [
    "singlePoll_sd = np.std(votes_for_a)\n",
    "singlePoll_sd"
   ]
  },
  {
   "cell_type": "markdown",
   "id": "c3d5fa8e-2c95-401c-adfa-e3e584f41e03",
   "metadata": {},
   "source": [
    "What was the empirical standard deviation of the distribution of election outcomes when we accounted for random variation in poll outcomes in our simulation? (\"*simulate poll -> simulate election*\")"
   ]
  },
  {
   "cell_type": "code",
   "execution_count": 13,
   "id": "8174afa5-5d22-434c-bea5-696cb46c0e44",
   "metadata": {
    "tags": []
   },
   "outputs": [],
   "source": [
    "p = 0.51\n",
    "n = 2000\n",
    "n_sim = 20000\n",
    "\n",
    "vote_A = rng.binomial(n, p, n_sim)\n",
    "\n",
    "prob_vote_A = vote_A/n\n",
    "\n",
    "new_turnout = 100000\n",
    "\n",
    "vote_A_election = rng.binomial(new_turnout, p = prob_vote_A, size = n_sim)"
   ]
  },
  {
   "cell_type": "code",
   "execution_count": 14,
   "id": "eca69a9b-1023-4b27-b87e-2991175a1c0f",
   "metadata": {
    "tags": []
   },
   "outputs": [
    {
     "data": {
      "text/plain": [
       "1123.588999968654"
      ]
     },
     "execution_count": 14,
     "metadata": {},
     "output_type": "execute_result"
    }
   ],
   "source": [
    "simulatePoll_sd = np.std(vote_A_election)\n",
    "simulatePoll_sd"
   ]
  },
  {
   "cell_type": "markdown",
   "id": "51ecbf00-1175-4fee-ae75-76441e3d28d7",
   "metadata": {},
   "source": [
    "---"
   ]
  },
  {
   "cell_type": "markdown",
   "id": "e230bf1e-821f-4343-a0f4-127c7c32d90b",
   "metadata": {},
   "source": [
    "### Effect of Poll Sample Size"
   ]
  },
  {
   "cell_type": "markdown",
   "id": "7ddf5ef1-1547-4116-ab9c-6dd37ff2e8f5",
   "metadata": {},
   "source": [
    "As you have probably realized, these distributions of outcomes from many experiments we've been generating are, by definition, ***sampling distributions***! One firm law about sampling distributions is that their width depends strongly on sample size. As such, we would expect our simulated election outcomes to be affected by the size of the poll on which they are based."
   ]
  },
  {
   "cell_type": "markdown",
   "id": "f188922e-6f5f-44cd-b380-e2e6d63598a8",
   "metadata": {},
   "source": [
    "In the cell below, run the *simulate poll -> simulate elections* code for poll sample sizes of 50, 100, 500, 1000, 2000 and 5000. For each sample size, record the obtained standard deviation of the distribution of outcomes. (pro tip: make a new code cell below and put them in a Python list)"
   ]
  },
  {
   "cell_type": "code",
   "execution_count": 15,
   "id": "d18e55ff-b729-4076-940b-b4080544aa47",
   "metadata": {
    "tags": []
   },
   "outputs": [],
   "source": [
    " # reset generator\n",
    "rng = reset_rng(42)"
   ]
  },
  {
   "cell_type": "code",
   "execution_count": 16,
   "id": "494cbe17-6eca-4d86-ae2d-6893da1490a2",
   "metadata": {
    "tags": []
   },
   "outputs": [],
   "source": [
    " # simulate\n",
    "p = 0.51\n",
    "n = [50, 100, 500, 1000, 2000, 5000]\n",
    "n_sim = 20000\n",
    "\n",
    "new_turnout = 100000\n",
    "\n",
    "stds = []\n",
    "\n",
    "for i in range(len(n)):\n",
    "    vote_A = rng.binomial(n[i], p, n_sim)\n",
    "    prob_vote_A = vote_A/n[i]\n",
    "    vote_A_election = rng.binomial(new_turnout, p = prob_vote_A, size = n_sim)\n",
    "    elec_std = np.std(vote_A_election)\n",
    "    stds.append(elec_std)"
   ]
  },
  {
   "cell_type": "code",
   "execution_count": 17,
   "id": "d8219bf3-54bf-4987-ad93-f1d0e522e891",
   "metadata": {
    "tags": []
   },
   "outputs": [
    {
     "data": {
      "text/plain": [
       "[7088.501063801182,\n",
       " 4977.141265720489,\n",
       " 2239.742277342864,\n",
       " 1584.9314488554735,\n",
       " 1123.7839002359117,\n",
       " 725.195322015688]"
      ]
     },
     "execution_count": 17,
     "metadata": {},
     "output_type": "execute_result"
    }
   ],
   "source": [
    "stds"
   ]
  },
  {
   "cell_type": "markdown",
   "id": "e82dfe93-8f72-4d8d-a46d-191c01726957",
   "metadata": {},
   "source": [
    "Make a plot of standard deviation of outcomes (y-axis) vs. poll sample size (x-axis)."
   ]
  },
  {
   "cell_type": "code",
   "execution_count": 181,
   "id": "9a643a19-523b-4e52-8222-002efb96e5c9",
   "metadata": {
    "tags": []
   },
   "outputs": [
    {
     "data": {
      "image/png": "[encoded data removed]",
      "text/plain": [
       "<Figure size 640x480 with 1 Axes>"
      ]
     },
     "metadata": {},
     "output_type": "display_data"
    }
   ],
   "source": [
    "sns.scatterplot(x = n, y = stds);"
   ]
  },
  {
   "cell_type": "markdown",
   "id": "f2a59a35-6a2b-4277-9e5b-eb89e2f18fe7",
   "metadata": {},
   "source": [
    "Based on this plot, why do you think almost all polls sample around 2000 people?"
   ]
  },
  {
   "cell_type": "markdown",
   "id": "c9d363de-8270-4736-b9f9-628494ce5ccb",
   "metadata": {},
   "source": [
    "A poll sample of around 2000 people produces less variability in poll results than a sample of less than 2000 people. Furthermore, there is slim variability between sampling 2000 people and 5000 people, so it is unnecessary to sample more than around 2000 people."
   ]
  },
  {
   "cell_type": "markdown",
   "id": "8227f5e6-c746-4ef8-b817-28cf4870a58e",
   "metadata": {},
   "source": [
    "---"
   ]
  },
  {
   "cell_type": "markdown",
   "id": "e0c9647c-d50d-43a8-93f4-dd332fadb3fb",
   "metadata": {},
   "source": [
    "### Re-Write the Multi-Poll Code "
   ]
  },
  {
   "cell_type": "markdown",
   "id": "836aece6-18f9-4210-82e0-b0c9b77eaea5",
   "metadata": {},
   "source": [
    "The code for combining three polls using a weighted average works, but it is awkward. Changing it to handle a different number of polls would involve lots of copying and pasting and mistake-prone editing.\n",
    "\n",
    "Make the code \"Pythonic\" so that all you have to do is provide a list (or tuple) of poll results and another for poll weights, and your code will do the rest. \n",
    "\n",
    "Your code can be just code in a code cell. But if you're feeling spicy, you could make it a function!"
   ]
  },
  {
   "cell_type": "code",
   "execution_count": 18,
   "id": "dbc1f29b-ceae-4f9b-b451-93e7b8c5a66f",
   "metadata": {
    "tags": []
   },
   "outputs": [
    {
     "data": {
      "text/plain": [
       "array([41993.44444444, 42725.77777778, 44573.        , ...,\n",
       "       42626.66666667, 43085.55555556, 42090.66666667])"
      ]
     },
     "execution_count": 18,
     "metadata": {},
     "output_type": "execute_result"
    }
   ],
   "source": [
    "polls = [0.53, 0.31, 0.515]\n",
    "weights = [2, 4, 3]\n",
    "\n",
    "sum_of_w = np.sum(weights)\n",
    "samp_sz = 2000                       \n",
    "n_sims = 20000 \n",
    "n_voters = 100000 \n",
    "\n",
    "all_poll_results = []\n",
    "all_poll_probs = []\n",
    "all_elec_results = []\n",
    "\n",
    "for i in range(len(polls)): \n",
    "    individual_poll_results = rng.binomial(samp_sz, polls[i], n_sims)\n",
    "    all_poll_results.append(individual_poll_results)\n",
    "\n",
    "    individual_poll_probs = all_poll_results[i]/samp_sz\n",
    "    all_poll_probs.append(individual_poll_probs)\n",
    "\n",
    "    individual_elec_results = rng.binomial(n_voters, all_poll_probs[i], n_sims)\n",
    "    all_elec_results.append(individual_elec_results)\n",
    "\n",
    "all_weighted_results = []\n",
    "\n",
    "for i in range(len(weights)):\n",
    "    weighted_results = weights[i] * all_elec_results[i]\n",
    "    all_weighted_results.append(weighted_results)\n",
    "\n",
    "    final_elec_results = np.sum(all_weighted_results, axis=0) / sum_of_w\n",
    "\n",
    "final_elec_results"
   ]
  },
  {
   "cell_type": "markdown",
   "id": "9ec6a4ce-eb9c-46d0-bbaa-b62b7c431ce9",
   "metadata": {},
   "source": [
    "---"
   ]
  },
  {
   "cell_type": "markdown",
   "id": "89d80d36-5741-4534-89ca-e5c01480efb0",
   "metadata": {},
   "source": [
    "### Weight polls by sample size"
   ]
  },
  {
   "cell_type": "markdown",
   "id": "2edd7fa0-48ff-44bd-bdc5-1a0ca9e1b660",
   "metadata": {},
   "source": [
    "Use your new code to compute predicted election outcomes based on 5 polls weighted by the sample sizes of the polls (or their square root, if you prefer – wink wink, nudge nudge). The polls are as follows:\n",
    "\n",
    "`poll_ests = [.51, .55, .53, .49, 0.50]`\n",
    "\n",
    "`poll_samp_szs = [2000, 1000, 1500, 1200, 1142]`"
   ]
  },
  {
   "cell_type": "code",
   "execution_count": 19,
   "id": "19cad17b-ca5c-45c8-9e40-a4f68674abaf",
   "metadata": {
    "tags": []
   },
   "outputs": [
    {
     "data": {
      "text/plain": [
       "51547.946270129694"
      ]
     },
     "execution_count": 19,
     "metadata": {},
     "output_type": "execute_result"
    }
   ],
   "source": [
    "poll_ests = [.51, .55, .53, .49, 0.50]\n",
    "poll_samp_szs = [2000, 1000, 1500, 1200, 1142]\n",
    "\n",
    "weights = np.sqrt(poll_samp_szs)\n",
    "\n",
    "sum_of_w = np.sum(weights)\n",
    "n_sims = 20000 \n",
    "n_voters = 100000 \n",
    "\n",
    "all_poll_results = []\n",
    "all_poll_probs = []\n",
    "all_elec_results = []\n",
    "\n",
    "for i in range(len(poll_ests)): \n",
    "    individual_poll_results = rng.binomial(poll_samp_szs[i], poll_ests[i], n_sims)\n",
    "    all_poll_results.append(individual_poll_results)\n",
    "\n",
    "    individual_poll_probs = all_poll_results[i]/poll_samp_szs[i]\n",
    "    all_poll_probs.append(individual_poll_probs)\n",
    "\n",
    "    individual_elec_results = rng.binomial(n_voters, all_poll_probs[i], n_sims)\n",
    "    all_elec_results.append(individual_elec_results)\n",
    "\n",
    "all_weighted_results = []\n",
    "\n",
    "for i in range(len(weights)):\n",
    "    weighted_results = weights[i] * all_elec_results[i]\n",
    "    all_weighted_results.append(weighted_results)\n",
    "\n",
    "    final_elec_results = np.sum(all_weighted_results, axis=0) / sum_of_w\n",
    "\n",
    "\n",
    "np.mean(final_elec_results)"
   ]
  },
  {
   "cell_type": "markdown",
   "id": "2e70676f-b6ef-42c3-9b25-10243fc14de0",
   "metadata": {},
   "source": [
    "Make a plot of the distribution of simulated outcomes, with the area representing the underdog winning highlighted."
   ]
  },
  {
   "cell_type": "code",
   "execution_count": 22,
   "id": "45e95290-3af2-486d-bfac-00d3f577e477",
   "metadata": {
    "tags": []
   },
   "outputs": [
    {
     "data": {
      "image/png": "[encoded data removed]",
      "text/plain": [
       "<Figure size 640x480 with 1 Axes>"
      ]
     },
     "metadata": {},
     "output_type": "display_data"
    }
   ],
   "source": [
    "threshold = 0.5 * n_voters\n",
    "\n",
    "# histogram bins and counts\n",
    "count, bins = np.histogram(final_elec_results, bins=20) # Get the histog\n",
    "bin_width = bins[1] - bins[0]\n",
    "bin_center = bins[:-1] + bin_width/2\n",
    "\n",
    "plt.bar(bin_center, count,\n",
    "        width=bin_width, color='b', edgecolor='k', alpha = 0.3, label = \"Candidate A wins\")\n",
    "plt.bar(bin_center[bin_center < threshold], count[bin_center < threshold],\n",
    "        width=bin_width, color='r', edgecolor='k', alpha=0.5, label = \"Candidate B wins\")\n",
    "\n",
    "plt.xlabel('Votes')\n",
    "plt.ylabel('Count')\n",
    "plt.title('Distribution of Votes for Election')\n",
    "plt.legend();"
   ]
  },
  {
   "cell_type": "markdown",
   "id": "9d5a64db-35c5-42a8-ab25-568ad6cf4318",
   "metadata": {},
   "source": [
    "---"
   ]
  },
  {
   "cell_type": "markdown",
   "id": "95047b80-a313-440c-bc6f-f0ccceac32d4",
   "metadata": {},
   "source": [
    "Bonus (totally optional): \n",
    "Write your own function, `my_binom()` that does the same thing as `rng.binomial()`. The function should use `rng.random()` internally. To the user, it should behave just like `rng.binomial()`!"
   ]
  },
  {
   "cell_type": "markdown",
   "id": "60c3f997-f252-4acd-a847-37e726660abf",
   "metadata": {},
   "source": [
    "---"
   ]
  }
 ],
 "metadata": {
  "kernelspec": {
   "display_name": "Python 3 (ipykernel)",
   "language": "python",
   "name": "python3"
  },
  "language_info": {
   "codemirror_mode": {
    "name": "ipython",
    "version": 3
   },
   "file_extension": ".py",
   "mimetype": "text/x-python",
   "name": "python",
   "nbconvert_exporter": "python",
   "pygments_lexer": "ipython3",
   "version": "3.11.5"
  }
 },
 "nbformat": 4,
 "nbformat_minor": 5
}
